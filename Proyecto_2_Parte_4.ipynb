{
  "nbformat": 4,
  "nbformat_minor": 0,
  "metadata": {
    "colab": {
      "provenance": [],
      "authorship_tag": "ABX9TyNi4oWK+Nzlgm81CgshGxvD",
      "include_colab_link": true
    },
    "kernelspec": {
      "name": "python3",
      "display_name": "Python 3"
    },
    "language_info": {
      "name": "python"
    }
  },
  "cells": [
    {
      "cell_type": "markdown",
      "metadata": {
        "id": "view-in-github",
        "colab_type": "text"
      },
      "source": [
        "<a href=\"https://colab.research.google.com/github/gsalgadod/Mobile-Prices/blob/main/Proyecto_2_Parte_4.ipynb\" target=\"_parent\"><img src=\"https://colab.research.google.com/assets/colab-badge.svg\" alt=\"Open In Colab\"/></a>"
      ]
    },
    {
      "cell_type": "markdown",
      "source": [
        "#Presentación del Problema\n",
        "\n",
        "En este segundo proyecto se trabajará con un dataset con información sobre celulares. En particular, se cuenta con información sobre los diferentes componentes de un grupo de celulares. Se busca realizar un modelo de Machine Learning que permita clasificar el rango de precio de los diferentes tipos de celulares con base en sus componentes internos y sus especificaciones.\n",
        "\n",
        "El conjunto de datos se obtiene de Kaggle en el siguiente link: [Mobile Price Classification](https://www.kaggle.com/datasets/iabhishekofficial/mobile-price-classification?resource=download)\n",
        "\n",
        "Para este proyecto se trabajará con dos datasets, uno de estos tiene un rango de precios para cada uno de los celulares y el otro no cuenta con esta columna. La idea principal es utilizar el primer dataset para la creación y ajuste de una serie de modelos de clasificación, posteriormente se elige el modelo final y se utiliza en el segundo dataset para la predicción de los valores."
      ],
      "metadata": {
        "id": "hOLpq-aglkmc"
      }
    },
    {
      "cell_type": "markdown",
      "source": [
        "##Diccionario de datos"
      ],
      "metadata": {
        "id": "ytnqKW_gQggG"
      }
    },
    {
      "cell_type": "markdown",
      "source": [
        "##Carga y limpieza de datos"
      ],
      "metadata": {
        "id": "1yodlh0PQO6w"
      }
    },
    {
      "cell_type": "code",
      "execution_count": 1,
      "metadata": {
        "id": "HhVlhuNMk3gV"
      },
      "outputs": [],
      "source": [
        "#Librerías\n",
        "import pandas as pd\n",
        "import numpy as np\n",
        "import datetime as dt\n",
        "import matplotlib.pyplot as plt\n",
        "import seaborn as sns\n",
        "import tensorflow as tf\n",
        "\n",
        "from sklearn.preprocessing import StandardScaler, OneHotEncoder\n",
        "from sklearn.impute import SimpleImputer\n",
        "from sklearn.compose import make_column_transformer, make_column_selector\n",
        "from sklearn.pipeline import make_pipeline\n",
        "from sklearn.model_selection import train_test_split, GridSearchCV\n",
        "from sklearn import set_config\n",
        "set_config(display='diagram')\n",
        "from tensorflow.keras.utils import to_categorical\n",
        "from xgboost import XGBClassifier\n",
        "from sklearn.feature_selection import RFECV\n",
        "from sklearn.metrics import classification_report, accuracy_score\n",
        "from tensorflow.keras.models import Sequential\n",
        "from tensorflow.keras.layers import Dense, Dropout\n",
        "tf.config.run_functions_eagerly(True)\n",
        "from tensorflow.keras.callbacks import EarlyStopping"
      ]
    },
    {
      "cell_type": "code",
      "source": [
        "#Drive\n",
        "from google.colab import drive\n",
        "drive.mount('/content/drive')"
      ],
      "metadata": {
        "colab": {
          "base_uri": "https://localhost:8080/"
        },
        "id": "RlrIBXsMmGXm",
        "outputId": "45d4fd60-b6fe-450e-a76d-5a7691c04cf9"
      },
      "execution_count": 2,
      "outputs": [
        {
          "output_type": "stream",
          "name": "stdout",
          "text": [
            "Mounted at /content/drive\n"
          ]
        }
      ]
    },
    {
      "cell_type": "code",
      "source": [
        "#Carga de datos\n",
        "filename = \"/content/drive/MyDrive/Coding Dojo/Data Frames/Mobile Prices Train.csv\"\n",
        "df = pd.read_csv(filename)\n",
        "df.head()"
      ],
      "metadata": {
        "colab": {
          "base_uri": "https://localhost:8080/",
          "height": 236
        },
        "id": "g6InFQ_empZU",
        "outputId": "3ba01f50-5e10-49b4-e172-8469193945c6"
      },
      "execution_count": 3,
      "outputs": [
        {
          "output_type": "execute_result",
          "data": {
            "text/plain": [
              "   battery_power  blue  clock_speed  dual_sim  fc  four_g  int_memory  m_dep  \\\n",
              "0            842     0          2.2         0   1       0           7    0.6   \n",
              "1           1021     1          0.5         1   0       1          53    0.7   \n",
              "2            563     1          0.5         1   2       1          41    0.9   \n",
              "3            615     1          2.5         0   0       0          10    0.8   \n",
              "4           1821     1          1.2         0  13       1          44    0.6   \n",
              "\n",
              "   mobile_wt  n_cores  ...  px_height  px_width   ram  sc_h  sc_w  talk_time  \\\n",
              "0        188        2  ...         20       756  2549     9     7         19   \n",
              "1        136        3  ...        905      1988  2631    17     3          7   \n",
              "2        145        5  ...       1263      1716  2603    11     2          9   \n",
              "3        131        6  ...       1216      1786  2769    16     8         11   \n",
              "4        141        2  ...       1208      1212  1411     8     2         15   \n",
              "\n",
              "   three_g  touch_screen  wifi  price_range  \n",
              "0        0             0     1            1  \n",
              "1        1             1     0            2  \n",
              "2        1             1     0            2  \n",
              "3        1             0     0            2  \n",
              "4        1             1     0            1  \n",
              "\n",
              "[5 rows x 21 columns]"
            ],
            "text/html": [
              "\n",
              "  <div id=\"df-314e7cfc-6401-4e2d-8179-989c1be6a5cb\">\n",
              "    <div class=\"colab-df-container\">\n",
              "      <div>\n",
              "<style scoped>\n",
              "    .dataframe tbody tr th:only-of-type {\n",
              "        vertical-align: middle;\n",
              "    }\n",
              "\n",
              "    .dataframe tbody tr th {\n",
              "        vertical-align: top;\n",
              "    }\n",
              "\n",
              "    .dataframe thead th {\n",
              "        text-align: right;\n",
              "    }\n",
              "</style>\n",
              "<table border=\"1\" class=\"dataframe\">\n",
              "  <thead>\n",
              "    <tr style=\"text-align: right;\">\n",
              "      <th></th>\n",
              "      <th>battery_power</th>\n",
              "      <th>blue</th>\n",
              "      <th>clock_speed</th>\n",
              "      <th>dual_sim</th>\n",
              "      <th>fc</th>\n",
              "      <th>four_g</th>\n",
              "      <th>int_memory</th>\n",
              "      <th>m_dep</th>\n",
              "      <th>mobile_wt</th>\n",
              "      <th>n_cores</th>\n",
              "      <th>...</th>\n",
              "      <th>px_height</th>\n",
              "      <th>px_width</th>\n",
              "      <th>ram</th>\n",
              "      <th>sc_h</th>\n",
              "      <th>sc_w</th>\n",
              "      <th>talk_time</th>\n",
              "      <th>three_g</th>\n",
              "      <th>touch_screen</th>\n",
              "      <th>wifi</th>\n",
              "      <th>price_range</th>\n",
              "    </tr>\n",
              "  </thead>\n",
              "  <tbody>\n",
              "    <tr>\n",
              "      <th>0</th>\n",
              "      <td>842</td>\n",
              "      <td>0</td>\n",
              "      <td>2.2</td>\n",
              "      <td>0</td>\n",
              "      <td>1</td>\n",
              "      <td>0</td>\n",
              "      <td>7</td>\n",
              "      <td>0.6</td>\n",
              "      <td>188</td>\n",
              "      <td>2</td>\n",
              "      <td>...</td>\n",
              "      <td>20</td>\n",
              "      <td>756</td>\n",
              "      <td>2549</td>\n",
              "      <td>9</td>\n",
              "      <td>7</td>\n",
              "      <td>19</td>\n",
              "      <td>0</td>\n",
              "      <td>0</td>\n",
              "      <td>1</td>\n",
              "      <td>1</td>\n",
              "    </tr>\n",
              "    <tr>\n",
              "      <th>1</th>\n",
              "      <td>1021</td>\n",
              "      <td>1</td>\n",
              "      <td>0.5</td>\n",
              "      <td>1</td>\n",
              "      <td>0</td>\n",
              "      <td>1</td>\n",
              "      <td>53</td>\n",
              "      <td>0.7</td>\n",
              "      <td>136</td>\n",
              "      <td>3</td>\n",
              "      <td>...</td>\n",
              "      <td>905</td>\n",
              "      <td>1988</td>\n",
              "      <td>2631</td>\n",
              "      <td>17</td>\n",
              "      <td>3</td>\n",
              "      <td>7</td>\n",
              "      <td>1</td>\n",
              "      <td>1</td>\n",
              "      <td>0</td>\n",
              "      <td>2</td>\n",
              "    </tr>\n",
              "    <tr>\n",
              "      <th>2</th>\n",
              "      <td>563</td>\n",
              "      <td>1</td>\n",
              "      <td>0.5</td>\n",
              "      <td>1</td>\n",
              "      <td>2</td>\n",
              "      <td>1</td>\n",
              "      <td>41</td>\n",
              "      <td>0.9</td>\n",
              "      <td>145</td>\n",
              "      <td>5</td>\n",
              "      <td>...</td>\n",
              "      <td>1263</td>\n",
              "      <td>1716</td>\n",
              "      <td>2603</td>\n",
              "      <td>11</td>\n",
              "      <td>2</td>\n",
              "      <td>9</td>\n",
              "      <td>1</td>\n",
              "      <td>1</td>\n",
              "      <td>0</td>\n",
              "      <td>2</td>\n",
              "    </tr>\n",
              "    <tr>\n",
              "      <th>3</th>\n",
              "      <td>615</td>\n",
              "      <td>1</td>\n",
              "      <td>2.5</td>\n",
              "      <td>0</td>\n",
              "      <td>0</td>\n",
              "      <td>0</td>\n",
              "      <td>10</td>\n",
              "      <td>0.8</td>\n",
              "      <td>131</td>\n",
              "      <td>6</td>\n",
              "      <td>...</td>\n",
              "      <td>1216</td>\n",
              "      <td>1786</td>\n",
              "      <td>2769</td>\n",
              "      <td>16</td>\n",
              "      <td>8</td>\n",
              "      <td>11</td>\n",
              "      <td>1</td>\n",
              "      <td>0</td>\n",
              "      <td>0</td>\n",
              "      <td>2</td>\n",
              "    </tr>\n",
              "    <tr>\n",
              "      <th>4</th>\n",
              "      <td>1821</td>\n",
              "      <td>1</td>\n",
              "      <td>1.2</td>\n",
              "      <td>0</td>\n",
              "      <td>13</td>\n",
              "      <td>1</td>\n",
              "      <td>44</td>\n",
              "      <td>0.6</td>\n",
              "      <td>141</td>\n",
              "      <td>2</td>\n",
              "      <td>...</td>\n",
              "      <td>1208</td>\n",
              "      <td>1212</td>\n",
              "      <td>1411</td>\n",
              "      <td>8</td>\n",
              "      <td>2</td>\n",
              "      <td>15</td>\n",
              "      <td>1</td>\n",
              "      <td>1</td>\n",
              "      <td>0</td>\n",
              "      <td>1</td>\n",
              "    </tr>\n",
              "  </tbody>\n",
              "</table>\n",
              "<p>5 rows × 21 columns</p>\n",
              "</div>\n",
              "      <button class=\"colab-df-convert\" onclick=\"convertToInteractive('df-314e7cfc-6401-4e2d-8179-989c1be6a5cb')\"\n",
              "              title=\"Convert this dataframe to an interactive table.\"\n",
              "              style=\"display:none;\">\n",
              "        \n",
              "  <svg xmlns=\"http://www.w3.org/2000/svg\" height=\"24px\"viewBox=\"0 0 24 24\"\n",
              "       width=\"24px\">\n",
              "    <path d=\"M0 0h24v24H0V0z\" fill=\"none\"/>\n",
              "    <path d=\"M18.56 5.44l.94 2.06.94-2.06 2.06-.94-2.06-.94-.94-2.06-.94 2.06-2.06.94zm-11 1L8.5 8.5l.94-2.06 2.06-.94-2.06-.94L8.5 2.5l-.94 2.06-2.06.94zm10 10l.94 2.06.94-2.06 2.06-.94-2.06-.94-.94-2.06-.94 2.06-2.06.94z\"/><path d=\"M17.41 7.96l-1.37-1.37c-.4-.4-.92-.59-1.43-.59-.52 0-1.04.2-1.43.59L10.3 9.45l-7.72 7.72c-.78.78-.78 2.05 0 2.83L4 21.41c.39.39.9.59 1.41.59.51 0 1.02-.2 1.41-.59l7.78-7.78 2.81-2.81c.8-.78.8-2.07 0-2.86zM5.41 20L4 18.59l7.72-7.72 1.47 1.35L5.41 20z\"/>\n",
              "  </svg>\n",
              "      </button>\n",
              "      \n",
              "  <style>\n",
              "    .colab-df-container {\n",
              "      display:flex;\n",
              "      flex-wrap:wrap;\n",
              "      gap: 12px;\n",
              "    }\n",
              "\n",
              "    .colab-df-convert {\n",
              "      background-color: #E8F0FE;\n",
              "      border: none;\n",
              "      border-radius: 50%;\n",
              "      cursor: pointer;\n",
              "      display: none;\n",
              "      fill: #1967D2;\n",
              "      height: 32px;\n",
              "      padding: 0 0 0 0;\n",
              "      width: 32px;\n",
              "    }\n",
              "\n",
              "    .colab-df-convert:hover {\n",
              "      background-color: #E2EBFA;\n",
              "      box-shadow: 0px 1px 2px rgba(60, 64, 67, 0.3), 0px 1px 3px 1px rgba(60, 64, 67, 0.15);\n",
              "      fill: #174EA6;\n",
              "    }\n",
              "\n",
              "    [theme=dark] .colab-df-convert {\n",
              "      background-color: #3B4455;\n",
              "      fill: #D2E3FC;\n",
              "    }\n",
              "\n",
              "    [theme=dark] .colab-df-convert:hover {\n",
              "      background-color: #434B5C;\n",
              "      box-shadow: 0px 1px 3px 1px rgba(0, 0, 0, 0.15);\n",
              "      filter: drop-shadow(0px 1px 2px rgba(0, 0, 0, 0.3));\n",
              "      fill: #FFFFFF;\n",
              "    }\n",
              "  </style>\n",
              "\n",
              "      <script>\n",
              "        const buttonEl =\n",
              "          document.querySelector('#df-314e7cfc-6401-4e2d-8179-989c1be6a5cb button.colab-df-convert');\n",
              "        buttonEl.style.display =\n",
              "          google.colab.kernel.accessAllowed ? 'block' : 'none';\n",
              "\n",
              "        async function convertToInteractive(key) {\n",
              "          const element = document.querySelector('#df-314e7cfc-6401-4e2d-8179-989c1be6a5cb');\n",
              "          const dataTable =\n",
              "            await google.colab.kernel.invokeFunction('convertToInteractive',\n",
              "                                                     [key], {});\n",
              "          if (!dataTable) return;\n",
              "\n",
              "          const docLinkHtml = 'Like what you see? Visit the ' +\n",
              "            '<a target=\"_blank\" href=https://colab.research.google.com/notebooks/data_table.ipynb>data table notebook</a>'\n",
              "            + ' to learn more about interactive tables.';\n",
              "          element.innerHTML = '';\n",
              "          dataTable['output_type'] = 'display_data';\n",
              "          await google.colab.output.renderOutput(dataTable, element);\n",
              "          const docLink = document.createElement('div');\n",
              "          docLink.innerHTML = docLinkHtml;\n",
              "          element.appendChild(docLink);\n",
              "        }\n",
              "      </script>\n",
              "    </div>\n",
              "  </div>\n",
              "  "
            ]
          },
          "metadata": {},
          "execution_count": 3
        }
      ]
    },
    {
      "cell_type": "code",
      "source": [
        "df.info()"
      ],
      "metadata": {
        "colab": {
          "base_uri": "https://localhost:8080/"
        },
        "id": "WYts7M2tnIha",
        "outputId": "c1b4fd4c-7e34-4145-b8a2-e374923136ae"
      },
      "execution_count": 4,
      "outputs": [
        {
          "output_type": "stream",
          "name": "stdout",
          "text": [
            "<class 'pandas.core.frame.DataFrame'>\n",
            "RangeIndex: 2000 entries, 0 to 1999\n",
            "Data columns (total 21 columns):\n",
            " #   Column         Non-Null Count  Dtype  \n",
            "---  ------         --------------  -----  \n",
            " 0   battery_power  2000 non-null   int64  \n",
            " 1   blue           2000 non-null   int64  \n",
            " 2   clock_speed    2000 non-null   float64\n",
            " 3   dual_sim       2000 non-null   int64  \n",
            " 4   fc             2000 non-null   int64  \n",
            " 5   four_g         2000 non-null   int64  \n",
            " 6   int_memory     2000 non-null   int64  \n",
            " 7   m_dep          2000 non-null   float64\n",
            " 8   mobile_wt      2000 non-null   int64  \n",
            " 9   n_cores        2000 non-null   int64  \n",
            " 10  pc             2000 non-null   int64  \n",
            " 11  px_height      2000 non-null   int64  \n",
            " 12  px_width       2000 non-null   int64  \n",
            " 13  ram            2000 non-null   int64  \n",
            " 14  sc_h           2000 non-null   int64  \n",
            " 15  sc_w           2000 non-null   int64  \n",
            " 16  talk_time      2000 non-null   int64  \n",
            " 17  three_g        2000 non-null   int64  \n",
            " 18  touch_screen   2000 non-null   int64  \n",
            " 19  wifi           2000 non-null   int64  \n",
            " 20  price_range    2000 non-null   int64  \n",
            "dtypes: float64(2), int64(19)\n",
            "memory usage: 328.2 KB\n"
          ]
        }
      ]
    },
    {
      "cell_type": "markdown",
      "source": [
        "Se aprecia que el dataset estudiado presenta 21 columnas con 2000 filas. No se tienen valores nulos."
      ],
      "metadata": {
        "id": "-82jGkPyQpxa"
      }
    },
    {
      "cell_type": "code",
      "source": [
        "df.describe()"
      ],
      "metadata": {
        "colab": {
          "base_uri": "https://localhost:8080/",
          "height": 394
        },
        "id": "P0S_S1ZA6nqJ",
        "outputId": "a780c9da-a2b3-46d9-ccde-1bb8da3e737d"
      },
      "execution_count": 5,
      "outputs": [
        {
          "output_type": "execute_result",
          "data": {
            "text/plain": [
              "       battery_power       blue  clock_speed     dual_sim           fc  \\\n",
              "count    2000.000000  2000.0000  2000.000000  2000.000000  2000.000000   \n",
              "mean     1238.518500     0.4950     1.522250     0.509500     4.309500   \n",
              "std       439.418206     0.5001     0.816004     0.500035     4.341444   \n",
              "min       501.000000     0.0000     0.500000     0.000000     0.000000   \n",
              "25%       851.750000     0.0000     0.700000     0.000000     1.000000   \n",
              "50%      1226.000000     0.0000     1.500000     1.000000     3.000000   \n",
              "75%      1615.250000     1.0000     2.200000     1.000000     7.000000   \n",
              "max      1998.000000     1.0000     3.000000     1.000000    19.000000   \n",
              "\n",
              "            four_g   int_memory        m_dep    mobile_wt      n_cores  ...  \\\n",
              "count  2000.000000  2000.000000  2000.000000  2000.000000  2000.000000  ...   \n",
              "mean      0.521500    32.046500     0.501750   140.249000     4.520500  ...   \n",
              "std       0.499662    18.145715     0.288416    35.399655     2.287837  ...   \n",
              "min       0.000000     2.000000     0.100000    80.000000     1.000000  ...   \n",
              "25%       0.000000    16.000000     0.200000   109.000000     3.000000  ...   \n",
              "50%       1.000000    32.000000     0.500000   141.000000     4.000000  ...   \n",
              "75%       1.000000    48.000000     0.800000   170.000000     7.000000  ...   \n",
              "max       1.000000    64.000000     1.000000   200.000000     8.000000  ...   \n",
              "\n",
              "         px_height     px_width          ram         sc_h         sc_w  \\\n",
              "count  2000.000000  2000.000000  2000.000000  2000.000000  2000.000000   \n",
              "mean    645.108000  1251.515500  2124.213000    12.306500     5.767000   \n",
              "std     443.780811   432.199447  1084.732044     4.213245     4.356398   \n",
              "min       0.000000   500.000000   256.000000     5.000000     0.000000   \n",
              "25%     282.750000   874.750000  1207.500000     9.000000     2.000000   \n",
              "50%     564.000000  1247.000000  2146.500000    12.000000     5.000000   \n",
              "75%     947.250000  1633.000000  3064.500000    16.000000     9.000000   \n",
              "max    1960.000000  1998.000000  3998.000000    19.000000    18.000000   \n",
              "\n",
              "         talk_time      three_g  touch_screen         wifi  price_range  \n",
              "count  2000.000000  2000.000000   2000.000000  2000.000000  2000.000000  \n",
              "mean     11.011000     0.761500      0.503000     0.507000     1.500000  \n",
              "std       5.463955     0.426273      0.500116     0.500076     1.118314  \n",
              "min       2.000000     0.000000      0.000000     0.000000     0.000000  \n",
              "25%       6.000000     1.000000      0.000000     0.000000     0.750000  \n",
              "50%      11.000000     1.000000      1.000000     1.000000     1.500000  \n",
              "75%      16.000000     1.000000      1.000000     1.000000     2.250000  \n",
              "max      20.000000     1.000000      1.000000     1.000000     3.000000  \n",
              "\n",
              "[8 rows x 21 columns]"
            ],
            "text/html": [
              "\n",
              "  <div id=\"df-cbd7f694-422a-4160-b7a4-eae1b07d2d0b\">\n",
              "    <div class=\"colab-df-container\">\n",
              "      <div>\n",
              "<style scoped>\n",
              "    .dataframe tbody tr th:only-of-type {\n",
              "        vertical-align: middle;\n",
              "    }\n",
              "\n",
              "    .dataframe tbody tr th {\n",
              "        vertical-align: top;\n",
              "    }\n",
              "\n",
              "    .dataframe thead th {\n",
              "        text-align: right;\n",
              "    }\n",
              "</style>\n",
              "<table border=\"1\" class=\"dataframe\">\n",
              "  <thead>\n",
              "    <tr style=\"text-align: right;\">\n",
              "      <th></th>\n",
              "      <th>battery_power</th>\n",
              "      <th>blue</th>\n",
              "      <th>clock_speed</th>\n",
              "      <th>dual_sim</th>\n",
              "      <th>fc</th>\n",
              "      <th>four_g</th>\n",
              "      <th>int_memory</th>\n",
              "      <th>m_dep</th>\n",
              "      <th>mobile_wt</th>\n",
              "      <th>n_cores</th>\n",
              "      <th>...</th>\n",
              "      <th>px_height</th>\n",
              "      <th>px_width</th>\n",
              "      <th>ram</th>\n",
              "      <th>sc_h</th>\n",
              "      <th>sc_w</th>\n",
              "      <th>talk_time</th>\n",
              "      <th>three_g</th>\n",
              "      <th>touch_screen</th>\n",
              "      <th>wifi</th>\n",
              "      <th>price_range</th>\n",
              "    </tr>\n",
              "  </thead>\n",
              "  <tbody>\n",
              "    <tr>\n",
              "      <th>count</th>\n",
              "      <td>2000.000000</td>\n",
              "      <td>2000.0000</td>\n",
              "      <td>2000.000000</td>\n",
              "      <td>2000.000000</td>\n",
              "      <td>2000.000000</td>\n",
              "      <td>2000.000000</td>\n",
              "      <td>2000.000000</td>\n",
              "      <td>2000.000000</td>\n",
              "      <td>2000.000000</td>\n",
              "      <td>2000.000000</td>\n",
              "      <td>...</td>\n",
              "      <td>2000.000000</td>\n",
              "      <td>2000.000000</td>\n",
              "      <td>2000.000000</td>\n",
              "      <td>2000.000000</td>\n",
              "      <td>2000.000000</td>\n",
              "      <td>2000.000000</td>\n",
              "      <td>2000.000000</td>\n",
              "      <td>2000.000000</td>\n",
              "      <td>2000.000000</td>\n",
              "      <td>2000.000000</td>\n",
              "    </tr>\n",
              "    <tr>\n",
              "      <th>mean</th>\n",
              "      <td>1238.518500</td>\n",
              "      <td>0.4950</td>\n",
              "      <td>1.522250</td>\n",
              "      <td>0.509500</td>\n",
              "      <td>4.309500</td>\n",
              "      <td>0.521500</td>\n",
              "      <td>32.046500</td>\n",
              "      <td>0.501750</td>\n",
              "      <td>140.249000</td>\n",
              "      <td>4.520500</td>\n",
              "      <td>...</td>\n",
              "      <td>645.108000</td>\n",
              "      <td>1251.515500</td>\n",
              "      <td>2124.213000</td>\n",
              "      <td>12.306500</td>\n",
              "      <td>5.767000</td>\n",
              "      <td>11.011000</td>\n",
              "      <td>0.761500</td>\n",
              "      <td>0.503000</td>\n",
              "      <td>0.507000</td>\n",
              "      <td>1.500000</td>\n",
              "    </tr>\n",
              "    <tr>\n",
              "      <th>std</th>\n",
              "      <td>439.418206</td>\n",
              "      <td>0.5001</td>\n",
              "      <td>0.816004</td>\n",
              "      <td>0.500035</td>\n",
              "      <td>4.341444</td>\n",
              "      <td>0.499662</td>\n",
              "      <td>18.145715</td>\n",
              "      <td>0.288416</td>\n",
              "      <td>35.399655</td>\n",
              "      <td>2.287837</td>\n",
              "      <td>...</td>\n",
              "      <td>443.780811</td>\n",
              "      <td>432.199447</td>\n",
              "      <td>1084.732044</td>\n",
              "      <td>4.213245</td>\n",
              "      <td>4.356398</td>\n",
              "      <td>5.463955</td>\n",
              "      <td>0.426273</td>\n",
              "      <td>0.500116</td>\n",
              "      <td>0.500076</td>\n",
              "      <td>1.118314</td>\n",
              "    </tr>\n",
              "    <tr>\n",
              "      <th>min</th>\n",
              "      <td>501.000000</td>\n",
              "      <td>0.0000</td>\n",
              "      <td>0.500000</td>\n",
              "      <td>0.000000</td>\n",
              "      <td>0.000000</td>\n",
              "      <td>0.000000</td>\n",
              "      <td>2.000000</td>\n",
              "      <td>0.100000</td>\n",
              "      <td>80.000000</td>\n",
              "      <td>1.000000</td>\n",
              "      <td>...</td>\n",
              "      <td>0.000000</td>\n",
              "      <td>500.000000</td>\n",
              "      <td>256.000000</td>\n",
              "      <td>5.000000</td>\n",
              "      <td>0.000000</td>\n",
              "      <td>2.000000</td>\n",
              "      <td>0.000000</td>\n",
              "      <td>0.000000</td>\n",
              "      <td>0.000000</td>\n",
              "      <td>0.000000</td>\n",
              "    </tr>\n",
              "    <tr>\n",
              "      <th>25%</th>\n",
              "      <td>851.750000</td>\n",
              "      <td>0.0000</td>\n",
              "      <td>0.700000</td>\n",
              "      <td>0.000000</td>\n",
              "      <td>1.000000</td>\n",
              "      <td>0.000000</td>\n",
              "      <td>16.000000</td>\n",
              "      <td>0.200000</td>\n",
              "      <td>109.000000</td>\n",
              "      <td>3.000000</td>\n",
              "      <td>...</td>\n",
              "      <td>282.750000</td>\n",
              "      <td>874.750000</td>\n",
              "      <td>1207.500000</td>\n",
              "      <td>9.000000</td>\n",
              "      <td>2.000000</td>\n",
              "      <td>6.000000</td>\n",
              "      <td>1.000000</td>\n",
              "      <td>0.000000</td>\n",
              "      <td>0.000000</td>\n",
              "      <td>0.750000</td>\n",
              "    </tr>\n",
              "    <tr>\n",
              "      <th>50%</th>\n",
              "      <td>1226.000000</td>\n",
              "      <td>0.0000</td>\n",
              "      <td>1.500000</td>\n",
              "      <td>1.000000</td>\n",
              "      <td>3.000000</td>\n",
              "      <td>1.000000</td>\n",
              "      <td>32.000000</td>\n",
              "      <td>0.500000</td>\n",
              "      <td>141.000000</td>\n",
              "      <td>4.000000</td>\n",
              "      <td>...</td>\n",
              "      <td>564.000000</td>\n",
              "      <td>1247.000000</td>\n",
              "      <td>2146.500000</td>\n",
              "      <td>12.000000</td>\n",
              "      <td>5.000000</td>\n",
              "      <td>11.000000</td>\n",
              "      <td>1.000000</td>\n",
              "      <td>1.000000</td>\n",
              "      <td>1.000000</td>\n",
              "      <td>1.500000</td>\n",
              "    </tr>\n",
              "    <tr>\n",
              "      <th>75%</th>\n",
              "      <td>1615.250000</td>\n",
              "      <td>1.0000</td>\n",
              "      <td>2.200000</td>\n",
              "      <td>1.000000</td>\n",
              "      <td>7.000000</td>\n",
              "      <td>1.000000</td>\n",
              "      <td>48.000000</td>\n",
              "      <td>0.800000</td>\n",
              "      <td>170.000000</td>\n",
              "      <td>7.000000</td>\n",
              "      <td>...</td>\n",
              "      <td>947.250000</td>\n",
              "      <td>1633.000000</td>\n",
              "      <td>3064.500000</td>\n",
              "      <td>16.000000</td>\n",
              "      <td>9.000000</td>\n",
              "      <td>16.000000</td>\n",
              "      <td>1.000000</td>\n",
              "      <td>1.000000</td>\n",
              "      <td>1.000000</td>\n",
              "      <td>2.250000</td>\n",
              "    </tr>\n",
              "    <tr>\n",
              "      <th>max</th>\n",
              "      <td>1998.000000</td>\n",
              "      <td>1.0000</td>\n",
              "      <td>3.000000</td>\n",
              "      <td>1.000000</td>\n",
              "      <td>19.000000</td>\n",
              "      <td>1.000000</td>\n",
              "      <td>64.000000</td>\n",
              "      <td>1.000000</td>\n",
              "      <td>200.000000</td>\n",
              "      <td>8.000000</td>\n",
              "      <td>...</td>\n",
              "      <td>1960.000000</td>\n",
              "      <td>1998.000000</td>\n",
              "      <td>3998.000000</td>\n",
              "      <td>19.000000</td>\n",
              "      <td>18.000000</td>\n",
              "      <td>20.000000</td>\n",
              "      <td>1.000000</td>\n",
              "      <td>1.000000</td>\n",
              "      <td>1.000000</td>\n",
              "      <td>3.000000</td>\n",
              "    </tr>\n",
              "  </tbody>\n",
              "</table>\n",
              "<p>8 rows × 21 columns</p>\n",
              "</div>\n",
              "      <button class=\"colab-df-convert\" onclick=\"convertToInteractive('df-cbd7f694-422a-4160-b7a4-eae1b07d2d0b')\"\n",
              "              title=\"Convert this dataframe to an interactive table.\"\n",
              "              style=\"display:none;\">\n",
              "        \n",
              "  <svg xmlns=\"http://www.w3.org/2000/svg\" height=\"24px\"viewBox=\"0 0 24 24\"\n",
              "       width=\"24px\">\n",
              "    <path d=\"M0 0h24v24H0V0z\" fill=\"none\"/>\n",
              "    <path d=\"M18.56 5.44l.94 2.06.94-2.06 2.06-.94-2.06-.94-.94-2.06-.94 2.06-2.06.94zm-11 1L8.5 8.5l.94-2.06 2.06-.94-2.06-.94L8.5 2.5l-.94 2.06-2.06.94zm10 10l.94 2.06.94-2.06 2.06-.94-2.06-.94-.94-2.06-.94 2.06-2.06.94z\"/><path d=\"M17.41 7.96l-1.37-1.37c-.4-.4-.92-.59-1.43-.59-.52 0-1.04.2-1.43.59L10.3 9.45l-7.72 7.72c-.78.78-.78 2.05 0 2.83L4 21.41c.39.39.9.59 1.41.59.51 0 1.02-.2 1.41-.59l7.78-7.78 2.81-2.81c.8-.78.8-2.07 0-2.86zM5.41 20L4 18.59l7.72-7.72 1.47 1.35L5.41 20z\"/>\n",
              "  </svg>\n",
              "      </button>\n",
              "      \n",
              "  <style>\n",
              "    .colab-df-container {\n",
              "      display:flex;\n",
              "      flex-wrap:wrap;\n",
              "      gap: 12px;\n",
              "    }\n",
              "\n",
              "    .colab-df-convert {\n",
              "      background-color: #E8F0FE;\n",
              "      border: none;\n",
              "      border-radius: 50%;\n",
              "      cursor: pointer;\n",
              "      display: none;\n",
              "      fill: #1967D2;\n",
              "      height: 32px;\n",
              "      padding: 0 0 0 0;\n",
              "      width: 32px;\n",
              "    }\n",
              "\n",
              "    .colab-df-convert:hover {\n",
              "      background-color: #E2EBFA;\n",
              "      box-shadow: 0px 1px 2px rgba(60, 64, 67, 0.3), 0px 1px 3px 1px rgba(60, 64, 67, 0.15);\n",
              "      fill: #174EA6;\n",
              "    }\n",
              "\n",
              "    [theme=dark] .colab-df-convert {\n",
              "      background-color: #3B4455;\n",
              "      fill: #D2E3FC;\n",
              "    }\n",
              "\n",
              "    [theme=dark] .colab-df-convert:hover {\n",
              "      background-color: #434B5C;\n",
              "      box-shadow: 0px 1px 3px 1px rgba(0, 0, 0, 0.15);\n",
              "      filter: drop-shadow(0px 1px 2px rgba(0, 0, 0, 0.3));\n",
              "      fill: #FFFFFF;\n",
              "    }\n",
              "  </style>\n",
              "\n",
              "      <script>\n",
              "        const buttonEl =\n",
              "          document.querySelector('#df-cbd7f694-422a-4160-b7a4-eae1b07d2d0b button.colab-df-convert');\n",
              "        buttonEl.style.display =\n",
              "          google.colab.kernel.accessAllowed ? 'block' : 'none';\n",
              "\n",
              "        async function convertToInteractive(key) {\n",
              "          const element = document.querySelector('#df-cbd7f694-422a-4160-b7a4-eae1b07d2d0b');\n",
              "          const dataTable =\n",
              "            await google.colab.kernel.invokeFunction('convertToInteractive',\n",
              "                                                     [key], {});\n",
              "          if (!dataTable) return;\n",
              "\n",
              "          const docLinkHtml = 'Like what you see? Visit the ' +\n",
              "            '<a target=\"_blank\" href=https://colab.research.google.com/notebooks/data_table.ipynb>data table notebook</a>'\n",
              "            + ' to learn more about interactive tables.';\n",
              "          element.innerHTML = '';\n",
              "          dataTable['output_type'] = 'display_data';\n",
              "          await google.colab.output.renderOutput(dataTable, element);\n",
              "          const docLink = document.createElement('div');\n",
              "          docLink.innerHTML = docLinkHtml;\n",
              "          element.appendChild(docLink);\n",
              "        }\n",
              "      </script>\n",
              "    </div>\n",
              "  </div>\n",
              "  "
            ]
          },
          "metadata": {},
          "execution_count": 5
        }
      ]
    },
    {
      "cell_type": "markdown",
      "source": [
        "Adicionalmente, se observa que todas las columnas son numéricas, lo que quiere decir que el dataset ya ha sido transformado, pero no está escalado, por lo que es un paso necesario en caso de que los modelos a aplicar lo requieran."
      ],
      "metadata": {
        "id": "c1dFrhOYo175"
      }
    },
    {
      "cell_type": "code",
      "source": [
        "df.duplicated().sum()"
      ],
      "metadata": {
        "colab": {
          "base_uri": "https://localhost:8080/"
        },
        "id": "CAEcGTmKRADp",
        "outputId": "60835998-898c-4263-e4b8-763332608048"
      },
      "execution_count": 6,
      "outputs": [
        {
          "output_type": "execute_result",
          "data": {
            "text/plain": [
              "0"
            ]
          },
          "metadata": {},
          "execution_count": 6
        }
      ]
    },
    {
      "cell_type": "markdown",
      "source": [
        "Finalmente, se verifica que el dataset no contiene valores duplicados, por lo que se tiene lo necesario para la realización de los pasos previos a la modelación."
      ],
      "metadata": {
        "id": "wANtyiWGRCTQ"
      }
    },
    {
      "cell_type": "markdown",
      "source": [
        "#Visualizaciones"
      ],
      "metadata": {
        "id": "0GqPpy4oxyoS"
      }
    },
    {
      "cell_type": "markdown",
      "source": [
        "Con el objetivo de tener un mejor entendimiento de los datos, se realizará una serie de visualizaciones de las variables. "
      ],
      "metadata": {
        "id": "kfOsZi_tx0Ag"
      }
    },
    {
      "cell_type": "code",
      "source": [
        "df[\"price_range\"].value_counts()"
      ],
      "metadata": {
        "colab": {
          "base_uri": "https://localhost:8080/"
        },
        "id": "y_kVyWc4nNnd",
        "outputId": "51232406-cbbc-4886-a8ac-d2375bbef104"
      },
      "execution_count": 7,
      "outputs": [
        {
          "output_type": "execute_result",
          "data": {
            "text/plain": [
              "1    500\n",
              "2    500\n",
              "3    500\n",
              "0    500\n",
              "Name: price_range, dtype: int64"
            ]
          },
          "metadata": {},
          "execution_count": 7
        }
      ]
    },
    {
      "cell_type": "markdown",
      "source": [
        "Se observa que el dataset está balanceado. "
      ],
      "metadata": {
        "id": "j4__VWG_2LYA"
      }
    },
    {
      "cell_type": "markdown",
      "source": [
        "El primer gráfico que se realizará, es un gráfico de calor con los coeficientes de correlación de las diferentes variables. "
      ],
      "metadata": {
        "id": "vgj-2KJ32ew3"
      }
    },
    {
      "cell_type": "code",
      "source": [
        "#Primero, se define la correlación entre variables\n",
        "corr = df.corr()\n",
        "plt.figure(figsize=(20, 15))\n",
        "sns.heatmap(corr, cmap = \"Pastel1\", annot = True, cbar = False, linewidths = 0.01,linecolor = \"grey\", square = True)\n",
        "plt.show()"
      ],
      "metadata": {
        "colab": {
          "base_uri": "https://localhost:8080/",
          "height": 925
        },
        "id": "Fp2J_Pv82IoD",
        "outputId": "20cf6e76-1b78-4f0b-869e-d90188a24a44"
      },
      "execution_count": 8,
      "outputs": [
        {
          "output_type": "display_data",
          "data": {
            "text/plain": [
              "<Figure size 1440x1080 with 1 Axes>"
            ],
            "image/png": "[encoded data removed]"
          },
          "metadata": {
            "needs_background": "light"
          }
        }
      ]
    },
    {
      "cell_type": "markdown",
      "source": [
        "Del gráfico anterior, se aprecia que el rango de precio está fuertemente ligado a la ram que cada uno de los celulares tiene. Presentan un coeficiente de 0.92, lo que indica una fuerte correlación. \n",
        "\n",
        "Adicionalmente, las otras dos variables que presentan coeficiente de correlación mayor que 0.1 es la altura y el ancho de los celulares. \n",
        "\n",
        "Lo anterior, permite suponer que el modelo de clasificación se podría hacer con menos variables que las que se tienen en el dataset completo. "
      ],
      "metadata": {
        "id": "5R_djLQL2zvR"
      }
    },
    {
      "cell_type": "markdown",
      "source": [
        "Considerando las variables que mejor se relacionan con price_range, se crearán tres visualizaciones que permitan entender mejor su comportamiento."
      ],
      "metadata": {
        "id": "M_sLOqvL3Hgw"
      }
    },
    {
      "cell_type": "code",
      "source": [
        "df[\"px_height\"].value_counts()"
      ],
      "metadata": {
        "colab": {
          "base_uri": "https://localhost:8080/"
        },
        "id": "KloMyLPg2Vry",
        "outputId": "4a1f9235-2991-4f64-a6e5-36150c0a1287"
      },
      "execution_count": 9,
      "outputs": [
        {
          "output_type": "execute_result",
          "data": {
            "text/plain": [
              "347    7\n",
              "179    6\n",
              "371    6\n",
              "275    6\n",
              "674    5\n",
              "      ..\n",
              "87     1\n",
              "648    1\n",
              "341    1\n",
              "993    1\n",
              "483    1\n",
              "Name: px_height, Length: 1137, dtype: int64"
            ]
          },
          "metadata": {},
          "execution_count": 9
        }
      ]
    },
    {
      "cell_type": "code",
      "source": [
        "fig1 = plt.figure(figsize=(15,12))\n",
        "ax1 = fig1.add_subplot(2,2,1)\n",
        "plt.grid(axis=\"y\", color = \"grey\", alpha = 0.5)\n",
        "ax2 = fig1.add_subplot(2,2,2)\n",
        "plt.grid(axis=\"y\",color = \"grey\", alpha = 0.5)\n",
        "ax3 = fig1.add_subplot(2,2,3)\n",
        "plt.grid(axis=\"y\", color = \"grey\", alpha = 0.5)\n",
        "\n",
        "\n",
        "ax1.hist(df[\"px_height\"].values, bins = 10,color= \"moccasin\", alpha = 0.5, edgecolor = \"tan\")\n",
        "ax2.hist(df[\"px_width\"].values, bins = 10, color = \"moccasin\", alpha = 0.5, edgecolor = \"tan\")\n",
        "ax3.hist(df[\"ram\"].values, bins = 10,color= \"moccasin\", alpha = 0.5, edgecolor = \"tan\")\n",
        "\n",
        "\n",
        "\n",
        "ax1.set_xlabel(\"Altura de resolución de píxeles\")\n",
        "ax1.set_ylabel(\"Cantidad de datos\")\n",
        "ax1.set_title(\"Histograma altura de resolución\")\n",
        "\n",
        "ax2.set_xlabel(\"Ancho de resolución de píxeles\")\n",
        "ax2.set_ylabel(\"Cantidad de datos\")\n",
        "ax2.set_title(\"Histograma ancho de resolución\")\n",
        "\n",
        "ax3.set_xlabel(\"Ram\")\n",
        "ax3.set_ylabel(\"Cantidad de datos\")\n",
        "ax3.set_title(\"Histograma de Ram\")\n",
        "\n",
        "\n",
        "\n",
        "plt.show()"
      ],
      "metadata": {
        "colab": {
          "base_uri": "https://localhost:8080/",
          "height": 730
        },
        "id": "toDwXnKi5eo5",
        "outputId": "86e3c144-b50b-4fe7-bf95-e16d4d0235e4"
      },
      "execution_count": 10,
      "outputs": [
        {
          "output_type": "display_data",
          "data": {
            "text/plain": [
              "<Figure size 1080x864 with 3 Axes>"
            ],
            "image/png": "[encoded data removed]"
          },
          "metadata": {
            "needs_background": "light"
          }
        }
      ]
    },
    {
      "cell_type": "code",
      "source": [
        "fig1 = plt.figure(figsize=(10,8))\n",
        "ax1 = fig1.add_subplot(1,1,1)\n",
        "ax1.scatter(df[\"ram\"].values, df[\"price_range\"], color = \"moccasin\")\n",
        "\n",
        "ax1.set_title(\"Relación Rango de Precio v/s Memoria Ram\");\n",
        "ax1.set_ylabel(\"Rango de Precio\")\n",
        "ax1.set_xlabel(\"Memoria Ram\")\n",
        "ax1.set_yticks([0,1,2,3]);"
      ],
      "metadata": {
        "colab": {
          "base_uri": "https://localhost:8080/",
          "height": 513
        },
        "id": "U8hw5kkpSg0b",
        "outputId": "96304fbd-1148-4a9b-ef09-0008c47f1790"
      },
      "execution_count": 11,
      "outputs": [
        {
          "output_type": "display_data",
          "data": {
            "text/plain": [
              "<Figure size 720x576 with 1 Axes>"
            ],
            "image/png": "[encoded data removed]"
          },
          "metadata": {
            "needs_background": "light"
          }
        }
      ]
    },
    {
      "cell_type": "code",
      "source": [
        "fig1 = plt.figure(figsize=(10,8))\n",
        "ax1 = fig1.add_subplot(1,1,1)\n",
        "ax1.scatter(df[\"px_height\"].values, df[\"price_range\"], color = \"moccasin\")\n",
        "ax1.set_yticks([0, 1, 2, 3])\n",
        "ax1.set_title(\"Relación Rango de Precio v/s Altura de pixeles\")\n",
        "ax1.set_ylabel(\"Rango de Precio\")\n",
        "ax1.set_xlabel(\"Altura de pixeles\");"
      ],
      "metadata": {
        "colab": {
          "base_uri": "https://localhost:8080/",
          "height": 513
        },
        "id": "icgpiTs-3CHp",
        "outputId": "73132f94-1589-4f07-ff4a-2a84fce66571"
      },
      "execution_count": 12,
      "outputs": [
        {
          "output_type": "display_data",
          "data": {
            "text/plain": [
              "<Figure size 720x576 with 1 Axes>"
            ],
            "image/png": "[encoded data removed]"
          },
          "metadata": {
            "needs_background": "light"
          }
        }
      ]
    },
    {
      "cell_type": "code",
      "source": [
        "fig1 = plt.figure(figsize=(10,8))\n",
        "ax1 = fig1.add_subplot(1,1,1)\n",
        "ax1.scatter(df[\"px_width\"].values, df[\"price_range\"],  color = \"moccasin\")\n",
        "ax1.set_yticks([0, 1, 2, 3])\n",
        "ax1.set_title(\"Relación Rango de Precio v/s Ancho de pixeles\")\n",
        "ax1.set_ylabel(\"Rango de Precio\")\n",
        "ax1.set_xlabel(\"Ancho de pixeles\");"
      ],
      "metadata": {
        "colab": {
          "base_uri": "https://localhost:8080/",
          "height": 513
        },
        "id": "w9ej-Pi74Z-6",
        "outputId": "26d36a50-0c24-4b52-b59a-f01b6b7b4cb6"
      },
      "execution_count": 13,
      "outputs": [
        {
          "output_type": "display_data",
          "data": {
            "text/plain": [
              "<Figure size 720x576 with 1 Axes>"
            ],
            "image/png": "[encoded data removed]"
          },
          "metadata": {
            "needs_background": "light"
          }
        }
      ]
    },
    {
      "cell_type": "markdown",
      "source": [
        "##Preparación de datos para los modelos"
      ],
      "metadata": {
        "id": "pBwgjHZoWLGM"
      }
    },
    {
      "cell_type": "markdown",
      "source": [
        "El primer paso para la preparación de los modelos será la creación de la matriz de características y el vector objetivo. Posteriormente se escalarán los datos y se crearán los dataframe de testeo y entrenamiento. "
      ],
      "metadata": {
        "id": "M6h7tC8bWN9i"
      }
    },
    {
      "cell_type": "code",
      "source": [
        "#Matriz de características\n",
        "X = df.drop(columns=\"price_range\")\n",
        "#Vector objetivo\n",
        "y = df[\"price_range\"]"
      ],
      "metadata": {
        "id": "5Ys5WJ2dWM0b"
      },
      "execution_count": 14,
      "outputs": []
    },
    {
      "cell_type": "code",
      "source": [
        "#Train Test Split\n",
        "X_train, X_test, y_train, y_test = train_test_split(X, y, random_state=42)"
      ],
      "metadata": {
        "id": "Mo5Qly2PW6Lv"
      },
      "execution_count": 15,
      "outputs": []
    },
    {
      "cell_type": "code",
      "source": [
        "#Instanciación del escalador\n",
        "scaler = StandardScaler()\n",
        "#Ajuste del escalador\n",
        "scaler.fit(X_train)\n",
        "#Transformación de datos\n",
        "X_train_scaled = scaler.transform(X_train)\n",
        "X_test_scaled = scaler.transform(X_test)"
      ],
      "metadata": {
        "id": "r9CJ2tUMWpVF"
      },
      "execution_count": 16,
      "outputs": []
    },
    {
      "cell_type": "code",
      "source": [
        "y_train.shape"
      ],
      "metadata": {
        "colab": {
          "base_uri": "https://localhost:8080/"
        },
        "id": "bDX3WJe6WNib",
        "outputId": "74c03732-7fa3-4776-ab71-1f2e7f580246"
      },
      "execution_count": 17,
      "outputs": [
        {
          "output_type": "execute_result",
          "data": {
            "text/plain": [
              "(1500,)"
            ]
          },
          "metadata": {},
          "execution_count": 17
        }
      ]
    },
    {
      "cell_type": "markdown",
      "source": [
        "Con los pasos previamente realizados se cuenta con un dataset escalado (para los modelos que lo requieran) y un dataset sin escalar. "
      ],
      "metadata": {
        "id": "_futY8DSXZI_"
      }
    },
    {
      "cell_type": "markdown",
      "source": [
        "##Creación y ajuste de modelos"
      ],
      "metadata": {
        "id": "QtSLU0Q1Xfr0"
      }
    },
    {
      "cell_type": "markdown",
      "source": [
        "Para resolver el problema de clasificación presentado se utilizarán dos modelos: XGBoost y una red neuronal. La decisión de solo utilizar estos dos modelos pasa por la efectividad que estos presentan, que suele permitir obtener mejores resultados que con otros modelos más básicos. "
      ],
      "metadata": {
        "id": "Mt-rq6OkVLwq"
      }
    },
    {
      "cell_type": "markdown",
      "source": [
        "###Modelo XGBoost"
      ],
      "metadata": {
        "id": "LoiFifk1VlIr"
      }
    },
    {
      "cell_type": "code",
      "source": [
        "# Instanciación y ajuste del modelo XGBoost\n",
        "xgb = XGBClassifier()\n",
        "\n",
        "eval_set = [(X_train, y_train),(X_test, y_test)]\n",
        "\n",
        "history = xgb.fit(X_train, y_train,\n",
        "        eval_metric = [\"merror\", \"mlogloss\"],\n",
        "        early_stopping_rounds = 10,\n",
        "        eval_set = eval_set,\n",
        "        verbose = True)"
      ],
      "metadata": {
        "id": "METHINPmXicH",
        "colab": {
          "base_uri": "https://localhost:8080/"
        },
        "outputId": "12102007-d715-4c68-b77b-480e78105e8e"
      },
      "execution_count": 18,
      "outputs": [
        {
          "output_type": "stream",
          "name": "stdout",
          "text": [
            "[0]\tvalidation_0-merror:0.186\tvalidation_0-mlogloss:1.26955\tvalidation_1-merror:0.236\tvalidation_1-mlogloss:1.27468\n",
            "Multiple eval metrics have been passed: 'validation_1-mlogloss' will be used for early stopping.\n",
            "\n",
            "Will train until validation_1-mlogloss hasn't improved in 10 rounds.\n",
            "[1]\tvalidation_0-merror:0.187333\tvalidation_0-mlogloss:1.17244\tvalidation_1-merror:0.242\tvalidation_1-mlogloss:1.18408\n",
            "[2]\tvalidation_0-merror:0.171333\tvalidation_0-mlogloss:1.08989\tvalidation_1-merror:0.22\tvalidation_1-mlogloss:1.10639\n",
            "[3]\tvalidation_0-merror:0.172\tvalidation_0-mlogloss:1.01979\tvalidation_1-merror:0.218\tvalidation_1-mlogloss:1.03949\n",
            "[4]\tvalidation_0-merror:0.171333\tvalidation_0-mlogloss:0.959064\tvalidation_1-merror:0.218\tvalidation_1-mlogloss:0.983636\n",
            "[5]\tvalidation_0-merror:0.170667\tvalidation_0-mlogloss:0.904501\tvalidation_1-merror:0.22\tvalidation_1-mlogloss:0.933551\n",
            "[6]\tvalidation_0-merror:0.166667\tvalidation_0-mlogloss:0.856708\tvalidation_1-merror:0.212\tvalidation_1-mlogloss:0.889451\n",
            "[7]\tvalidation_0-merror:0.165333\tvalidation_0-mlogloss:0.812737\tvalidation_1-merror:0.216\tvalidation_1-mlogloss:0.850433\n",
            "[8]\tvalidation_0-merror:0.160667\tvalidation_0-mlogloss:0.774016\tvalidation_1-merror:0.214\tvalidation_1-mlogloss:0.815482\n",
            "[9]\tvalidation_0-merror:0.156667\tvalidation_0-mlogloss:0.73874\tvalidation_1-merror:0.218\tvalidation_1-mlogloss:0.784445\n",
            "[10]\tvalidation_0-merror:0.155333\tvalidation_0-mlogloss:0.707474\tvalidation_1-merror:0.218\tvalidation_1-mlogloss:0.754174\n",
            "[11]\tvalidation_0-merror:0.152667\tvalidation_0-mlogloss:0.679519\tvalidation_1-merror:0.214\tvalidation_1-mlogloss:0.729339\n",
            "[12]\tvalidation_0-merror:0.158\tvalidation_0-mlogloss:0.653796\tvalidation_1-merror:0.22\tvalidation_1-mlogloss:0.704923\n",
            "[13]\tvalidation_0-merror:0.157333\tvalidation_0-mlogloss:0.630503\tvalidation_1-merror:0.22\tvalidation_1-mlogloss:0.685021\n",
            "[14]\tvalidation_0-merror:0.15\tvalidation_0-mlogloss:0.607851\tvalidation_1-merror:0.214\tvalidation_1-mlogloss:0.665588\n",
            "[15]\tvalidation_0-merror:0.151333\tvalidation_0-mlogloss:0.588118\tvalidation_1-merror:0.21\tvalidation_1-mlogloss:0.648242\n",
            "[16]\tvalidation_0-merror:0.148\tvalidation_0-mlogloss:0.568798\tvalidation_1-merror:0.21\tvalidation_1-mlogloss:0.632431\n",
            "[17]\tvalidation_0-merror:0.144\tvalidation_0-mlogloss:0.552352\tvalidation_1-merror:0.208\tvalidation_1-mlogloss:0.616948\n",
            "[18]\tvalidation_0-merror:0.14\tvalidation_0-mlogloss:0.536485\tvalidation_1-merror:0.204\tvalidation_1-mlogloss:0.602903\n",
            "[19]\tvalidation_0-merror:0.136\tvalidation_0-mlogloss:0.52219\tvalidation_1-merror:0.196\tvalidation_1-mlogloss:0.589742\n",
            "[20]\tvalidation_0-merror:0.136\tvalidation_0-mlogloss:0.508852\tvalidation_1-merror:0.194\tvalidation_1-mlogloss:0.577702\n",
            "[21]\tvalidation_0-merror:0.134667\tvalidation_0-mlogloss:0.49635\tvalidation_1-merror:0.19\tvalidation_1-mlogloss:0.566012\n",
            "[22]\tvalidation_0-merror:0.134667\tvalidation_0-mlogloss:0.483561\tvalidation_1-merror:0.182\tvalidation_1-mlogloss:0.555446\n",
            "[23]\tvalidation_0-merror:0.134\tvalidation_0-mlogloss:0.470368\tvalidation_1-merror:0.184\tvalidation_1-mlogloss:0.544926\n",
            "[24]\tvalidation_0-merror:0.134\tvalidation_0-mlogloss:0.459883\tvalidation_1-merror:0.182\tvalidation_1-mlogloss:0.534997\n",
            "[25]\tvalidation_0-merror:0.134667\tvalidation_0-mlogloss:0.450047\tvalidation_1-merror:0.178\tvalidation_1-mlogloss:0.527514\n",
            "[26]\tvalidation_0-merror:0.131333\tvalidation_0-mlogloss:0.440784\tvalidation_1-merror:0.178\tvalidation_1-mlogloss:0.520085\n",
            "[27]\tvalidation_0-merror:0.130667\tvalidation_0-mlogloss:0.431088\tvalidation_1-merror:0.18\tvalidation_1-mlogloss:0.512309\n",
            "[28]\tvalidation_0-merror:0.124667\tvalidation_0-mlogloss:0.418047\tvalidation_1-merror:0.176\tvalidation_1-mlogloss:0.501552\n",
            "[29]\tvalidation_0-merror:0.120667\tvalidation_0-mlogloss:0.408385\tvalidation_1-merror:0.172\tvalidation_1-mlogloss:0.492382\n",
            "[30]\tvalidation_0-merror:0.118\tvalidation_0-mlogloss:0.399463\tvalidation_1-merror:0.168\tvalidation_1-mlogloss:0.484403\n",
            "[31]\tvalidation_0-merror:0.114667\tvalidation_0-mlogloss:0.389404\tvalidation_1-merror:0.172\tvalidation_1-mlogloss:0.475198\n",
            "[32]\tvalidation_0-merror:0.108667\tvalidation_0-mlogloss:0.38012\tvalidation_1-merror:0.168\tvalidation_1-mlogloss:0.466474\n",
            "[33]\tvalidation_0-merror:0.106\tvalidation_0-mlogloss:0.372237\tvalidation_1-merror:0.168\tvalidation_1-mlogloss:0.460429\n",
            "[34]\tvalidation_0-merror:0.103333\tvalidation_0-mlogloss:0.363196\tvalidation_1-merror:0.166\tvalidation_1-mlogloss:0.452506\n",
            "[35]\tvalidation_0-merror:0.099333\tvalidation_0-mlogloss:0.354592\tvalidation_1-merror:0.166\tvalidation_1-mlogloss:0.445916\n",
            "[36]\tvalidation_0-merror:0.096667\tvalidation_0-mlogloss:0.347204\tvalidation_1-merror:0.16\tvalidation_1-mlogloss:0.438942\n",
            "[37]\tvalidation_0-merror:0.095333\tvalidation_0-mlogloss:0.339986\tvalidation_1-merror:0.156\tvalidation_1-mlogloss:0.431979\n",
            "[38]\tvalidation_0-merror:0.090667\tvalidation_0-mlogloss:0.33477\tvalidation_1-merror:0.16\tvalidation_1-mlogloss:0.427916\n",
            "[39]\tvalidation_0-merror:0.084\tvalidation_0-mlogloss:0.326953\tvalidation_1-merror:0.158\tvalidation_1-mlogloss:0.420067\n",
            "[40]\tvalidation_0-merror:0.082\tvalidation_0-mlogloss:0.320838\tvalidation_1-merror:0.15\tvalidation_1-mlogloss:0.413387\n",
            "[41]\tvalidation_0-merror:0.078667\tvalidation_0-mlogloss:0.315041\tvalidation_1-merror:0.148\tvalidation_1-mlogloss:0.40849\n",
            "[42]\tvalidation_0-merror:0.074\tvalidation_0-mlogloss:0.309628\tvalidation_1-merror:0.14\tvalidation_1-mlogloss:0.403421\n",
            "[43]\tvalidation_0-merror:0.073333\tvalidation_0-mlogloss:0.304036\tvalidation_1-merror:0.142\tvalidation_1-mlogloss:0.397712\n",
            "[44]\tvalidation_0-merror:0.07\tvalidation_0-mlogloss:0.298387\tvalidation_1-merror:0.14\tvalidation_1-mlogloss:0.393054\n",
            "[45]\tvalidation_0-merror:0.068667\tvalidation_0-mlogloss:0.294195\tvalidation_1-merror:0.138\tvalidation_1-mlogloss:0.38897\n",
            "[46]\tvalidation_0-merror:0.066667\tvalidation_0-mlogloss:0.288903\tvalidation_1-merror:0.14\tvalidation_1-mlogloss:0.383694\n",
            "[47]\tvalidation_0-merror:0.065333\tvalidation_0-mlogloss:0.284283\tvalidation_1-merror:0.14\tvalidation_1-mlogloss:0.378602\n",
            "[48]\tvalidation_0-merror:0.064667\tvalidation_0-mlogloss:0.27876\tvalidation_1-merror:0.138\tvalidation_1-mlogloss:0.374217\n",
            "[49]\tvalidation_0-merror:0.062\tvalidation_0-mlogloss:0.274032\tvalidation_1-merror:0.138\tvalidation_1-mlogloss:0.370172\n",
            "[50]\tvalidation_0-merror:0.06\tvalidation_0-mlogloss:0.269862\tvalidation_1-merror:0.136\tvalidation_1-mlogloss:0.366238\n",
            "[51]\tvalidation_0-merror:0.06\tvalidation_0-mlogloss:0.265848\tvalidation_1-merror:0.132\tvalidation_1-mlogloss:0.362061\n",
            "[52]\tvalidation_0-merror:0.059333\tvalidation_0-mlogloss:0.262602\tvalidation_1-merror:0.132\tvalidation_1-mlogloss:0.358924\n",
            "[53]\tvalidation_0-merror:0.056\tvalidation_0-mlogloss:0.258061\tvalidation_1-merror:0.13\tvalidation_1-mlogloss:0.354106\n",
            "[54]\tvalidation_0-merror:0.056\tvalidation_0-mlogloss:0.25461\tvalidation_1-merror:0.13\tvalidation_1-mlogloss:0.351628\n",
            "[55]\tvalidation_0-merror:0.054\tvalidation_0-mlogloss:0.250357\tvalidation_1-merror:0.13\tvalidation_1-mlogloss:0.348305\n",
            "[56]\tvalidation_0-merror:0.052\tvalidation_0-mlogloss:0.246816\tvalidation_1-merror:0.13\tvalidation_1-mlogloss:0.345791\n",
            "[57]\tvalidation_0-merror:0.05\tvalidation_0-mlogloss:0.242565\tvalidation_1-merror:0.126\tvalidation_1-mlogloss:0.341991\n",
            "[58]\tvalidation_0-merror:0.05\tvalidation_0-mlogloss:0.238693\tvalidation_1-merror:0.122\tvalidation_1-mlogloss:0.33787\n",
            "[59]\tvalidation_0-merror:0.05\tvalidation_0-mlogloss:0.234731\tvalidation_1-merror:0.124\tvalidation_1-mlogloss:0.334903\n",
            "[60]\tvalidation_0-merror:0.048\tvalidation_0-mlogloss:0.230793\tvalidation_1-merror:0.124\tvalidation_1-mlogloss:0.331775\n",
            "[61]\tvalidation_0-merror:0.046667\tvalidation_0-mlogloss:0.227673\tvalidation_1-merror:0.122\tvalidation_1-mlogloss:0.328947\n",
            "[62]\tvalidation_0-merror:0.046667\tvalidation_0-mlogloss:0.224015\tvalidation_1-merror:0.13\tvalidation_1-mlogloss:0.325764\n",
            "[63]\tvalidation_0-merror:0.044\tvalidation_0-mlogloss:0.219502\tvalidation_1-merror:0.126\tvalidation_1-mlogloss:0.32176\n",
            "[64]\tvalidation_0-merror:0.042667\tvalidation_0-mlogloss:0.217099\tvalidation_1-merror:0.13\tvalidation_1-mlogloss:0.320167\n",
            "[65]\tvalidation_0-merror:0.041333\tvalidation_0-mlogloss:0.214176\tvalidation_1-merror:0.128\tvalidation_1-mlogloss:0.31842\n",
            "[66]\tvalidation_0-merror:0.040667\tvalidation_0-mlogloss:0.21088\tvalidation_1-merror:0.124\tvalidation_1-mlogloss:0.315262\n",
            "[67]\tvalidation_0-merror:0.04\tvalidation_0-mlogloss:0.207807\tvalidation_1-merror:0.126\tvalidation_1-mlogloss:0.314127\n",
            "[68]\tvalidation_0-merror:0.039333\tvalidation_0-mlogloss:0.205602\tvalidation_1-merror:0.126\tvalidation_1-mlogloss:0.312508\n",
            "[69]\tvalidation_0-merror:0.038\tvalidation_0-mlogloss:0.202225\tvalidation_1-merror:0.122\tvalidation_1-mlogloss:0.310798\n",
            "[70]\tvalidation_0-merror:0.036\tvalidation_0-mlogloss:0.199062\tvalidation_1-merror:0.126\tvalidation_1-mlogloss:0.308291\n",
            "[71]\tvalidation_0-merror:0.034\tvalidation_0-mlogloss:0.195768\tvalidation_1-merror:0.122\tvalidation_1-mlogloss:0.306102\n",
            "[72]\tvalidation_0-merror:0.034\tvalidation_0-mlogloss:0.193034\tvalidation_1-merror:0.12\tvalidation_1-mlogloss:0.303727\n",
            "[73]\tvalidation_0-merror:0.031333\tvalidation_0-mlogloss:0.189933\tvalidation_1-merror:0.124\tvalidation_1-mlogloss:0.30116\n",
            "[74]\tvalidation_0-merror:0.030667\tvalidation_0-mlogloss:0.186803\tvalidation_1-merror:0.124\tvalidation_1-mlogloss:0.2997\n",
            "[75]\tvalidation_0-merror:0.029333\tvalidation_0-mlogloss:0.183553\tvalidation_1-merror:0.118\tvalidation_1-mlogloss:0.297353\n",
            "[76]\tvalidation_0-merror:0.030667\tvalidation_0-mlogloss:0.18089\tvalidation_1-merror:0.116\tvalidation_1-mlogloss:0.294612\n",
            "[77]\tvalidation_0-merror:0.028667\tvalidation_0-mlogloss:0.178827\tvalidation_1-merror:0.116\tvalidation_1-mlogloss:0.293051\n",
            "[78]\tvalidation_0-merror:0.028\tvalidation_0-mlogloss:0.176537\tvalidation_1-merror:0.116\tvalidation_1-mlogloss:0.290358\n",
            "[79]\tvalidation_0-merror:0.029333\tvalidation_0-mlogloss:0.174235\tvalidation_1-merror:0.114\tvalidation_1-mlogloss:0.289741\n",
            "[80]\tvalidation_0-merror:0.027333\tvalidation_0-mlogloss:0.171763\tvalidation_1-merror:0.114\tvalidation_1-mlogloss:0.287966\n",
            "[81]\tvalidation_0-merror:0.026\tvalidation_0-mlogloss:0.169286\tvalidation_1-merror:0.114\tvalidation_1-mlogloss:0.28624\n",
            "[82]\tvalidation_0-merror:0.026667\tvalidation_0-mlogloss:0.166631\tvalidation_1-merror:0.112\tvalidation_1-mlogloss:0.283607\n",
            "[83]\tvalidation_0-merror:0.025333\tvalidation_0-mlogloss:0.164163\tvalidation_1-merror:0.112\tvalidation_1-mlogloss:0.281631\n",
            "[84]\tvalidation_0-merror:0.023333\tvalidation_0-mlogloss:0.161874\tvalidation_1-merror:0.108\tvalidation_1-mlogloss:0.279895\n",
            "[85]\tvalidation_0-merror:0.021333\tvalidation_0-mlogloss:0.159732\tvalidation_1-merror:0.108\tvalidation_1-mlogloss:0.278318\n",
            "[86]\tvalidation_0-merror:0.021333\tvalidation_0-mlogloss:0.157549\tvalidation_1-merror:0.108\tvalidation_1-mlogloss:0.277045\n",
            "[87]\tvalidation_0-merror:0.022\tvalidation_0-mlogloss:0.155551\tvalidation_1-merror:0.108\tvalidation_1-mlogloss:0.275654\n",
            "[88]\tvalidation_0-merror:0.022\tvalidation_0-mlogloss:0.153568\tvalidation_1-merror:0.108\tvalidation_1-mlogloss:0.274694\n",
            "[89]\tvalidation_0-merror:0.020667\tvalidation_0-mlogloss:0.151646\tvalidation_1-merror:0.108\tvalidation_1-mlogloss:0.273209\n",
            "[90]\tvalidation_0-merror:0.019333\tvalidation_0-mlogloss:0.14978\tvalidation_1-merror:0.108\tvalidation_1-mlogloss:0.272139\n",
            "[91]\tvalidation_0-merror:0.019333\tvalidation_0-mlogloss:0.147873\tvalidation_1-merror:0.108\tvalidation_1-mlogloss:0.270102\n",
            "[92]\tvalidation_0-merror:0.019333\tvalidation_0-mlogloss:0.146256\tvalidation_1-merror:0.108\tvalidation_1-mlogloss:0.269829\n",
            "[93]\tvalidation_0-merror:0.018667\tvalidation_0-mlogloss:0.144367\tvalidation_1-merror:0.11\tvalidation_1-mlogloss:0.268886\n",
            "[94]\tvalidation_0-merror:0.017333\tvalidation_0-mlogloss:0.142749\tvalidation_1-merror:0.11\tvalidation_1-mlogloss:0.268099\n",
            "[95]\tvalidation_0-merror:0.016\tvalidation_0-mlogloss:0.140997\tvalidation_1-merror:0.112\tvalidation_1-mlogloss:0.267191\n",
            "[96]\tvalidation_0-merror:0.016667\tvalidation_0-mlogloss:0.139464\tvalidation_1-merror:0.11\tvalidation_1-mlogloss:0.26656\n",
            "[97]\tvalidation_0-merror:0.015333\tvalidation_0-mlogloss:0.137813\tvalidation_1-merror:0.106\tvalidation_1-mlogloss:0.264983\n",
            "[98]\tvalidation_0-merror:0.014667\tvalidation_0-mlogloss:0.136501\tvalidation_1-merror:0.108\tvalidation_1-mlogloss:0.264115\n",
            "[99]\tvalidation_0-merror:0.014\tvalidation_0-mlogloss:0.135039\tvalidation_1-merror:0.108\tvalidation_1-mlogloss:0.263522\n"
          ]
        }
      ]
    },
    {
      "cell_type": "code",
      "source": [
        "results = xgb.evals_result()\n",
        "epochs = len(results[\"validation_0\"][\"merror\"])\n",
        "x_axis = range(0, epochs)"
      ],
      "metadata": {
        "id": "6ru8G3AOxzh-"
      },
      "execution_count": 19,
      "outputs": []
    },
    {
      "cell_type": "code",
      "source": [
        "y_pred = xgb.predict(X_test)\n",
        "pred_train = xgb.predict(X_train)\n",
        "print(classification_report(y_train, pred_train))\n",
        "print(classification_report(y_test, y_pred))"
      ],
      "metadata": {
        "colab": {
          "base_uri": "https://localhost:8080/"
        },
        "id": "_eRrNu0F4ekM",
        "outputId": "46552bd5-d408-486c-b3a6-e52249056f95"
      },
      "execution_count": 20,
      "outputs": [
        {
          "output_type": "stream",
          "name": "stdout",
          "text": [
            "              precision    recall  f1-score   support\n",
            "\n",
            "           0       0.99      1.00      1.00       368\n",
            "           1       0.98      0.98      0.98       382\n",
            "           2       0.97      0.98      0.98       380\n",
            "           3       1.00      0.99      0.99       370\n",
            "\n",
            "    accuracy                           0.99      1500\n",
            "   macro avg       0.99      0.99      0.99      1500\n",
            "weighted avg       0.99      0.99      0.99      1500\n",
            "\n",
            "              precision    recall  f1-score   support\n",
            "\n",
            "           0       0.94      0.94      0.94       132\n",
            "           1       0.84      0.87      0.85       118\n",
            "           2       0.87      0.81      0.84       120\n",
            "           3       0.92      0.94      0.93       130\n",
            "\n",
            "    accuracy                           0.89       500\n",
            "   macro avg       0.89      0.89      0.89       500\n",
            "weighted avg       0.89      0.89      0.89       500\n",
            "\n"
          ]
        }
      ]
    },
    {
      "cell_type": "markdown",
      "source": [
        "En la tabla anterior se aprecia que se obtiene un accuracy de 0.99 para los datos de entrenamiento y de 0.89 para los datos de testeo."
      ],
      "metadata": {
        "id": "-1wuIFNm_1tr"
      }
    },
    {
      "cell_type": "code",
      "source": [
        "print('Training accuracy:', xgb.score(X_train, y_train))\n",
        "print('Testing accuracy:', xgb.score(X_test, y_test))"
      ],
      "metadata": {
        "colab": {
          "base_uri": "https://localhost:8080/"
        },
        "id": "fDXzqzatWKWo",
        "outputId": "f43a7696-179a-4978-b1c9-dcc2ea4c238a"
      },
      "execution_count": 21,
      "outputs": [
        {
          "output_type": "stream",
          "name": "stdout",
          "text": [
            "Training accuracy: 0.986\n",
            "Testing accuracy: 0.892\n"
          ]
        }
      ]
    },
    {
      "cell_type": "code",
      "source": [
        "fig, ax = plt.subplots()\n",
        "ax.plot(x_axis, results[\"validation_0\"][\"mlogloss\"], label = \"Train\")\n",
        "ax.plot(x_axis, results[\"validation_1\"][\"mlogloss\"], label = \"Test\")\n",
        "ax.legend()\n",
        "plt.ylabel(\"Log Loss\")\n",
        "plt.xlabel(\"Epochs\")\n",
        "plt.title(\"XGBoost Log Los\")\n",
        "plt.show();"
      ],
      "metadata": {
        "colab": {
          "base_uri": "https://localhost:8080/",
          "height": 295
        },
        "id": "F2tzNRQN6CIf",
        "outputId": "e03e1f0a-6439-4fda-e10c-854ccd530d5f"
      },
      "execution_count": 22,
      "outputs": [
        {
          "output_type": "display_data",
          "data": {
            "text/plain": [
              "<Figure size 432x288 with 1 Axes>"
            ],
            "image/png": "[encoded data removed]"
          },
          "metadata": {
            "needs_background": "light"
          }
        }
      ]
    },
    {
      "cell_type": "code",
      "source": [
        "fig, ax = plt.subplots()\n",
        "ax.plot(x_axis, results[\"validation_0\"][\"merror\"], label = \"Train\")\n",
        "ax.plot(x_axis, results[\"validation_1\"][\"merror\"], label = \"Test\")\n",
        "ax.legend()\n",
        "plt.ylabel(\"Classification Error\")\n",
        "plt.xlabel(\"Epochs\")\n",
        "plt.title(\"XGBoost Classification Error\")\n",
        "plt.show();"
      ],
      "metadata": {
        "colab": {
          "base_uri": "https://localhost:8080/",
          "height": 295
        },
        "id": "DUUnkEC260Op",
        "outputId": "854c1580-7560-4fa0-9de0-bda7cac785ac"
      },
      "execution_count": 23,
      "outputs": [
        {
          "output_type": "display_data",
          "data": {
            "text/plain": [
              "<Figure size 432x288 with 1 Axes>"
            ],
            "image/png": "[encoded data removed]"
          },
          "metadata": {
            "needs_background": "light"
          }
        }
      ]
    },
    {
      "cell_type": "markdown",
      "source": [
        "###Ajuste modelo XGBoost con reducción de características (RFECV)"
      ],
      "metadata": {
        "id": "Et6P3RKE5UXf"
      }
    },
    {
      "cell_type": "markdown",
      "source": [
        "Se probará modioficar el modelo XGBoost con una reducción de características, para evaluar si el rendimiento mejora."
      ],
      "metadata": {
        "id": "TfZOmr5oACAg"
      }
    },
    {
      "cell_type": "code",
      "source": [
        "selector = RFECV(estimator = xgb,\n",
        "                 step = 1,\n",
        "                 min_features_to_select = 3,\n",
        "                 cv=5,\n",
        "                 scoring =\"accuracy\",\n",
        "                 verbose = 1)\n",
        "selector.fit(X_train, y_train)"
      ],
      "metadata": {
        "colab": {
          "base_uri": "https://localhost:8080/",
          "height": 1000
        },
        "id": "GRPluA8_W8aK",
        "outputId": "00829532-c93b-49cf-a7a3-6a419d64498a"
      },
      "execution_count": 24,
      "outputs": [
        {
          "output_type": "stream",
          "name": "stdout",
          "text": [
            "Fitting estimator with 20 features.\n",
            "Fitting estimator with 19 features.\n",
            "Fitting estimator with 18 features.\n",
            "Fitting estimator with 17 features.\n",
            "Fitting estimator with 16 features.\n",
            "Fitting estimator with 15 features.\n",
            "Fitting estimator with 14 features.\n",
            "Fitting estimator with 13 features.\n",
            "Fitting estimator with 12 features.\n",
            "Fitting estimator with 11 features.\n",
            "Fitting estimator with 10 features.\n",
            "Fitting estimator with 9 features.\n",
            "Fitting estimator with 8 features.\n",
            "Fitting estimator with 7 features.\n",
            "Fitting estimator with 6 features.\n",
            "Fitting estimator with 5 features.\n",
            "Fitting estimator with 4 features.\n",
            "Fitting estimator with 20 features.\n",
            "Fitting estimator with 19 features.\n",
            "Fitting estimator with 18 features.\n",
            "Fitting estimator with 17 features.\n",
            "Fitting estimator with 16 features.\n",
            "Fitting estimator with 15 features.\n",
            "Fitting estimator with 14 features.\n",
            "Fitting estimator with 13 features.\n",
            "Fitting estimator with 12 features.\n",
            "Fitting estimator with 11 features.\n",
            "Fitting estimator with 10 features.\n",
            "Fitting estimator with 9 features.\n",
            "Fitting estimator with 8 features.\n",
            "Fitting estimator with 7 features.\n",
            "Fitting estimator with 6 features.\n",
            "Fitting estimator with 5 features.\n",
            "Fitting estimator with 4 features.\n",
            "Fitting estimator with 20 features.\n",
            "Fitting estimator with 19 features.\n",
            "Fitting estimator with 18 features.\n",
            "Fitting estimator with 17 features.\n",
            "Fitting estimator with 16 features.\n",
            "Fitting estimator with 15 features.\n",
            "Fitting estimator with 14 features.\n",
            "Fitting estimator with 13 features.\n",
            "Fitting estimator with 12 features.\n",
            "Fitting estimator with 11 features.\n",
            "Fitting estimator with 10 features.\n",
            "Fitting estimator with 9 features.\n",
            "Fitting estimator with 8 features.\n",
            "Fitting estimator with 7 features.\n",
            "Fitting estimator with 6 features.\n",
            "Fitting estimator with 5 features.\n",
            "Fitting estimator with 4 features.\n",
            "Fitting estimator with 20 features.\n",
            "Fitting estimator with 19 features.\n",
            "Fitting estimator with 18 features.\n",
            "Fitting estimator with 17 features.\n",
            "Fitting estimator with 16 features.\n",
            "Fitting estimator with 15 features.\n",
            "Fitting estimator with 14 features.\n",
            "Fitting estimator with 13 features.\n",
            "Fitting estimator with 12 features.\n",
            "Fitting estimator with 11 features.\n",
            "Fitting estimator with 10 features.\n",
            "Fitting estimator with 9 features.\n",
            "Fitting estimator with 8 features.\n",
            "Fitting estimator with 7 features.\n",
            "Fitting estimator with 6 features.\n",
            "Fitting estimator with 5 features.\n",
            "Fitting estimator with 4 features.\n",
            "Fitting estimator with 20 features.\n",
            "Fitting estimator with 19 features.\n",
            "Fitting estimator with 18 features.\n",
            "Fitting estimator with 17 features.\n",
            "Fitting estimator with 16 features.\n",
            "Fitting estimator with 15 features.\n",
            "Fitting estimator with 14 features.\n",
            "Fitting estimator with 13 features.\n",
            "Fitting estimator with 12 features.\n",
            "Fitting estimator with 11 features.\n",
            "Fitting estimator with 10 features.\n",
            "Fitting estimator with 9 features.\n",
            "Fitting estimator with 8 features.\n",
            "Fitting estimator with 7 features.\n",
            "Fitting estimator with 6 features.\n",
            "Fitting estimator with 5 features.\n",
            "Fitting estimator with 4 features.\n",
            "Fitting estimator with 20 features.\n",
            "Fitting estimator with 19 features.\n",
            "Fitting estimator with 18 features.\n",
            "Fitting estimator with 17 features.\n",
            "Fitting estimator with 16 features.\n",
            "Fitting estimator with 15 features.\n",
            "Fitting estimator with 14 features.\n",
            "Fitting estimator with 13 features.\n",
            "Fitting estimator with 12 features.\n",
            "Fitting estimator with 11 features.\n",
            "Fitting estimator with 10 features.\n",
            "Fitting estimator with 9 features.\n",
            "Fitting estimator with 8 features.\n",
            "Fitting estimator with 7 features.\n"
          ]
        },
        {
          "output_type": "execute_result",
          "data": {
            "text/plain": [
              "RFECV(cv=5, estimator=XGBClassifier(objective='multi:softprob'),\n",
              "      min_features_to_select=3, scoring='accuracy', verbose=1)"
            ],
            "text/html": [
              "<style>#sk-e9834480-0e21-4802-b919-bb767fed31e1 {color: black;background-color: white;}#sk-e9834480-0e21-4802-b919-bb767fed31e1 pre{padding: 0;}#sk-e9834480-0e21-4802-b919-bb767fed31e1 div.sk-toggleable {background-color: white;}#sk-e9834480-0e21-4802-b919-bb767fed31e1 label.sk-toggleable__label {cursor: pointer;display: block;width: 100%;margin-bottom: 0;padding: 0.3em;box-sizing: border-box;text-align: center;}#sk-e9834480-0e21-4802-b919-bb767fed31e1 label.sk-toggleable__label-arrow:before {content: \"▸\";float: left;margin-right: 0.25em;color: #696969;}#sk-e9834480-0e21-4802-b919-bb767fed31e1 label.sk-toggleable__label-arrow:hover:before {color: black;}#sk-e9834480-0e21-4802-b919-bb767fed31e1 div.sk-estimator:hover label.sk-toggleable__label-arrow:before {color: black;}#sk-e9834480-0e21-4802-b919-bb767fed31e1 div.sk-toggleable__content {max-height: 0;max-width: 0;overflow: hidden;text-align: left;background-color: #f0f8ff;}#sk-e9834480-0e21-4802-b919-bb767fed31e1 div.sk-toggleable__content pre {margin: 0.2em;color: black;border-radius: 0.25em;background-color: #f0f8ff;}#sk-e9834480-0e21-4802-b919-bb767fed31e1 input.sk-toggleable__control:checked~div.sk-toggleable__content {max-height: 200px;max-width: 100%;overflow: auto;}#sk-e9834480-0e21-4802-b919-bb767fed31e1 input.sk-toggleable__control:checked~label.sk-toggleable__label-arrow:before {content: \"▾\";}#sk-e9834480-0e21-4802-b919-bb767fed31e1 div.sk-estimator input.sk-toggleable__control:checked~label.sk-toggleable__label {background-color: #d4ebff;}#sk-e9834480-0e21-4802-b919-bb767fed31e1 div.sk-label input.sk-toggleable__control:checked~label.sk-toggleable__label {background-color: #d4ebff;}#sk-e9834480-0e21-4802-b919-bb767fed31e1 input.sk-hidden--visually {border: 0;clip: rect(1px 1px 1px 1px);clip: rect(1px, 1px, 1px, 1px);height: 1px;margin: -1px;overflow: hidden;padding: 0;position: absolute;width: 1px;}#sk-e9834480-0e21-4802-b919-bb767fed31e1 div.sk-estimator {font-family: monospace;background-color: #f0f8ff;border: 1px dotted black;border-radius: 0.25em;box-sizing: border-box;margin-bottom: 0.5em;}#sk-e9834480-0e21-4802-b919-bb767fed31e1 div.sk-estimator:hover {background-color: #d4ebff;}#sk-e9834480-0e21-4802-b919-bb767fed31e1 div.sk-parallel-item::after {content: \"\";width: 100%;border-bottom: 1px solid gray;flex-grow: 1;}#sk-e9834480-0e21-4802-b919-bb767fed31e1 div.sk-label:hover label.sk-toggleable__label {background-color: #d4ebff;}#sk-e9834480-0e21-4802-b919-bb767fed31e1 div.sk-serial::before {content: \"\";position: absolute;border-left: 1px solid gray;box-sizing: border-box;top: 2em;bottom: 0;left: 50%;}#sk-e9834480-0e21-4802-b919-bb767fed31e1 div.sk-serial {display: flex;flex-direction: column;align-items: center;background-color: white;padding-right: 0.2em;padding-left: 0.2em;}#sk-e9834480-0e21-4802-b919-bb767fed31e1 div.sk-item {z-index: 1;}#sk-e9834480-0e21-4802-b919-bb767fed31e1 div.sk-parallel {display: flex;align-items: stretch;justify-content: center;background-color: white;}#sk-e9834480-0e21-4802-b919-bb767fed31e1 div.sk-parallel::before {content: \"\";position: absolute;border-left: 1px solid gray;box-sizing: border-box;top: 2em;bottom: 0;left: 50%;}#sk-e9834480-0e21-4802-b919-bb767fed31e1 div.sk-parallel-item {display: flex;flex-direction: column;position: relative;background-color: white;}#sk-e9834480-0e21-4802-b919-bb767fed31e1 div.sk-parallel-item:first-child::after {align-self: flex-end;width: 50%;}#sk-e9834480-0e21-4802-b919-bb767fed31e1 div.sk-parallel-item:last-child::after {align-self: flex-start;width: 50%;}#sk-e9834480-0e21-4802-b919-bb767fed31e1 div.sk-parallel-item:only-child::after {width: 0;}#sk-e9834480-0e21-4802-b919-bb767fed31e1 div.sk-dashed-wrapped {border: 1px dashed gray;margin: 0 0.4em 0.5em 0.4em;box-sizing: border-box;padding-bottom: 0.4em;background-color: white;position: relative;}#sk-e9834480-0e21-4802-b919-bb767fed31e1 div.sk-label label {font-family: monospace;font-weight: bold;background-color: white;display: inline-block;line-height: 1.2em;}#sk-e9834480-0e21-4802-b919-bb767fed31e1 div.sk-label-container {position: relative;z-index: 2;text-align: center;}#sk-e9834480-0e21-4802-b919-bb767fed31e1 div.sk-container {/* jupyter's `normalize.less` sets `[hidden] { display: none; }` but bootstrap.min.css set `[hidden] { display: none !important; }` so we also need the `!important` here to be able to override the default hidden behavior on the sphinx rendered scikit-learn.org. See: https://github.com/scikit-learn/scikit-learn/issues/21755 */display: inline-block !important;position: relative;}#sk-e9834480-0e21-4802-b919-bb767fed31e1 div.sk-text-repr-fallback {display: none;}</style><div id=\"sk-e9834480-0e21-4802-b919-bb767fed31e1\" class=\"sk-top-container\"><div class=\"sk-text-repr-fallback\"><pre>RFECV(cv=5, estimator=XGBClassifier(objective=&#x27;multi:softprob&#x27;),\n",
              "      min_features_to_select=3, scoring=&#x27;accuracy&#x27;, verbose=1)</pre><b>Please rerun this cell to show the HTML repr or trust the notebook.</b></div><div class=\"sk-container\" hidden><div class=\"sk-item sk-dashed-wrapped\"><div class=\"sk-label-container\"><div class=\"sk-label sk-toggleable\"><input class=\"sk-toggleable__control sk-hidden--visually\" id=\"00dba234-18d8-4e5b-9c7b-b3677ccaecfa\" type=\"checkbox\" ><label for=\"00dba234-18d8-4e5b-9c7b-b3677ccaecfa\" class=\"sk-toggleable__label sk-toggleable__label-arrow\">RFECV</label><div class=\"sk-toggleable__content\"><pre>RFECV(cv=5, estimator=XGBClassifier(objective=&#x27;multi:softprob&#x27;),\n",
              "      min_features_to_select=3, scoring=&#x27;accuracy&#x27;, verbose=1)</pre></div></div></div><div class=\"sk-parallel\"><div class=\"sk-parallel-item\"><div class=\"sk-item\"><div class=\"sk-serial\"><div class=\"sk-item\"><div class=\"sk-estimator sk-toggleable\"><input class=\"sk-toggleable__control sk-hidden--visually\" id=\"18485149-e3b3-4d56-9d62-48387576dba7\" type=\"checkbox\" ><label for=\"18485149-e3b3-4d56-9d62-48387576dba7\" class=\"sk-toggleable__label sk-toggleable__label-arrow\">XGBClassifier</label><div class=\"sk-toggleable__content\"><pre>XGBClassifier(objective=&#x27;multi:softprob&#x27;)</pre></div></div></div></div></div></div></div></div></div></div>"
            ]
          },
          "metadata": {},
          "execution_count": 24
        }
      ]
    },
    {
      "cell_type": "code",
      "source": [
        "print(selector.ranking_)"
      ],
      "metadata": {
        "colab": {
          "base_uri": "https://localhost:8080/"
        },
        "id": "7GCeclWhapC2",
        "outputId": "03e2550b-540f-4565-c634-4d2f811bda8e"
      },
      "execution_count": 25,
      "outputs": [
        {
          "output_type": "stream",
          "name": "stdout",
          "text": [
            "[ 1 14  6 13  5  8  1  2  1  7 10  1  1  1  3  9 12 11  4 15]\n"
          ]
        }
      ]
    },
    {
      "cell_type": "code",
      "source": [
        "features_names = selector.feature_names_in_"
      ],
      "metadata": {
        "id": "pBYbdoeTb4iq"
      },
      "execution_count": 26,
      "outputs": []
    },
    {
      "cell_type": "code",
      "source": [
        "print(features_names)"
      ],
      "metadata": {
        "colab": {
          "base_uri": "https://localhost:8080/"
        },
        "id": "YAoCbNHedxlp",
        "outputId": "3a9cf7e4-3f8a-4d6e-f0d3-152a4baebb3b"
      },
      "execution_count": 27,
      "outputs": [
        {
          "output_type": "stream",
          "name": "stdout",
          "text": [
            "['battery_power' 'blue' 'clock_speed' 'dual_sim' 'fc' 'four_g'\n",
            " 'int_memory' 'm_dep' 'mobile_wt' 'n_cores' 'pc' 'px_height' 'px_width'\n",
            " 'ram' 'sc_h' 'sc_w' 'talk_time' 'three_g' 'touch_screen' 'wifi']\n"
          ]
        }
      ]
    },
    {
      "cell_type": "code",
      "source": [
        "feature_condition = selector.support_"
      ],
      "metadata": {
        "id": "oIKNaVYacITI"
      },
      "execution_count": 28,
      "outputs": []
    },
    {
      "cell_type": "code",
      "source": [
        "nombres = []\n",
        "for i in range(0,19):\n",
        "  if feature_condition[i]== True:\n",
        "    nombres.append(features_names[i])"
      ],
      "metadata": {
        "id": "IcSGdodzdMIa"
      },
      "execution_count": 29,
      "outputs": []
    },
    {
      "cell_type": "code",
      "source": [
        "nombres"
      ],
      "metadata": {
        "colab": {
          "base_uri": "https://localhost:8080/"
        },
        "id": "5ja_kQdzdoOX",
        "outputId": "c3762a72-db6e-4928-febf-4136e5d848d7"
      },
      "execution_count": 30,
      "outputs": [
        {
          "output_type": "execute_result",
          "data": {
            "text/plain": [
              "['battery_power', 'int_memory', 'mobile_wt', 'px_height', 'px_width', 'ram']"
            ]
          },
          "metadata": {},
          "execution_count": 30
        }
      ]
    },
    {
      "cell_type": "code",
      "source": [
        "selector.predict(X_train)"
      ],
      "metadata": {
        "colab": {
          "base_uri": "https://localhost:8080/"
        },
        "id": "GM0LAE6Ycl5Z",
        "outputId": "99ac5007-d7fa-4bd9-e2c5-f48e85d1735d"
      },
      "execution_count": 31,
      "outputs": [
        {
          "output_type": "execute_result",
          "data": {
            "text/plain": [
              "array([1, 2, 3, ..., 2, 3, 1])"
            ]
          },
          "metadata": {},
          "execution_count": 31
        }
      ]
    },
    {
      "cell_type": "code",
      "source": [
        "X_train_reducido = selector.transform(X_train)\n",
        "X_train_reducido = pd.DataFrame(X_train_reducido, columns = nombres)\n",
        "X_train_reducido.head()"
      ],
      "metadata": {
        "colab": {
          "base_uri": "https://localhost:8080/",
          "height": 206
        },
        "id": "G-XdV33RdHQf",
        "outputId": "901aa0c1-2e02-4cf8-cf88-930dd0a82eb3"
      },
      "execution_count": 32,
      "outputs": [
        {
          "output_type": "execute_result",
          "data": {
            "text/plain": [
              "   battery_power  int_memory  mobile_wt  px_height  px_width     ram\n",
              "0          511.0        24.0      136.0      367.0    1264.0  2378.0\n",
              "1          641.0         7.0      192.0      417.0     759.0  3595.0\n",
              "2          805.0        34.0       88.0     1262.0    1538.0  3647.0\n",
              "3         1801.0        52.0      120.0      100.0    1708.0   258.0\n",
              "4          744.0        33.0      105.0     1252.0    1963.0  2700.0"
            ],
            "text/html": [
              "\n",
              "  <div id=\"df-3186d46e-57de-473d-ac46-498288c0165e\">\n",
              "    <div class=\"colab-df-container\">\n",
              "      <div>\n",
              "<style scoped>\n",
              "    .dataframe tbody tr th:only-of-type {\n",
              "        vertical-align: middle;\n",
              "    }\n",
              "\n",
              "    .dataframe tbody tr th {\n",
              "        vertical-align: top;\n",
              "    }\n",
              "\n",
              "    .dataframe thead th {\n",
              "        text-align: right;\n",
              "    }\n",
              "</style>\n",
              "<table border=\"1\" class=\"dataframe\">\n",
              "  <thead>\n",
              "    <tr style=\"text-align: right;\">\n",
              "      <th></th>\n",
              "      <th>battery_power</th>\n",
              "      <th>int_memory</th>\n",
              "      <th>mobile_wt</th>\n",
              "      <th>px_height</th>\n",
              "      <th>px_width</th>\n",
              "      <th>ram</th>\n",
              "    </tr>\n",
              "  </thead>\n",
              "  <tbody>\n",
              "    <tr>\n",
              "      <th>0</th>\n",
              "      <td>511.0</td>\n",
              "      <td>24.0</td>\n",
              "      <td>136.0</td>\n",
              "      <td>367.0</td>\n",
              "      <td>1264.0</td>\n",
              "      <td>2378.0</td>\n",
              "    </tr>\n",
              "    <tr>\n",
              "      <th>1</th>\n",
              "      <td>641.0</td>\n",
              "      <td>7.0</td>\n",
              "      <td>192.0</td>\n",
              "      <td>417.0</td>\n",
              "      <td>759.0</td>\n",
              "      <td>3595.0</td>\n",
              "    </tr>\n",
              "    <tr>\n",
              "      <th>2</th>\n",
              "      <td>805.0</td>\n",
              "      <td>34.0</td>\n",
              "      <td>88.0</td>\n",
              "      <td>1262.0</td>\n",
              "      <td>1538.0</td>\n",
              "      <td>3647.0</td>\n",
              "    </tr>\n",
              "    <tr>\n",
              "      <th>3</th>\n",
              "      <td>1801.0</td>\n",
              "      <td>52.0</td>\n",
              "      <td>120.0</td>\n",
              "      <td>100.0</td>\n",
              "      <td>1708.0</td>\n",
              "      <td>258.0</td>\n",
              "    </tr>\n",
              "    <tr>\n",
              "      <th>4</th>\n",
              "      <td>744.0</td>\n",
              "      <td>33.0</td>\n",
              "      <td>105.0</td>\n",
              "      <td>1252.0</td>\n",
              "      <td>1963.0</td>\n",
              "      <td>2700.0</td>\n",
              "    </tr>\n",
              "  </tbody>\n",
              "</table>\n",
              "</div>\n",
              "      <button class=\"colab-df-convert\" onclick=\"convertToInteractive('df-3186d46e-57de-473d-ac46-498288c0165e')\"\n",
              "              title=\"Convert this dataframe to an interactive table.\"\n",
              "              style=\"display:none;\">\n",
              "        \n",
              "  <svg xmlns=\"http://www.w3.org/2000/svg\" height=\"24px\"viewBox=\"0 0 24 24\"\n",
              "       width=\"24px\">\n",
              "    <path d=\"M0 0h24v24H0V0z\" fill=\"none\"/>\n",
              "    <path d=\"M18.56 5.44l.94 2.06.94-2.06 2.06-.94-2.06-.94-.94-2.06-.94 2.06-2.06.94zm-11 1L8.5 8.5l.94-2.06 2.06-.94-2.06-.94L8.5 2.5l-.94 2.06-2.06.94zm10 10l.94 2.06.94-2.06 2.06-.94-2.06-.94-.94-2.06-.94 2.06-2.06.94z\"/><path d=\"M17.41 7.96l-1.37-1.37c-.4-.4-.92-.59-1.43-.59-.52 0-1.04.2-1.43.59L10.3 9.45l-7.72 7.72c-.78.78-.78 2.05 0 2.83L4 21.41c.39.39.9.59 1.41.59.51 0 1.02-.2 1.41-.59l7.78-7.78 2.81-2.81c.8-.78.8-2.07 0-2.86zM5.41 20L4 18.59l7.72-7.72 1.47 1.35L5.41 20z\"/>\n",
              "  </svg>\n",
              "      </button>\n",
              "      \n",
              "  <style>\n",
              "    .colab-df-container {\n",
              "      display:flex;\n",
              "      flex-wrap:wrap;\n",
              "      gap: 12px;\n",
              "    }\n",
              "\n",
              "    .colab-df-convert {\n",
              "      background-color: #E8F0FE;\n",
              "      border: none;\n",
              "      border-radius: 50%;\n",
              "      cursor: pointer;\n",
              "      display: none;\n",
              "      fill: #1967D2;\n",
              "      height: 32px;\n",
              "      padding: 0 0 0 0;\n",
              "      width: 32px;\n",
              "    }\n",
              "\n",
              "    .colab-df-convert:hover {\n",
              "      background-color: #E2EBFA;\n",
              "      box-shadow: 0px 1px 2px rgba(60, 64, 67, 0.3), 0px 1px 3px 1px rgba(60, 64, 67, 0.15);\n",
              "      fill: #174EA6;\n",
              "    }\n",
              "\n",
              "    [theme=dark] .colab-df-convert {\n",
              "      background-color: #3B4455;\n",
              "      fill: #D2E3FC;\n",
              "    }\n",
              "\n",
              "    [theme=dark] .colab-df-convert:hover {\n",
              "      background-color: #434B5C;\n",
              "      box-shadow: 0px 1px 3px 1px rgba(0, 0, 0, 0.15);\n",
              "      filter: drop-shadow(0px 1px 2px rgba(0, 0, 0, 0.3));\n",
              "      fill: #FFFFFF;\n",
              "    }\n",
              "  </style>\n",
              "\n",
              "      <script>\n",
              "        const buttonEl =\n",
              "          document.querySelector('#df-3186d46e-57de-473d-ac46-498288c0165e button.colab-df-convert');\n",
              "        buttonEl.style.display =\n",
              "          google.colab.kernel.accessAllowed ? 'block' : 'none';\n",
              "\n",
              "        async function convertToInteractive(key) {\n",
              "          const element = document.querySelector('#df-3186d46e-57de-473d-ac46-498288c0165e');\n",
              "          const dataTable =\n",
              "            await google.colab.kernel.invokeFunction('convertToInteractive',\n",
              "                                                     [key], {});\n",
              "          if (!dataTable) return;\n",
              "\n",
              "          const docLinkHtml = 'Like what you see? Visit the ' +\n",
              "            '<a target=\"_blank\" href=https://colab.research.google.com/notebooks/data_table.ipynb>data table notebook</a>'\n",
              "            + ' to learn more about interactive tables.';\n",
              "          element.innerHTML = '';\n",
              "          dataTable['output_type'] = 'display_data';\n",
              "          await google.colab.output.renderOutput(dataTable, element);\n",
              "          const docLink = document.createElement('div');\n",
              "          docLink.innerHTML = docLinkHtml;\n",
              "          element.appendChild(docLink);\n",
              "        }\n",
              "      </script>\n",
              "    </div>\n",
              "  </div>\n",
              "  "
            ]
          },
          "metadata": {},
          "execution_count": 32
        }
      ]
    },
    {
      "cell_type": "code",
      "source": [
        "X_test_reducido = X_test.loc[:,nombres]\n",
        "X_test_reducido.head()"
      ],
      "metadata": {
        "colab": {
          "base_uri": "https://localhost:8080/",
          "height": 206
        },
        "id": "JvlrLSmqeUMb",
        "outputId": "b6d0d5b6-681c-4a12-c46f-58696b6456b6"
      },
      "execution_count": 33,
      "outputs": [
        {
          "output_type": "execute_result",
          "data": {
            "text/plain": [
              "      battery_power  int_memory  mobile_wt  px_height  px_width   ram\n",
              "1860           1646          25        200        211      1608   686\n",
              "353            1182           8        138        275       986  2563\n",
              "1333           1972          14        196        293       952  1316\n",
              "905             989          17        166        256      1394  3892\n",
              "1289            615          58        130       1021      1958  1906"
            ],
            "text/html": [
              "\n",
              "  <div id=\"df-52aa06b8-ee3a-41ac-b1d0-ced7dc335091\">\n",
              "    <div class=\"colab-df-container\">\n",
              "      <div>\n",
              "<style scoped>\n",
              "    .dataframe tbody tr th:only-of-type {\n",
              "        vertical-align: middle;\n",
              "    }\n",
              "\n",
              "    .dataframe tbody tr th {\n",
              "        vertical-align: top;\n",
              "    }\n",
              "\n",
              "    .dataframe thead th {\n",
              "        text-align: right;\n",
              "    }\n",
              "</style>\n",
              "<table border=\"1\" class=\"dataframe\">\n",
              "  <thead>\n",
              "    <tr style=\"text-align: right;\">\n",
              "      <th></th>\n",
              "      <th>battery_power</th>\n",
              "      <th>int_memory</th>\n",
              "      <th>mobile_wt</th>\n",
              "      <th>px_height</th>\n",
              "      <th>px_width</th>\n",
              "      <th>ram</th>\n",
              "    </tr>\n",
              "  </thead>\n",
              "  <tbody>\n",
              "    <tr>\n",
              "      <th>1860</th>\n",
              "      <td>1646</td>\n",
              "      <td>25</td>\n",
              "      <td>200</td>\n",
              "      <td>211</td>\n",
              "      <td>1608</td>\n",
              "      <td>686</td>\n",
              "    </tr>\n",
              "    <tr>\n",
              "      <th>353</th>\n",
              "      <td>1182</td>\n",
              "      <td>8</td>\n",
              "      <td>138</td>\n",
              "      <td>275</td>\n",
              "      <td>986</td>\n",
              "      <td>2563</td>\n",
              "    </tr>\n",
              "    <tr>\n",
              "      <th>1333</th>\n",
              "      <td>1972</td>\n",
              "      <td>14</td>\n",
              "      <td>196</td>\n",
              "      <td>293</td>\n",
              "      <td>952</td>\n",
              "      <td>1316</td>\n",
              "    </tr>\n",
              "    <tr>\n",
              "      <th>905</th>\n",
              "      <td>989</td>\n",
              "      <td>17</td>\n",
              "      <td>166</td>\n",
              "      <td>256</td>\n",
              "      <td>1394</td>\n",
              "      <td>3892</td>\n",
              "    </tr>\n",
              "    <tr>\n",
              "      <th>1289</th>\n",
              "      <td>615</td>\n",
              "      <td>58</td>\n",
              "      <td>130</td>\n",
              "      <td>1021</td>\n",
              "      <td>1958</td>\n",
              "      <td>1906</td>\n",
              "    </tr>\n",
              "  </tbody>\n",
              "</table>\n",
              "</div>\n",
              "      <button class=\"colab-df-convert\" onclick=\"convertToInteractive('df-52aa06b8-ee3a-41ac-b1d0-ced7dc335091')\"\n",
              "              title=\"Convert this dataframe to an interactive table.\"\n",
              "              style=\"display:none;\">\n",
              "        \n",
              "  <svg xmlns=\"http://www.w3.org/2000/svg\" height=\"24px\"viewBox=\"0 0 24 24\"\n",
              "       width=\"24px\">\n",
              "    <path d=\"M0 0h24v24H0V0z\" fill=\"none\"/>\n",
              "    <path d=\"M18.56 5.44l.94 2.06.94-2.06 2.06-.94-2.06-.94-.94-2.06-.94 2.06-2.06.94zm-11 1L8.5 8.5l.94-2.06 2.06-.94-2.06-.94L8.5 2.5l-.94 2.06-2.06.94zm10 10l.94 2.06.94-2.06 2.06-.94-2.06-.94-.94-2.06-.94 2.06-2.06.94z\"/><path d=\"M17.41 7.96l-1.37-1.37c-.4-.4-.92-.59-1.43-.59-.52 0-1.04.2-1.43.59L10.3 9.45l-7.72 7.72c-.78.78-.78 2.05 0 2.83L4 21.41c.39.39.9.59 1.41.59.51 0 1.02-.2 1.41-.59l7.78-7.78 2.81-2.81c.8-.78.8-2.07 0-2.86zM5.41 20L4 18.59l7.72-7.72 1.47 1.35L5.41 20z\"/>\n",
              "  </svg>\n",
              "      </button>\n",
              "      \n",
              "  <style>\n",
              "    .colab-df-container {\n",
              "      display:flex;\n",
              "      flex-wrap:wrap;\n",
              "      gap: 12px;\n",
              "    }\n",
              "\n",
              "    .colab-df-convert {\n",
              "      background-color: #E8F0FE;\n",
              "      border: none;\n",
              "      border-radius: 50%;\n",
              "      cursor: pointer;\n",
              "      display: none;\n",
              "      fill: #1967D2;\n",
              "      height: 32px;\n",
              "      padding: 0 0 0 0;\n",
              "      width: 32px;\n",
              "    }\n",
              "\n",
              "    .colab-df-convert:hover {\n",
              "      background-color: #E2EBFA;\n",
              "      box-shadow: 0px 1px 2px rgba(60, 64, 67, 0.3), 0px 1px 3px 1px rgba(60, 64, 67, 0.15);\n",
              "      fill: #174EA6;\n",
              "    }\n",
              "\n",
              "    [theme=dark] .colab-df-convert {\n",
              "      background-color: #3B4455;\n",
              "      fill: #D2E3FC;\n",
              "    }\n",
              "\n",
              "    [theme=dark] .colab-df-convert:hover {\n",
              "      background-color: #434B5C;\n",
              "      box-shadow: 0px 1px 3px 1px rgba(0, 0, 0, 0.15);\n",
              "      filter: drop-shadow(0px 1px 2px rgba(0, 0, 0, 0.3));\n",
              "      fill: #FFFFFF;\n",
              "    }\n",
              "  </style>\n",
              "\n",
              "      <script>\n",
              "        const buttonEl =\n",
              "          document.querySelector('#df-52aa06b8-ee3a-41ac-b1d0-ced7dc335091 button.colab-df-convert');\n",
              "        buttonEl.style.display =\n",
              "          google.colab.kernel.accessAllowed ? 'block' : 'none';\n",
              "\n",
              "        async function convertToInteractive(key) {\n",
              "          const element = document.querySelector('#df-52aa06b8-ee3a-41ac-b1d0-ced7dc335091');\n",
              "          const dataTable =\n",
              "            await google.colab.kernel.invokeFunction('convertToInteractive',\n",
              "                                                     [key], {});\n",
              "          if (!dataTable) return;\n",
              "\n",
              "          const docLinkHtml = 'Like what you see? Visit the ' +\n",
              "            '<a target=\"_blank\" href=https://colab.research.google.com/notebooks/data_table.ipynb>data table notebook</a>'\n",
              "            + ' to learn more about interactive tables.';\n",
              "          element.innerHTML = '';\n",
              "          dataTable['output_type'] = 'display_data';\n",
              "          await google.colab.output.renderOutput(dataTable, element);\n",
              "          const docLink = document.createElement('div');\n",
              "          docLink.innerHTML = docLinkHtml;\n",
              "          element.appendChild(docLink);\n",
              "        }\n",
              "      </script>\n",
              "    </div>\n",
              "  </div>\n",
              "  "
            ]
          },
          "metadata": {},
          "execution_count": 33
        }
      ]
    },
    {
      "cell_type": "code",
      "source": [
        "# Instantiate and fit gradient boosting classifier\n",
        "xgb = XGBClassifier()\n",
        "xgb.fit(X_train_reducido, y_train)"
      ],
      "metadata": {
        "colab": {
          "base_uri": "https://localhost:8080/",
          "height": 75
        },
        "id": "CNvJPGjTd8xp",
        "outputId": "f3c76861-1843-45de-9fcb-f1037a81e72a"
      },
      "execution_count": 36,
      "outputs": [
        {
          "output_type": "execute_result",
          "data": {
            "text/plain": [
              "XGBClassifier(objective='multi:softprob')"
            ],
            "text/html": [
              "<style>#sk-d19a4048-75c8-47f0-9356-71821a1d9e66 {color: black;background-color: white;}#sk-d19a4048-75c8-47f0-9356-71821a1d9e66 pre{padding: 0;}#sk-d19a4048-75c8-47f0-9356-71821a1d9e66 div.sk-toggleable {background-color: white;}#sk-d19a4048-75c8-47f0-9356-71821a1d9e66 label.sk-toggleable__label {cursor: pointer;display: block;width: 100%;margin-bottom: 0;padding: 0.3em;box-sizing: border-box;text-align: center;}#sk-d19a4048-75c8-47f0-9356-71821a1d9e66 label.sk-toggleable__label-arrow:before {content: \"▸\";float: left;margin-right: 0.25em;color: #696969;}#sk-d19a4048-75c8-47f0-9356-71821a1d9e66 label.sk-toggleable__label-arrow:hover:before {color: black;}#sk-d19a4048-75c8-47f0-9356-71821a1d9e66 div.sk-estimator:hover label.sk-toggleable__label-arrow:before {color: black;}#sk-d19a4048-75c8-47f0-9356-71821a1d9e66 div.sk-toggleable__content {max-height: 0;max-width: 0;overflow: hidden;text-align: left;background-color: #f0f8ff;}#sk-d19a4048-75c8-47f0-9356-71821a1d9e66 div.sk-toggleable__content pre {margin: 0.2em;color: black;border-radius: 0.25em;background-color: #f0f8ff;}#sk-d19a4048-75c8-47f0-9356-71821a1d9e66 input.sk-toggleable__control:checked~div.sk-toggleable__content {max-height: 200px;max-width: 100%;overflow: auto;}#sk-d19a4048-75c8-47f0-9356-71821a1d9e66 input.sk-toggleable__control:checked~label.sk-toggleable__label-arrow:before {content: \"▾\";}#sk-d19a4048-75c8-47f0-9356-71821a1d9e66 div.sk-estimator input.sk-toggleable__control:checked~label.sk-toggleable__label {background-color: #d4ebff;}#sk-d19a4048-75c8-47f0-9356-71821a1d9e66 div.sk-label input.sk-toggleable__control:checked~label.sk-toggleable__label {background-color: #d4ebff;}#sk-d19a4048-75c8-47f0-9356-71821a1d9e66 input.sk-hidden--visually {border: 0;clip: rect(1px 1px 1px 1px);clip: rect(1px, 1px, 1px, 1px);height: 1px;margin: -1px;overflow: hidden;padding: 0;position: absolute;width: 1px;}#sk-d19a4048-75c8-47f0-9356-71821a1d9e66 div.sk-estimator {font-family: monospace;background-color: #f0f8ff;border: 1px dotted black;border-radius: 0.25em;box-sizing: border-box;margin-bottom: 0.5em;}#sk-d19a4048-75c8-47f0-9356-71821a1d9e66 div.sk-estimator:hover {background-color: #d4ebff;}#sk-d19a4048-75c8-47f0-9356-71821a1d9e66 div.sk-parallel-item::after {content: \"\";width: 100%;border-bottom: 1px solid gray;flex-grow: 1;}#sk-d19a4048-75c8-47f0-9356-71821a1d9e66 div.sk-label:hover label.sk-toggleable__label {background-color: #d4ebff;}#sk-d19a4048-75c8-47f0-9356-71821a1d9e66 div.sk-serial::before {content: \"\";position: absolute;border-left: 1px solid gray;box-sizing: border-box;top: 2em;bottom: 0;left: 50%;}#sk-d19a4048-75c8-47f0-9356-71821a1d9e66 div.sk-serial {display: flex;flex-direction: column;align-items: center;background-color: white;padding-right: 0.2em;padding-left: 0.2em;}#sk-d19a4048-75c8-47f0-9356-71821a1d9e66 div.sk-item {z-index: 1;}#sk-d19a4048-75c8-47f0-9356-71821a1d9e66 div.sk-parallel {display: flex;align-items: stretch;justify-content: center;background-color: white;}#sk-d19a4048-75c8-47f0-9356-71821a1d9e66 div.sk-parallel::before {content: \"\";position: absolute;border-left: 1px solid gray;box-sizing: border-box;top: 2em;bottom: 0;left: 50%;}#sk-d19a4048-75c8-47f0-9356-71821a1d9e66 div.sk-parallel-item {display: flex;flex-direction: column;position: relative;background-color: white;}#sk-d19a4048-75c8-47f0-9356-71821a1d9e66 div.sk-parallel-item:first-child::after {align-self: flex-end;width: 50%;}#sk-d19a4048-75c8-47f0-9356-71821a1d9e66 div.sk-parallel-item:last-child::after {align-self: flex-start;width: 50%;}#sk-d19a4048-75c8-47f0-9356-71821a1d9e66 div.sk-parallel-item:only-child::after {width: 0;}#sk-d19a4048-75c8-47f0-9356-71821a1d9e66 div.sk-dashed-wrapped {border: 1px dashed gray;margin: 0 0.4em 0.5em 0.4em;box-sizing: border-box;padding-bottom: 0.4em;background-color: white;position: relative;}#sk-d19a4048-75c8-47f0-9356-71821a1d9e66 div.sk-label label {font-family: monospace;font-weight: bold;background-color: white;display: inline-block;line-height: 1.2em;}#sk-d19a4048-75c8-47f0-9356-71821a1d9e66 div.sk-label-container {position: relative;z-index: 2;text-align: center;}#sk-d19a4048-75c8-47f0-9356-71821a1d9e66 div.sk-container {/* jupyter's `normalize.less` sets `[hidden] { display: none; }` but bootstrap.min.css set `[hidden] { display: none !important; }` so we also need the `!important` here to be able to override the default hidden behavior on the sphinx rendered scikit-learn.org. See: https://github.com/scikit-learn/scikit-learn/issues/21755 */display: inline-block !important;position: relative;}#sk-d19a4048-75c8-47f0-9356-71821a1d9e66 div.sk-text-repr-fallback {display: none;}</style><div id=\"sk-d19a4048-75c8-47f0-9356-71821a1d9e66\" class=\"sk-top-container\"><div class=\"sk-text-repr-fallback\"><pre>XGBClassifier(objective=&#x27;multi:softprob&#x27;)</pre><b>Please rerun this cell to show the HTML repr or trust the notebook.</b></div><div class=\"sk-container\" hidden><div class=\"sk-item\"><div class=\"sk-estimator sk-toggleable\"><input class=\"sk-toggleable__control sk-hidden--visually\" id=\"35e2b54f-d4e6-4849-ad7d-40ddf3a8ca5f\" type=\"checkbox\" checked><label for=\"35e2b54f-d4e6-4849-ad7d-40ddf3a8ca5f\" class=\"sk-toggleable__label sk-toggleable__label-arrow\">XGBClassifier</label><div class=\"sk-toggleable__content\"><pre>XGBClassifier(objective=&#x27;multi:softprob&#x27;)</pre></div></div></div></div></div>"
            ]
          },
          "metadata": {},
          "execution_count": 36
        }
      ]
    },
    {
      "cell_type": "code",
      "source": [
        "print('Training accuracy:', xgb.score(X_train_reducido, y_train))\n",
        "print('Testing accuracy:', xgb.score(X_test_reducido, y_test))"
      ],
      "metadata": {
        "colab": {
          "base_uri": "https://localhost:8080/"
        },
        "id": "nQS5FDMBeFQ4",
        "outputId": "9f29cd70-d09d-43e6-9164-9d51b3278f2a"
      },
      "execution_count": 37,
      "outputs": [
        {
          "output_type": "stream",
          "name": "stdout",
          "text": [
            "Training accuracy: 0.9833333333333333\n",
            "Testing accuracy: 0.892\n"
          ]
        }
      ]
    },
    {
      "cell_type": "markdown",
      "source": [
        "Se aprecia que con el ajuste de los parámetros no se consigue una mejora significativa. Es más, el accuracy en los datos de testeo baja de 0.99 a 0.98"
      ],
      "metadata": {
        "id": "LIgEl4fRANta"
      }
    },
    {
      "cell_type": "markdown",
      "source": [
        "####Gridsearch modelo XGBoost"
      ],
      "metadata": {
        "id": "nshjqm8buYKm"
      }
    },
    {
      "cell_type": "markdown",
      "source": [
        "Finalmente, se utiliza el método de Gridsearch para buscar los mejores parámetros para el modelo XGBoost"
      ],
      "metadata": {
        "id": "pCnGq23aAVEV"
      }
    },
    {
      "cell_type": "code",
      "source": [
        "#Creación de la grilla para el gridsearch\n",
        "grid_values = {\"n_estimators\":[50,100],\n",
        "               \"learning_rate\":[0.05, 0.1, 0.2],\n",
        "               \"min_child_weight\":[1,5],\n",
        "               \"gamma\":[0.5, 1, 2],\n",
        "               \"subsample\":[0.6, 0.8],\n",
        "               \"colsample_bytree\":[0.6, 0.8],\n",
        "               \"max_depth\":[4,5,6]}"
      ],
      "metadata": {
        "id": "03nBR0gTeHkq"
      },
      "execution_count": 38,
      "outputs": []
    },
    {
      "cell_type": "code",
      "source": [
        "gsxgb = GridSearchCV(xgb, param_grid = grid_values, cv=5)\n",
        "\n",
        "gsxgb.fit(X_train, y_train)"
      ],
      "metadata": {
        "colab": {
          "base_uri": "https://localhost:8080/",
          "height": 93
        },
        "id": "mthQKKkj8CxE",
        "outputId": "51972899-7ba0-46c2-ce18-3acf2ab36a74"
      },
      "execution_count": 40,
      "outputs": [
        {
          "output_type": "execute_result",
          "data": {
            "text/plain": [
              "GridSearchCV(cv=5, estimator=XGBClassifier(objective='multi:softprob'),\n",
              "             param_grid={'colsample_bytree': [0.6, 0.8], 'gamma': [0.5, 1, 2],\n",
              "                         'learning_rate': [0.05, 0.1, 0.2],\n",
              "                         'max_depth': [4, 5, 6], 'min_child_weight': [1, 5],\n",
              "                         'n_estimators': [50, 100], 'subsample': [0.6, 0.8]})"
            ],
            "text/html": [
              "<style>#sk-55f14ef5-df54-463b-aebc-f5a4c2e79c26 {color: black;background-color: white;}#sk-55f14ef5-df54-463b-aebc-f5a4c2e79c26 pre{padding: 0;}#sk-55f14ef5-df54-463b-aebc-f5a4c2e79c26 div.sk-toggleable {background-color: white;}#sk-55f14ef5-df54-463b-aebc-f5a4c2e79c26 label.sk-toggleable__label {cursor: pointer;display: block;width: 100%;margin-bottom: 0;padding: 0.3em;box-sizing: border-box;text-align: center;}#sk-55f14ef5-df54-463b-aebc-f5a4c2e79c26 label.sk-toggleable__label-arrow:before {content: \"▸\";float: left;margin-right: 0.25em;color: #696969;}#sk-55f14ef5-df54-463b-aebc-f5a4c2e79c26 label.sk-toggleable__label-arrow:hover:before {color: black;}#sk-55f14ef5-df54-463b-aebc-f5a4c2e79c26 div.sk-estimator:hover label.sk-toggleable__label-arrow:before {color: black;}#sk-55f14ef5-df54-463b-aebc-f5a4c2e79c26 div.sk-toggleable__content {max-height: 0;max-width: 0;overflow: hidden;text-align: left;background-color: #f0f8ff;}#sk-55f14ef5-df54-463b-aebc-f5a4c2e79c26 div.sk-toggleable__content pre {margin: 0.2em;color: black;border-radius: 0.25em;background-color: #f0f8ff;}#sk-55f14ef5-df54-463b-aebc-f5a4c2e79c26 input.sk-toggleable__control:checked~div.sk-toggleable__content {max-height: 200px;max-width: 100%;overflow: auto;}#sk-55f14ef5-df54-463b-aebc-f5a4c2e79c26 input.sk-toggleable__control:checked~label.sk-toggleable__label-arrow:before {content: \"▾\";}#sk-55f14ef5-df54-463b-aebc-f5a4c2e79c26 div.sk-estimator input.sk-toggleable__control:checked~label.sk-toggleable__label {background-color: #d4ebff;}#sk-55f14ef5-df54-463b-aebc-f5a4c2e79c26 div.sk-label input.sk-toggleable__control:checked~label.sk-toggleable__label {background-color: #d4ebff;}#sk-55f14ef5-df54-463b-aebc-f5a4c2e79c26 input.sk-hidden--visually {border: 0;clip: rect(1px 1px 1px 1px);clip: rect(1px, 1px, 1px, 1px);height: 1px;margin: -1px;overflow: hidden;padding: 0;position: absolute;width: 1px;}#sk-55f14ef5-df54-463b-aebc-f5a4c2e79c26 div.sk-estimator {font-family: monospace;background-color: #f0f8ff;border: 1px dotted black;border-radius: 0.25em;box-sizing: border-box;margin-bottom: 0.5em;}#sk-55f14ef5-df54-463b-aebc-f5a4c2e79c26 div.sk-estimator:hover {background-color: #d4ebff;}#sk-55f14ef5-df54-463b-aebc-f5a4c2e79c26 div.sk-parallel-item::after {content: \"\";width: 100%;border-bottom: 1px solid gray;flex-grow: 1;}#sk-55f14ef5-df54-463b-aebc-f5a4c2e79c26 div.sk-label:hover label.sk-toggleable__label {background-color: #d4ebff;}#sk-55f14ef5-df54-463b-aebc-f5a4c2e79c26 div.sk-serial::before {content: \"\";position: absolute;border-left: 1px solid gray;box-sizing: border-box;top: 2em;bottom: 0;left: 50%;}#sk-55f14ef5-df54-463b-aebc-f5a4c2e79c26 div.sk-serial {display: flex;flex-direction: column;align-items: center;background-color: white;padding-right: 0.2em;padding-left: 0.2em;}#sk-55f14ef5-df54-463b-aebc-f5a4c2e79c26 div.sk-item {z-index: 1;}#sk-55f14ef5-df54-463b-aebc-f5a4c2e79c26 div.sk-parallel {display: flex;align-items: stretch;justify-content: center;background-color: white;}#sk-55f14ef5-df54-463b-aebc-f5a4c2e79c26 div.sk-parallel::before {content: \"\";position: absolute;border-left: 1px solid gray;box-sizing: border-box;top: 2em;bottom: 0;left: 50%;}#sk-55f14ef5-df54-463b-aebc-f5a4c2e79c26 div.sk-parallel-item {display: flex;flex-direction: column;position: relative;background-color: white;}#sk-55f14ef5-df54-463b-aebc-f5a4c2e79c26 div.sk-parallel-item:first-child::after {align-self: flex-end;width: 50%;}#sk-55f14ef5-df54-463b-aebc-f5a4c2e79c26 div.sk-parallel-item:last-child::after {align-self: flex-start;width: 50%;}#sk-55f14ef5-df54-463b-aebc-f5a4c2e79c26 div.sk-parallel-item:only-child::after {width: 0;}#sk-55f14ef5-df54-463b-aebc-f5a4c2e79c26 div.sk-dashed-wrapped {border: 1px dashed gray;margin: 0 0.4em 0.5em 0.4em;box-sizing: border-box;padding-bottom: 0.4em;background-color: white;position: relative;}#sk-55f14ef5-df54-463b-aebc-f5a4c2e79c26 div.sk-label label {font-family: monospace;font-weight: bold;background-color: white;display: inline-block;line-height: 1.2em;}#sk-55f14ef5-df54-463b-aebc-f5a4c2e79c26 div.sk-label-container {position: relative;z-index: 2;text-align: center;}#sk-55f14ef5-df54-463b-aebc-f5a4c2e79c26 div.sk-container {/* jupyter's `normalize.less` sets `[hidden] { display: none; }` but bootstrap.min.css set `[hidden] { display: none !important; }` so we also need the `!important` here to be able to override the default hidden behavior on the sphinx rendered scikit-learn.org. See: https://github.com/scikit-learn/scikit-learn/issues/21755 */display: inline-block !important;position: relative;}#sk-55f14ef5-df54-463b-aebc-f5a4c2e79c26 div.sk-text-repr-fallback {display: none;}</style><div id=\"sk-55f14ef5-df54-463b-aebc-f5a4c2e79c26\" class=\"sk-top-container\"><div class=\"sk-text-repr-fallback\"><pre>GridSearchCV(cv=5, estimator=XGBClassifier(objective=&#x27;multi:softprob&#x27;),\n",
              "             param_grid={&#x27;colsample_bytree&#x27;: [0.6, 0.8], &#x27;gamma&#x27;: [0.5, 1, 2],\n",
              "                         &#x27;learning_rate&#x27;: [0.05, 0.1, 0.2],\n",
              "                         &#x27;max_depth&#x27;: [4, 5, 6], &#x27;min_child_weight&#x27;: [1, 5],\n",
              "                         &#x27;n_estimators&#x27;: [50, 100], &#x27;subsample&#x27;: [0.6, 0.8]})</pre><b>Please rerun this cell to show the HTML repr or trust the notebook.</b></div><div class=\"sk-container\" hidden><div class=\"sk-item sk-dashed-wrapped\"><div class=\"sk-label-container\"><div class=\"sk-label sk-toggleable\"><input class=\"sk-toggleable__control sk-hidden--visually\" id=\"ef2c5521-81d5-4a76-98d4-ca1c8346a9b9\" type=\"checkbox\" ><label for=\"ef2c5521-81d5-4a76-98d4-ca1c8346a9b9\" class=\"sk-toggleable__label sk-toggleable__label-arrow\">GridSearchCV</label><div class=\"sk-toggleable__content\"><pre>GridSearchCV(cv=5, estimator=XGBClassifier(objective=&#x27;multi:softprob&#x27;),\n",
              "             param_grid={&#x27;colsample_bytree&#x27;: [0.6, 0.8], &#x27;gamma&#x27;: [0.5, 1, 2],\n",
              "                         &#x27;learning_rate&#x27;: [0.05, 0.1, 0.2],\n",
              "                         &#x27;max_depth&#x27;: [4, 5, 6], &#x27;min_child_weight&#x27;: [1, 5],\n",
              "                         &#x27;n_estimators&#x27;: [50, 100], &#x27;subsample&#x27;: [0.6, 0.8]})</pre></div></div></div><div class=\"sk-parallel\"><div class=\"sk-parallel-item\"><div class=\"sk-item\"><div class=\"sk-serial\"><div class=\"sk-item\"><div class=\"sk-estimator sk-toggleable\"><input class=\"sk-toggleable__control sk-hidden--visually\" id=\"4dad514e-362f-4b90-adfb-b50d6f622f5a\" type=\"checkbox\" ><label for=\"4dad514e-362f-4b90-adfb-b50d6f622f5a\" class=\"sk-toggleable__label sk-toggleable__label-arrow\">XGBClassifier</label><div class=\"sk-toggleable__content\"><pre>XGBClassifier(objective=&#x27;multi:softprob&#x27;)</pre></div></div></div></div></div></div></div></div></div></div>"
            ]
          },
          "metadata": {},
          "execution_count": 40
        }
      ]
    },
    {
      "cell_type": "code",
      "source": [
        "print(\"Mejores parámetros:\")\n",
        "print(gsxgb.best_params_)\n",
        "print(\"Mejor score encontrado:\")\n",
        "print(gsxgb.best_score_)"
      ],
      "metadata": {
        "colab": {
          "base_uri": "https://localhost:8080/"
        },
        "id": "w6ggy5t68b1o",
        "outputId": "b800fa9b-ff1e-4e02-80d3-101c98e38764"
      },
      "execution_count": 41,
      "outputs": [
        {
          "output_type": "stream",
          "name": "stdout",
          "text": [
            "Mejores parámetros:\n",
            "{'colsample_bytree': 0.8, 'gamma': 0.5, 'learning_rate': 0.2, 'max_depth': 4, 'min_child_weight': 1, 'n_estimators': 100, 'subsample': 0.8}\n",
            "Mejor score encontrado:\n",
            "0.9126666666666667\n"
          ]
        }
      ]
    },
    {
      "cell_type": "code",
      "source": [
        "mejoresparametros = gsxgb.best_params_\n",
        "mejoresparametros"
      ],
      "metadata": {
        "colab": {
          "base_uri": "https://localhost:8080/"
        },
        "id": "X3SvFq2ZC2VQ",
        "outputId": "0c14d223-815b-47ae-a7d5-80c3068e2c7f"
      },
      "execution_count": 42,
      "outputs": [
        {
          "output_type": "execute_result",
          "data": {
            "text/plain": [
              "{'colsample_bytree': 0.8,\n",
              " 'gamma': 0.5,\n",
              " 'learning_rate': 0.2,\n",
              " 'max_depth': 4,\n",
              " 'min_child_weight': 1,\n",
              " 'n_estimators': 100,\n",
              " 'subsample': 0.8}"
            ]
          },
          "metadata": {},
          "execution_count": 42
        }
      ]
    },
    {
      "cell_type": "code",
      "source": [
        "y_pred = gsxgb.predict(X_test)\n",
        "score_entrenamiento = gsxgb.score(X_train, y_train)\n",
        "score_testeo = accuracy_score(y_pred, y_test)"
      ],
      "metadata": {
        "id": "uv_OCnYDB05H"
      },
      "execution_count": 43,
      "outputs": []
    },
    {
      "cell_type": "code",
      "source": [
        "print(f\"Score de entrenamiento {score_entrenamiento} \")\n",
        "print(f\"Score de testeo {score_testeo} \")\n",
        "\n"
      ],
      "metadata": {
        "colab": {
          "base_uri": "https://localhost:8080/"
        },
        "id": "erweoliPBevD",
        "outputId": "1a0d9922-be57-46dc-e56f-3c9c99fd2bad"
      },
      "execution_count": 44,
      "outputs": [
        {
          "output_type": "stream",
          "name": "stdout",
          "text": [
            "Score de entrenamiento 1.0 \n",
            "Score de testeo 0.894 \n"
          ]
        }
      ]
    },
    {
      "cell_type": "markdown",
      "source": [
        "Con el método Gridsearch se logra aumentar el score de entrenamiento a 1, mientras que el score de testeo pasa de 0,89 a 0,894."
      ],
      "metadata": {
        "id": "ekJwscI5Agpa"
      }
    },
    {
      "cell_type": "markdown",
      "source": [
        "###Red Neuronal"
      ],
      "metadata": {
        "id": "FOkfMYSRFlSM"
      }
    },
    {
      "cell_type": "markdown",
      "source": [
        "Junto con el modelo XGBoost se decide probar un modelo de red neuronal que permita resolver el problema."
      ],
      "metadata": {
        "id": "uD-SH4HUAqrA"
      }
    },
    {
      "cell_type": "code",
      "source": [
        "#Los vectores objetivos se pasan a tipo categórico, para que el modelo no los considere como números.\n",
        "y_train_cat = to_categorical(y_train)\n",
        "y_test_cat = to_categorical(y_test)"
      ],
      "metadata": {
        "id": "qLYQ1SYHInc0"
      },
      "execution_count": 66,
      "outputs": []
    },
    {
      "cell_type": "code",
      "source": [
        "input_shape = X_train_scaled.shape[1]\n",
        "input_shape"
      ],
      "metadata": {
        "colab": {
          "base_uri": "https://localhost:8080/"
        },
        "id": "SZKsuCugHdz_",
        "outputId": "ae66f592-9edb-431d-a62f-b8e782747dac"
      },
      "execution_count": 49,
      "outputs": [
        {
          "output_type": "execute_result",
          "data": {
            "text/plain": [
              "20"
            ]
          },
          "metadata": {},
          "execution_count": 49
        }
      ]
    },
    {
      "cell_type": "code",
      "source": [
        "X_train_scaled.shape"
      ],
      "metadata": {
        "colab": {
          "base_uri": "https://localhost:8080/"
        },
        "id": "891CNZM4H9TC",
        "outputId": "89370758-82f7-45b0-af5a-4131c4870663"
      },
      "execution_count": 50,
      "outputs": [
        {
          "output_type": "execute_result",
          "data": {
            "text/plain": [
              "(1500, 20)"
            ]
          },
          "metadata": {},
          "execution_count": 50
        }
      ]
    },
    {
      "cell_type": "markdown",
      "source": [
        "####Modelo inicial"
      ],
      "metadata": {
        "id": "YdmLJAwWJRHx"
      }
    },
    {
      "cell_type": "code",
      "source": [
        "#Definición tipo de modelo\n",
        "modelo = Sequential()\n",
        "\n",
        "#Capas olcutas\n",
        "#Primera capa. Se usan 20 neuronas (igual a la cantidad de categorías de los datos), se usa una capa densa (totalmente conectada) y la función de activación relu\n",
        "modelo.add(Dense(20, \n",
        "                  input_dim = input_shape,\n",
        "                  activation = \"relu\"))\n",
        "#Segunda capa. Se usan 20 neuronas , se usa una capa densa (totalmente conectada) y la función de activación relu.\n",
        "modelo.add(Dense(20, \n",
        "                  activation = \"relu\"))\n",
        "\n",
        "#Capa de salida\n",
        "#Por ser un problema de clasificación binario se utiliza una función de activación sigmoide y un solo nodo.\n",
        "modelo.add(Dense(4,\n",
        "                  activation = \"sigmoid\"))\n",
        "\n",
        "modelo.compile(loss = 'categorical_crossentropy', optimizer = 'adam', metrics = ['acc'])"
      ],
      "metadata": {
        "id": "5IO1WodeFk_9"
      },
      "execution_count": 51,
      "outputs": []
    },
    {
      "cell_type": "code",
      "source": [
        "history = modelo.fit(X_train_scaled, y_train_cat,\n",
        "                    validation_data = (X_test_scaled, y_test_cat), \n",
        "                    epochs=30)"
      ],
      "metadata": {
        "colab": {
          "base_uri": "https://localhost:8080/"
        },
        "id": "epd3KnUdHcgH",
        "outputId": "157732a6-2827-4405-8e9f-44831227c1b3"
      },
      "execution_count": 52,
      "outputs": [
        {
          "output_type": "stream",
          "name": "stderr",
          "text": [
            "/usr/local/lib/python3.8/dist-packages/tensorflow/python/data/ops/structured_function.py:264: UserWarning: Even though the `tf.config.experimental_run_functions_eagerly` option is set, this option does not apply to tf.data functions. To force eager execution of tf.data functions, please use `tf.data.experimental.enable_debug_mode()`.\n",
            "  warnings.warn(\n"
          ]
        },
        {
          "output_type": "stream",
          "name": "stdout",
          "text": [
            "Epoch 1/30\n",
            "47/47 [==============================] - 1s 20ms/step - loss: 1.3609 - acc: 0.3220 - val_loss: 1.3135 - val_acc: 0.3780\n",
            "Epoch 2/30\n",
            "47/47 [==============================] - 1s 18ms/step - loss: 1.2378 - acc: 0.4440 - val_loss: 1.2100 - val_acc: 0.4420\n",
            "Epoch 3/30\n",
            "47/47 [==============================] - 1s 20ms/step - loss: 1.1158 - acc: 0.5140 - val_loss: 1.0860 - val_acc: 0.5020\n",
            "Epoch 4/30\n",
            "47/47 [==============================] - 1s 18ms/step - loss: 0.9807 - acc: 0.5920 - val_loss: 0.9528 - val_acc: 0.5560\n",
            "Epoch 5/30\n",
            "47/47 [==============================] - 1s 18ms/step - loss: 0.8491 - acc: 0.6653 - val_loss: 0.8340 - val_acc: 0.6320\n",
            "Epoch 6/30\n",
            "47/47 [==============================] - 1s 18ms/step - loss: 0.7364 - acc: 0.7313 - val_loss: 0.7338 - val_acc: 0.6720\n",
            "Epoch 7/30\n",
            "47/47 [==============================] - 1s 18ms/step - loss: 0.6404 - acc: 0.7780 - val_loss: 0.6524 - val_acc: 0.7320\n",
            "Epoch 8/30\n",
            "47/47 [==============================] - 1s 18ms/step - loss: 0.5594 - acc: 0.8213 - val_loss: 0.5860 - val_acc: 0.7720\n",
            "Epoch 9/30\n",
            "47/47 [==============================] - 1s 18ms/step - loss: 0.4905 - acc: 0.8500 - val_loss: 0.5262 - val_acc: 0.8020\n",
            "Epoch 10/30\n",
            "47/47 [==============================] - 1s 19ms/step - loss: 0.4335 - acc: 0.8747 - val_loss: 0.4752 - val_acc: 0.8120\n",
            "Epoch 11/30\n",
            "47/47 [==============================] - 1s 19ms/step - loss: 0.3860 - acc: 0.8860 - val_loss: 0.4368 - val_acc: 0.8160\n",
            "Epoch 12/30\n",
            "47/47 [==============================] - 1s 19ms/step - loss: 0.3440 - acc: 0.9027 - val_loss: 0.3991 - val_acc: 0.8340\n",
            "Epoch 13/30\n",
            "47/47 [==============================] - 1s 19ms/step - loss: 0.3114 - acc: 0.9147 - val_loss: 0.3743 - val_acc: 0.8460\n",
            "Epoch 14/30\n",
            "47/47 [==============================] - 1s 18ms/step - loss: 0.2820 - acc: 0.9227 - val_loss: 0.3522 - val_acc: 0.8560\n",
            "Epoch 15/30\n",
            "47/47 [==============================] - 1s 19ms/step - loss: 0.2573 - acc: 0.9280 - val_loss: 0.3306 - val_acc: 0.8680\n",
            "Epoch 16/30\n",
            "47/47 [==============================] - 1s 22ms/step - loss: 0.2366 - acc: 0.9347 - val_loss: 0.3103 - val_acc: 0.8740\n",
            "Epoch 17/30\n",
            "47/47 [==============================] - 1s 18ms/step - loss: 0.2166 - acc: 0.9413 - val_loss: 0.2987 - val_acc: 0.8780\n",
            "Epoch 18/30\n",
            "47/47 [==============================] - 1s 18ms/step - loss: 0.2022 - acc: 0.9460 - val_loss: 0.2894 - val_acc: 0.8760\n",
            "Epoch 19/30\n",
            "47/47 [==============================] - 1s 18ms/step - loss: 0.1895 - acc: 0.9467 - val_loss: 0.2853 - val_acc: 0.8840\n",
            "Epoch 20/30\n",
            "47/47 [==============================] - 1s 18ms/step - loss: 0.1758 - acc: 0.9540 - val_loss: 0.2706 - val_acc: 0.8900\n",
            "Epoch 21/30\n",
            "47/47 [==============================] - 1s 18ms/step - loss: 0.1655 - acc: 0.9547 - val_loss: 0.2569 - val_acc: 0.8940\n",
            "Epoch 22/30\n",
            "47/47 [==============================] - 1s 18ms/step - loss: 0.1561 - acc: 0.9567 - val_loss: 0.2523 - val_acc: 0.8880\n",
            "Epoch 23/30\n",
            "47/47 [==============================] - 1s 19ms/step - loss: 0.1471 - acc: 0.9620 - val_loss: 0.2516 - val_acc: 0.8940\n",
            "Epoch 24/30\n",
            "47/47 [==============================] - 1s 18ms/step - loss: 0.1383 - acc: 0.9627 - val_loss: 0.2397 - val_acc: 0.8900\n",
            "Epoch 25/30\n",
            "47/47 [==============================] - 1s 18ms/step - loss: 0.1309 - acc: 0.9667 - val_loss: 0.2319 - val_acc: 0.9020\n",
            "Epoch 26/30\n",
            "47/47 [==============================] - 1s 18ms/step - loss: 0.1252 - acc: 0.9653 - val_loss: 0.2272 - val_acc: 0.9080\n",
            "Epoch 27/30\n",
            "47/47 [==============================] - 1s 19ms/step - loss: 0.1192 - acc: 0.9687 - val_loss: 0.2239 - val_acc: 0.9060\n",
            "Epoch 28/30\n",
            "47/47 [==============================] - 1s 18ms/step - loss: 0.1129 - acc: 0.9713 - val_loss: 0.2222 - val_acc: 0.9040\n",
            "Epoch 29/30\n",
            "47/47 [==============================] - 1s 18ms/step - loss: 0.1086 - acc: 0.9740 - val_loss: 0.2158 - val_acc: 0.9080\n",
            "Epoch 30/30\n",
            "47/47 [==============================] - 1s 19ms/step - loss: 0.1040 - acc: 0.9767 - val_loss: 0.2134 - val_acc: 0.9120\n"
          ]
        }
      ]
    },
    {
      "cell_type": "code",
      "source": [
        "plt.plot(history.history['loss'], label='Train loss')\n",
        "plt.plot(history.history['val_loss'], label='Test Loss')\n",
        "plt.legend();"
      ],
      "metadata": {
        "colab": {
          "base_uri": "https://localhost:8080/",
          "height": 266
        },
        "id": "z6s-cOrhIk0n",
        "outputId": "327c844a-585e-4eed-c31e-327d0fd12a74"
      },
      "execution_count": 53,
      "outputs": [
        {
          "output_type": "display_data",
          "data": {
            "text/plain": [
              "<Figure size 432x288 with 1 Axes>"
            ],
            "image/png": "[encoded data removed]"
          },
          "metadata": {
            "needs_background": "light"
          }
        }
      ]
    },
    {
      "cell_type": "code",
      "source": [
        "plt.plot(history.history['acc'], label='Train accuracy')\n",
        "plt.plot(history.history['val_acc'], label='Test accuracy')\n",
        "plt.legend();"
      ],
      "metadata": {
        "colab": {
          "base_uri": "https://localhost:8080/",
          "height": 267
        },
        "id": "75joIgUSIlJc",
        "outputId": "6dcb8606-5d7d-49ac-e5e5-b1fd4a20bcc4"
      },
      "execution_count": 54,
      "outputs": [
        {
          "output_type": "display_data",
          "data": {
            "text/plain": [
              "<Figure size 432x288 with 1 Axes>"
            ],
            "image/png": "[encoded data removed]"
          },
          "metadata": {
            "needs_background": "light"
          }
        }
      ]
    },
    {
      "cell_type": "markdown",
      "source": [
        "Se obtiene un accuracy de 0.97 para los datos de entrenamiento y un accuracy de 0.91 para los datos de testeo."
      ],
      "metadata": {
        "id": "TgtqPHC0A5Zp"
      }
    },
    {
      "cell_type": "markdown",
      "source": [
        "####Modelo modificado"
      ],
      "metadata": {
        "id": "Zr_TxuhIJXGU"
      }
    },
    {
      "cell_type": "code",
      "source": [
        "#Definición tipo de modelo\n",
        "modelo1 = Sequential()\n",
        "\n",
        "#Capas olcutas\n",
        "#Primera capa. Se usan 20 neuronas (igual a la cantidad de categorías de los datos), se usa una capa densa (totalmente conectada) y la función de activación relu\n",
        "modelo1.add(Dense(20, \n",
        "                  input_dim = input_shape,\n",
        "                  activation = \"relu\"))\n",
        "modelo1.add(Dropout(.2)) #Se agrega un dropout del 20% para la primera capa oculta\n",
        "\n",
        "\n",
        "#Segunda capa. Se usan 20 neuronas , se usa una capa densa (totalmente conectada) y la función de activación relu.\n",
        "modelo1.add(Dense(20, \n",
        "                  activation = \"relu\"))\n",
        "modelo1.add(Dropout(.2)) #Se agrega un dropout del 20% para la primera capa oculta\n",
        "\n",
        "\n",
        "#Capa de salida\n",
        "modelo1.add(Dense(4,\n",
        "                  activation = \"sigmoid\"))\n",
        "\n",
        "modelo1.compile(loss = 'categorical_crossentropy', optimizer = 'adam', metrics = ['acc'])\n",
        "\n",
        "early_stopping = EarlyStopping(patience = 3)\n",
        "history1= modelo1.fit(X_train_scaled, y_train_cat,\n",
        "                    validation_data = (X_test_scaled, y_test_cat), \n",
        "                    epochs=100,\n",
        "                    callbacks = [early_stopping])"
      ],
      "metadata": {
        "colab": {
          "base_uri": "https://localhost:8080/"
        },
        "id": "l-cr40nqJXW7",
        "outputId": "3cd2796d-abe3-4b97-8e20-5ff040a006a4"
      },
      "execution_count": 55,
      "outputs": [
        {
          "output_type": "stream",
          "name": "stdout",
          "text": [
            "Epoch 1/100\n",
            "47/47 [==============================] - 1s 31ms/step - loss: 1.6739 - acc: 0.2520 - val_loss: 1.4413 - val_acc: 0.2540\n",
            "Epoch 2/100\n",
            "47/47 [==============================] - 2s 41ms/step - loss: 1.4345 - acc: 0.2653 - val_loss: 1.3645 - val_acc: 0.2720\n",
            "Epoch 3/100\n",
            "47/47 [==============================] - 1s 26ms/step - loss: 1.3744 - acc: 0.2887 - val_loss: 1.3203 - val_acc: 0.3320\n",
            "Epoch 4/100\n",
            "47/47 [==============================] - 1s 28ms/step - loss: 1.3151 - acc: 0.3667 - val_loss: 1.2757 - val_acc: 0.3920\n",
            "Epoch 5/100\n",
            "47/47 [==============================] - 1s 27ms/step - loss: 1.2736 - acc: 0.3893 - val_loss: 1.2171 - val_acc: 0.4480\n",
            "Epoch 6/100\n",
            "47/47 [==============================] - 1s 26ms/step - loss: 1.2040 - acc: 0.4400 - val_loss: 1.1386 - val_acc: 0.5120\n",
            "Epoch 7/100\n",
            "47/47 [==============================] - 1s 24ms/step - loss: 1.1268 - acc: 0.4847 - val_loss: 1.0395 - val_acc: 0.5520\n",
            "Epoch 8/100\n",
            "47/47 [==============================] - 1s 21ms/step - loss: 1.0340 - acc: 0.5413 - val_loss: 0.9304 - val_acc: 0.6280\n",
            "Epoch 9/100\n",
            "47/47 [==============================] - 1s 23ms/step - loss: 0.9497 - acc: 0.5767 - val_loss: 0.8319 - val_acc: 0.6580\n",
            "Epoch 10/100\n",
            "47/47 [==============================] - 1s 21ms/step - loss: 0.8613 - acc: 0.6167 - val_loss: 0.7433 - val_acc: 0.7100\n",
            "Epoch 11/100\n",
            "47/47 [==============================] - 1s 20ms/step - loss: 0.7946 - acc: 0.6507 - val_loss: 0.6733 - val_acc: 0.7560\n",
            "Epoch 12/100\n",
            "47/47 [==============================] - 1s 20ms/step - loss: 0.7329 - acc: 0.6693 - val_loss: 0.6105 - val_acc: 0.8000\n",
            "Epoch 13/100\n",
            "47/47 [==============================] - 1s 22ms/step - loss: 0.6843 - acc: 0.7007 - val_loss: 0.5594 - val_acc: 0.8200\n",
            "Epoch 14/100\n",
            "47/47 [==============================] - 1s 24ms/step - loss: 0.6486 - acc: 0.7040 - val_loss: 0.5131 - val_acc: 0.8360\n",
            "Epoch 15/100\n",
            "47/47 [==============================] - 1s 21ms/step - loss: 0.6069 - acc: 0.7407 - val_loss: 0.4703 - val_acc: 0.8500\n",
            "Epoch 16/100\n",
            "47/47 [==============================] - 1s 22ms/step - loss: 0.5568 - acc: 0.7600 - val_loss: 0.4327 - val_acc: 0.8780\n",
            "Epoch 17/100\n",
            "47/47 [==============================] - 1s 24ms/step - loss: 0.5324 - acc: 0.7780 - val_loss: 0.4031 - val_acc: 0.8880\n",
            "Epoch 18/100\n",
            "47/47 [==============================] - 1s 21ms/step - loss: 0.5052 - acc: 0.8067 - val_loss: 0.3807 - val_acc: 0.8920\n",
            "Epoch 19/100\n",
            "47/47 [==============================] - 1s 21ms/step - loss: 0.4799 - acc: 0.8000 - val_loss: 0.3608 - val_acc: 0.8940\n",
            "Epoch 20/100\n",
            "47/47 [==============================] - 1s 21ms/step - loss: 0.4237 - acc: 0.8313 - val_loss: 0.3409 - val_acc: 0.8900\n",
            "Epoch 21/100\n",
            "47/47 [==============================] - 1s 24ms/step - loss: 0.4375 - acc: 0.8220 - val_loss: 0.3316 - val_acc: 0.8860\n",
            "Epoch 22/100\n",
            "47/47 [==============================] - 1s 21ms/step - loss: 0.4185 - acc: 0.8313 - val_loss: 0.3143 - val_acc: 0.9000\n",
            "Epoch 23/100\n",
            "47/47 [==============================] - 1s 22ms/step - loss: 0.4111 - acc: 0.8287 - val_loss: 0.2974 - val_acc: 0.9120\n",
            "Epoch 24/100\n",
            "47/47 [==============================] - 1s 22ms/step - loss: 0.3944 - acc: 0.8340 - val_loss: 0.2869 - val_acc: 0.9040\n",
            "Epoch 25/100\n",
            "47/47 [==============================] - 1s 24ms/step - loss: 0.3620 - acc: 0.8627 - val_loss: 0.2740 - val_acc: 0.9100\n",
            "Epoch 26/100\n",
            "47/47 [==============================] - 1s 21ms/step - loss: 0.3749 - acc: 0.8273 - val_loss: 0.2690 - val_acc: 0.9100\n",
            "Epoch 27/100\n",
            "47/47 [==============================] - 1s 20ms/step - loss: 0.3422 - acc: 0.8573 - val_loss: 0.2617 - val_acc: 0.9100\n",
            "Epoch 28/100\n",
            "47/47 [==============================] - 1s 19ms/step - loss: 0.3516 - acc: 0.8547 - val_loss: 0.2560 - val_acc: 0.9120\n",
            "Epoch 29/100\n",
            "47/47 [==============================] - 1s 19ms/step - loss: 0.3471 - acc: 0.8567 - val_loss: 0.2482 - val_acc: 0.9120\n",
            "Epoch 30/100\n",
            "47/47 [==============================] - 1s 19ms/step - loss: 0.3297 - acc: 0.8587 - val_loss: 0.2434 - val_acc: 0.9160\n",
            "Epoch 31/100\n",
            "47/47 [==============================] - 1s 20ms/step - loss: 0.3166 - acc: 0.8713 - val_loss: 0.2417 - val_acc: 0.9140\n",
            "Epoch 32/100\n",
            "47/47 [==============================] - 1s 20ms/step - loss: 0.3132 - acc: 0.8747 - val_loss: 0.2368 - val_acc: 0.9080\n",
            "Epoch 33/100\n",
            "47/47 [==============================] - 1s 24ms/step - loss: 0.2999 - acc: 0.8780 - val_loss: 0.2337 - val_acc: 0.9120\n",
            "Epoch 34/100\n",
            "47/47 [==============================] - 1s 20ms/step - loss: 0.3092 - acc: 0.8720 - val_loss: 0.2286 - val_acc: 0.9140\n",
            "Epoch 35/100\n",
            "47/47 [==============================] - 1s 20ms/step - loss: 0.2887 - acc: 0.8860 - val_loss: 0.2289 - val_acc: 0.9080\n",
            "Epoch 36/100\n",
            "47/47 [==============================] - 1s 23ms/step - loss: 0.2837 - acc: 0.8840 - val_loss: 0.2214 - val_acc: 0.9160\n",
            "Epoch 37/100\n",
            "47/47 [==============================] - 1s 20ms/step - loss: 0.2695 - acc: 0.8820 - val_loss: 0.2155 - val_acc: 0.9080\n",
            "Epoch 38/100\n",
            "47/47 [==============================] - 1s 26ms/step - loss: 0.2721 - acc: 0.8913 - val_loss: 0.2146 - val_acc: 0.9140\n",
            "Epoch 39/100\n",
            "47/47 [==============================] - 1s 20ms/step - loss: 0.2573 - acc: 0.8993 - val_loss: 0.2144 - val_acc: 0.9120\n",
            "Epoch 40/100\n",
            "47/47 [==============================] - 1s 19ms/step - loss: 0.2942 - acc: 0.8687 - val_loss: 0.2063 - val_acc: 0.9140\n",
            "Epoch 41/100\n",
            "47/47 [==============================] - 1s 26ms/step - loss: 0.2743 - acc: 0.8773 - val_loss: 0.2022 - val_acc: 0.9100\n",
            "Epoch 42/100\n",
            "47/47 [==============================] - 1s 20ms/step - loss: 0.2550 - acc: 0.8880 - val_loss: 0.1982 - val_acc: 0.9160\n",
            "Epoch 43/100\n",
            "47/47 [==============================] - 1s 19ms/step - loss: 0.2525 - acc: 0.8953 - val_loss: 0.1978 - val_acc: 0.9120\n",
            "Epoch 44/100\n",
            "47/47 [==============================] - 1s 23ms/step - loss: 0.2447 - acc: 0.8893 - val_loss: 0.1913 - val_acc: 0.9120\n",
            "Epoch 45/100\n",
            "47/47 [==============================] - 1s 26ms/step - loss: 0.2538 - acc: 0.8720 - val_loss: 0.2007 - val_acc: 0.9120\n",
            "Epoch 46/100\n",
            "47/47 [==============================] - 1s 27ms/step - loss: 0.2521 - acc: 0.8807 - val_loss: 0.1960 - val_acc: 0.9120\n",
            "Epoch 47/100\n",
            "47/47 [==============================] - 1s 23ms/step - loss: 0.2566 - acc: 0.8880 - val_loss: 0.1892 - val_acc: 0.9180\n",
            "Epoch 48/100\n",
            "47/47 [==============================] - 1s 27ms/step - loss: 0.2257 - acc: 0.8933 - val_loss: 0.1869 - val_acc: 0.9220\n",
            "Epoch 49/100\n",
            "47/47 [==============================] - 1s 21ms/step - loss: 0.2407 - acc: 0.8847 - val_loss: 0.1907 - val_acc: 0.9120\n",
            "Epoch 50/100\n",
            "47/47 [==============================] - 1s 19ms/step - loss: 0.2350 - acc: 0.8800 - val_loss: 0.1822 - val_acc: 0.9120\n",
            "Epoch 51/100\n",
            "47/47 [==============================] - 1s 20ms/step - loss: 0.2308 - acc: 0.8880 - val_loss: 0.1907 - val_acc: 0.9080\n",
            "Epoch 52/100\n",
            "47/47 [==============================] - 1s 20ms/step - loss: 0.2267 - acc: 0.8807 - val_loss: 0.1796 - val_acc: 0.9080\n",
            "Epoch 53/100\n",
            "47/47 [==============================] - 1s 19ms/step - loss: 0.2255 - acc: 0.8793 - val_loss: 0.1819 - val_acc: 0.9080\n",
            "Epoch 54/100\n",
            "47/47 [==============================] - 1s 19ms/step - loss: 0.2182 - acc: 0.8867 - val_loss: 0.1730 - val_acc: 0.9140\n",
            "Epoch 55/100\n",
            "47/47 [==============================] - 1s 20ms/step - loss: 0.2115 - acc: 0.8933 - val_loss: 0.1790 - val_acc: 0.9040\n",
            "Epoch 56/100\n",
            "47/47 [==============================] - 1s 23ms/step - loss: 0.2038 - acc: 0.8853 - val_loss: 0.1781 - val_acc: 0.8980\n",
            "Epoch 57/100\n",
            "47/47 [==============================] - 1s 21ms/step - loss: 0.2196 - acc: 0.8713 - val_loss: 0.1743 - val_acc: 0.9060\n"
          ]
        }
      ]
    },
    {
      "cell_type": "code",
      "source": [
        "plt.plot(history1.history['loss'], label='Train loss')\n",
        "plt.plot(history1.history['val_loss'], label='Test Loss')\n",
        "plt.legend();"
      ],
      "metadata": {
        "colab": {
          "base_uri": "https://localhost:8080/",
          "height": 265
        },
        "id": "5UQFpGyjNSxE",
        "outputId": "cffde0b9-fd32-4eed-fd22-d547a6a284d6"
      },
      "execution_count": 56,
      "outputs": [
        {
          "output_type": "display_data",
          "data": {
            "text/plain": [
              "<Figure size 432x288 with 1 Axes>"
            ],
            "image/png": "[encoded data removed]"
          },
          "metadata": {
            "needs_background": "light"
          }
        }
      ]
    },
    {
      "cell_type": "code",
      "source": [
        "plt.plot(history1.history['acc'], label='Train accuracy')\n",
        "plt.plot(history1.history['val_acc'], label='Test accuracy')\n",
        "plt.legend();"
      ],
      "metadata": {
        "colab": {
          "base_uri": "https://localhost:8080/",
          "height": 265
        },
        "id": "uxrU_2fMNTz-",
        "outputId": "0f3fd958-3936-49f6-e4bc-4b83c363c221"
      },
      "execution_count": 57,
      "outputs": [
        {
          "output_type": "display_data",
          "data": {
            "text/plain": [
              "<Figure size 432x288 with 1 Axes>"
            ],
            "image/png": "[encoded data removed]"
          },
          "metadata": {
            "needs_background": "light"
          }
        }
      ]
    },
    {
      "cell_type": "markdown",
      "source": [
        "Con esta modificación del modelo se baja el accuracy para ambos set de datos."
      ],
      "metadata": {
        "id": "I6AYgXgzBHPq"
      }
    },
    {
      "cell_type": "code",
      "source": [
        "#Definición tipo de modelo\n",
        "modelo2 = Sequential()\n",
        "\n",
        "#Capas olcutas\n",
        "#Primera capa. Se usan 20 neuronas (igual a la cantidad de categorías de los datos), se usa una capa densa (totalmente conectada) y la función de activación relu\n",
        "modelo2.add(Dense(20, \n",
        "                  input_dim = input_shape,\n",
        "                  activation = \"relu\"))\n",
        "modelo2.add(Dropout(.2)) #Se agrega un dropout del 20% para la primera capa oculta\n",
        "\n",
        "\n",
        "#Segunda capa. Se usan 20 neuronas , se usa una capa densa (totalmente conectada) y la función de activación relu.\n",
        "modelo2.add(Dense(20, \n",
        "                  activation = \"relu\"))\n",
        "\n",
        "\n",
        "#Capa de salida\n",
        "modelo2.add(Dense(4,\n",
        "                  activation = \"sigmoid\"))\n",
        "\n",
        "modelo2.compile(loss = 'categorical_crossentropy', optimizer = 'adam', metrics = ['acc'])\n",
        "\n",
        "early_stopping = EarlyStopping(patience = 3)\n",
        "history2= modelo2.fit(X_train_scaled, y_train_cat,\n",
        "                    validation_data = (X_test_scaled, y_test_cat), \n",
        "                    epochs=100,\n",
        "                    callbacks = [early_stopping])"
      ],
      "metadata": {
        "colab": {
          "base_uri": "https://localhost:8080/"
        },
        "id": "dY3kFeizNdL-",
        "outputId": "86257785-10ae-4c93-eb00-b68fa027e45e"
      },
      "execution_count": 58,
      "outputs": [
        {
          "output_type": "stream",
          "name": "stdout",
          "text": [
            "Epoch 1/100\n",
            "47/47 [==============================] - 1s 22ms/step - loss: 1.4381 - acc: 0.3307 - val_loss: 1.3410 - val_acc: 0.3980\n",
            "Epoch 2/100\n",
            "47/47 [==============================] - 1s 24ms/step - loss: 1.3017 - acc: 0.3833 - val_loss: 1.2218 - val_acc: 0.4640\n",
            "Epoch 3/100\n",
            "47/47 [==============================] - 1s 22ms/step - loss: 1.1954 - acc: 0.4527 - val_loss: 1.0931 - val_acc: 0.5380\n",
            "Epoch 4/100\n",
            "47/47 [==============================] - 1s 20ms/step - loss: 1.0854 - acc: 0.5200 - val_loss: 0.9589 - val_acc: 0.6100\n",
            "Epoch 5/100\n",
            "47/47 [==============================] - 1s 22ms/step - loss: 0.9641 - acc: 0.5800 - val_loss: 0.8394 - val_acc: 0.6640\n",
            "Epoch 6/100\n",
            "47/47 [==============================] - 1s 23ms/step - loss: 0.8467 - acc: 0.6260 - val_loss: 0.7384 - val_acc: 0.7120\n",
            "Epoch 7/100\n",
            "47/47 [==============================] - 1s 20ms/step - loss: 0.7598 - acc: 0.6633 - val_loss: 0.6554 - val_acc: 0.7240\n",
            "Epoch 8/100\n",
            "47/47 [==============================] - 1s 23ms/step - loss: 0.6931 - acc: 0.7067 - val_loss: 0.5932 - val_acc: 0.7620\n",
            "Epoch 9/100\n",
            "47/47 [==============================] - 1s 20ms/step - loss: 0.6260 - acc: 0.7287 - val_loss: 0.5427 - val_acc: 0.7940\n",
            "Epoch 10/100\n",
            "47/47 [==============================] - 1s 21ms/step - loss: 0.5754 - acc: 0.7680 - val_loss: 0.4970 - val_acc: 0.7960\n",
            "Epoch 11/100\n",
            "47/47 [==============================] - 1s 20ms/step - loss: 0.5531 - acc: 0.7680 - val_loss: 0.4615 - val_acc: 0.8380\n",
            "Epoch 12/100\n",
            "47/47 [==============================] - 1s 21ms/step - loss: 0.5081 - acc: 0.7960 - val_loss: 0.4291 - val_acc: 0.8480\n",
            "Epoch 13/100\n",
            "47/47 [==============================] - 1s 20ms/step - loss: 0.4787 - acc: 0.8080 - val_loss: 0.4043 - val_acc: 0.8520\n",
            "Epoch 14/100\n",
            "47/47 [==============================] - 1s 20ms/step - loss: 0.4552 - acc: 0.8187 - val_loss: 0.3813 - val_acc: 0.8560\n",
            "Epoch 15/100\n",
            "47/47 [==============================] - 1s 23ms/step - loss: 0.4183 - acc: 0.8307 - val_loss: 0.3622 - val_acc: 0.8540\n",
            "Epoch 16/100\n",
            "47/47 [==============================] - 1s 23ms/step - loss: 0.4056 - acc: 0.8360 - val_loss: 0.3478 - val_acc: 0.8820\n",
            "Epoch 17/100\n",
            "47/47 [==============================] - 1s 22ms/step - loss: 0.3964 - acc: 0.8320 - val_loss: 0.3269 - val_acc: 0.8760\n",
            "Epoch 18/100\n",
            "47/47 [==============================] - 1s 20ms/step - loss: 0.3832 - acc: 0.8440 - val_loss: 0.3109 - val_acc: 0.8800\n",
            "Epoch 19/100\n",
            "47/47 [==============================] - 1s 20ms/step - loss: 0.3670 - acc: 0.8573 - val_loss: 0.2996 - val_acc: 0.8880\n",
            "Epoch 20/100\n",
            "47/47 [==============================] - 1s 20ms/step - loss: 0.3420 - acc: 0.8660 - val_loss: 0.2934 - val_acc: 0.8940\n",
            "Epoch 21/100\n",
            "47/47 [==============================] - 1s 24ms/step - loss: 0.3250 - acc: 0.8740 - val_loss: 0.2847 - val_acc: 0.8960\n",
            "Epoch 22/100\n",
            "47/47 [==============================] - 1s 20ms/step - loss: 0.3244 - acc: 0.8720 - val_loss: 0.2764 - val_acc: 0.8940\n",
            "Epoch 23/100\n",
            "47/47 [==============================] - 1s 23ms/step - loss: 0.3076 - acc: 0.8900 - val_loss: 0.2690 - val_acc: 0.8960\n",
            "Epoch 24/100\n",
            "47/47 [==============================] - 1s 24ms/step - loss: 0.2981 - acc: 0.8813 - val_loss: 0.2599 - val_acc: 0.9100\n",
            "Epoch 25/100\n",
            "47/47 [==============================] - 1s 28ms/step - loss: 0.2860 - acc: 0.8880 - val_loss: 0.2562 - val_acc: 0.9160\n",
            "Epoch 26/100\n",
            "47/47 [==============================] - 1s 21ms/step - loss: 0.2939 - acc: 0.8840 - val_loss: 0.2465 - val_acc: 0.9120\n",
            "Epoch 27/100\n",
            "47/47 [==============================] - 1s 20ms/step - loss: 0.2739 - acc: 0.8960 - val_loss: 0.2533 - val_acc: 0.9020\n",
            "Epoch 28/100\n",
            "47/47 [==============================] - 1s 19ms/step - loss: 0.2781 - acc: 0.8953 - val_loss: 0.2461 - val_acc: 0.9160\n",
            "Epoch 29/100\n",
            "47/47 [==============================] - 1s 20ms/step - loss: 0.2687 - acc: 0.8920 - val_loss: 0.2317 - val_acc: 0.9100\n",
            "Epoch 30/100\n",
            "47/47 [==============================] - 1s 20ms/step - loss: 0.2722 - acc: 0.8940 - val_loss: 0.2312 - val_acc: 0.9100\n",
            "Epoch 31/100\n",
            "47/47 [==============================] - 1s 20ms/step - loss: 0.2534 - acc: 0.8993 - val_loss: 0.2317 - val_acc: 0.9040\n",
            "Epoch 32/100\n",
            "47/47 [==============================] - 1s 20ms/step - loss: 0.2475 - acc: 0.9047 - val_loss: 0.2301 - val_acc: 0.9020\n",
            "Epoch 33/100\n",
            "47/47 [==============================] - 1s 19ms/step - loss: 0.2357 - acc: 0.9047 - val_loss: 0.2342 - val_acc: 0.9100\n",
            "Epoch 34/100\n",
            "47/47 [==============================] - 1s 19ms/step - loss: 0.2399 - acc: 0.9027 - val_loss: 0.2222 - val_acc: 0.9140\n",
            "Epoch 35/100\n",
            "47/47 [==============================] - 1s 19ms/step - loss: 0.2343 - acc: 0.9100 - val_loss: 0.2174 - val_acc: 0.9180\n",
            "Epoch 36/100\n",
            "47/47 [==============================] - 1s 20ms/step - loss: 0.2250 - acc: 0.9093 - val_loss: 0.2217 - val_acc: 0.9080\n",
            "Epoch 37/100\n",
            "47/47 [==============================] - 1s 20ms/step - loss: 0.2170 - acc: 0.9133 - val_loss: 0.2056 - val_acc: 0.9100\n",
            "Epoch 38/100\n",
            "47/47 [==============================] - 1s 20ms/step - loss: 0.2282 - acc: 0.9080 - val_loss: 0.2119 - val_acc: 0.9080\n",
            "Epoch 39/100\n",
            "47/47 [==============================] - 1s 20ms/step - loss: 0.2251 - acc: 0.9087 - val_loss: 0.2101 - val_acc: 0.9120\n",
            "Epoch 40/100\n",
            "47/47 [==============================] - 1s 20ms/step - loss: 0.2110 - acc: 0.9167 - val_loss: 0.2098 - val_acc: 0.9140\n"
          ]
        }
      ]
    },
    {
      "cell_type": "code",
      "source": [
        "plt.plot(history2.history['loss'], label='Train loss')\n",
        "plt.plot(history2.history['val_loss'], label='Test Loss')\n",
        "plt.legend();"
      ],
      "metadata": {
        "colab": {
          "base_uri": "https://localhost:8080/",
          "height": 265
        },
        "id": "frDmkd0HOCaP",
        "outputId": "587ced3b-d81a-4cc6-c735-b5e28253e294"
      },
      "execution_count": 59,
      "outputs": [
        {
          "output_type": "display_data",
          "data": {
            "text/plain": [
              "<Figure size 432x288 with 1 Axes>"
            ],
            "image/png": "[encoded data removed]"
          },
          "metadata": {
            "needs_background": "light"
          }
        }
      ]
    },
    {
      "cell_type": "code",
      "source": [
        "plt.plot(history2.history['acc'], label='Train accuracy')\n",
        "plt.plot(history2.history['val_acc'], label='Test accuracy')\n",
        "plt.legend();"
      ],
      "metadata": {
        "colab": {
          "base_uri": "https://localhost:8080/",
          "height": 265
        },
        "id": "tXNcEmILOFM9",
        "outputId": "ada41858-307a-4d4d-d333-1975a6a237cd"
      },
      "execution_count": 60,
      "outputs": [
        {
          "output_type": "display_data",
          "data": {
            "text/plain": [
              "<Figure size 432x288 with 1 Axes>"
            ],
            "image/png": "[encoded data removed]"
          },
          "metadata": {
            "needs_background": "light"
          }
        }
      ]
    },
    {
      "cell_type": "markdown",
      "source": [
        "Con esta versión del modelo el accuracy de entrenamiento alcanza 0.90 y el de testeo 0.91."
      ],
      "metadata": {
        "id": "2N1Ia4fbBS81"
      }
    },
    {
      "cell_type": "markdown",
      "source": [
        "A continuación se crea un dataframe con los resultados de accuracy y pérdida del último modelo evaluado. Posteriormente se busca determinar cuantas épocas permiten tener el accuracy más alto."
      ],
      "metadata": {
        "id": "6zMIdyQgBcAy"
      }
    },
    {
      "cell_type": "code",
      "source": [
        "dat = pd.DataFrame(history2.history['acc'], columns = [\"Accuracy\"])\n",
        "dat['Test accuracy']= history2.history['val_acc']\n",
        "dat['Train loss']= history2.history['loss']\n",
        "dat['Test loss']= history2.history['val_loss']\n",
        "\n",
        "dat"
      ],
      "metadata": {
        "colab": {
          "base_uri": "https://localhost:8080/",
          "height": 1000
        },
        "id": "_OtCkhEwPaDB",
        "outputId": "214fbbe2-2a31-4c83-ae52-c1db7b5b23c2"
      },
      "execution_count": 61,
      "outputs": [
        {
          "output_type": "execute_result",
          "data": {
            "text/plain": [
              "    Accuracy  Test accuracy  Train loss  Test loss\n",
              "0   0.330667          0.398    1.438069   1.340987\n",
              "1   0.383333          0.464    1.301673   1.221799\n",
              "2   0.452667          0.538    1.195438   1.093144\n",
              "3   0.520000          0.610    1.085352   0.958942\n",
              "4   0.580000          0.664    0.964052   0.839352\n",
              "5   0.626000          0.712    0.846719   0.738408\n",
              "6   0.663333          0.724    0.759842   0.655377\n",
              "7   0.706667          0.762    0.693078   0.593184\n",
              "8   0.728667          0.794    0.625982   0.542713\n",
              "9   0.768000          0.796    0.575409   0.497000\n",
              "10  0.768000          0.838    0.553068   0.461509\n",
              "11  0.796000          0.848    0.508092   0.429126\n",
              "12  0.808000          0.852    0.478675   0.404349\n",
              "13  0.818667          0.856    0.455201   0.381288\n",
              "14  0.830667          0.854    0.418282   0.362169\n",
              "15  0.836000          0.882    0.405637   0.347820\n",
              "16  0.832000          0.876    0.396408   0.326900\n",
              "17  0.844000          0.880    0.383186   0.310853\n",
              "18  0.857333          0.888    0.367016   0.299556\n",
              "19  0.866000          0.894    0.341965   0.293402\n",
              "20  0.874000          0.896    0.324982   0.284680\n",
              "21  0.872000          0.894    0.324412   0.276365\n",
              "22  0.890000          0.896    0.307649   0.269037\n",
              "23  0.881333          0.910    0.298136   0.259921\n",
              "24  0.888000          0.916    0.286003   0.256192\n",
              "25  0.884000          0.912    0.293919   0.246480\n",
              "26  0.896000          0.902    0.273903   0.253299\n",
              "27  0.895333          0.916    0.278087   0.246059\n",
              "28  0.892000          0.910    0.268689   0.231714\n",
              "29  0.894000          0.910    0.272178   0.231150\n",
              "30  0.899333          0.904    0.253422   0.231731\n",
              "31  0.904667          0.902    0.247501   0.230128\n",
              "32  0.904667          0.910    0.235730   0.234224\n",
              "33  0.902667          0.914    0.239875   0.222202\n",
              "34  0.910000          0.918    0.234286   0.217371\n",
              "35  0.909333          0.908    0.224986   0.221680\n",
              "36  0.913333          0.910    0.217041   0.205635\n",
              "37  0.908000          0.908    0.228178   0.211898\n",
              "38  0.908667          0.912    0.225098   0.210051\n",
              "39  0.916667          0.914    0.211043   0.209846"
            ],
            "text/html": [
              "\n",
              "  <div id=\"df-7af1e2d7-65f2-48c6-91e8-99db57e433f1\">\n",
              "    <div class=\"colab-df-container\">\n",
              "      <div>\n",
              "<style scoped>\n",
              "    .dataframe tbody tr th:only-of-type {\n",
              "        vertical-align: middle;\n",
              "    }\n",
              "\n",
              "    .dataframe tbody tr th {\n",
              "        vertical-align: top;\n",
              "    }\n",
              "\n",
              "    .dataframe thead th {\n",
              "        text-align: right;\n",
              "    }\n",
              "</style>\n",
              "<table border=\"1\" class=\"dataframe\">\n",
              "  <thead>\n",
              "    <tr style=\"text-align: right;\">\n",
              "      <th></th>\n",
              "      <th>Accuracy</th>\n",
              "      <th>Test accuracy</th>\n",
              "      <th>Train loss</th>\n",
              "      <th>Test loss</th>\n",
              "    </tr>\n",
              "  </thead>\n",
              "  <tbody>\n",
              "    <tr>\n",
              "      <th>0</th>\n",
              "      <td>0.330667</td>\n",
              "      <td>0.398</td>\n",
              "      <td>1.438069</td>\n",
              "      <td>1.340987</td>\n",
              "    </tr>\n",
              "    <tr>\n",
              "      <th>1</th>\n",
              "      <td>0.383333</td>\n",
              "      <td>0.464</td>\n",
              "      <td>1.301673</td>\n",
              "      <td>1.221799</td>\n",
              "    </tr>\n",
              "    <tr>\n",
              "      <th>2</th>\n",
              "      <td>0.452667</td>\n",
              "      <td>0.538</td>\n",
              "      <td>1.195438</td>\n",
              "      <td>1.093144</td>\n",
              "    </tr>\n",
              "    <tr>\n",
              "      <th>3</th>\n",
              "      <td>0.520000</td>\n",
              "      <td>0.610</td>\n",
              "      <td>1.085352</td>\n",
              "      <td>0.958942</td>\n",
              "    </tr>\n",
              "    <tr>\n",
              "      <th>4</th>\n",
              "      <td>0.580000</td>\n",
              "      <td>0.664</td>\n",
              "      <td>0.964052</td>\n",
              "      <td>0.839352</td>\n",
              "    </tr>\n",
              "    <tr>\n",
              "      <th>5</th>\n",
              "      <td>0.626000</td>\n",
              "      <td>0.712</td>\n",
              "      <td>0.846719</td>\n",
              "      <td>0.738408</td>\n",
              "    </tr>\n",
              "    <tr>\n",
              "      <th>6</th>\n",
              "      <td>0.663333</td>\n",
              "      <td>0.724</td>\n",
              "      <td>0.759842</td>\n",
              "      <td>0.655377</td>\n",
              "    </tr>\n",
              "    <tr>\n",
              "      <th>7</th>\n",
              "      <td>0.706667</td>\n",
              "      <td>0.762</td>\n",
              "      <td>0.693078</td>\n",
              "      <td>0.593184</td>\n",
              "    </tr>\n",
              "    <tr>\n",
              "      <th>8</th>\n",
              "      <td>0.728667</td>\n",
              "      <td>0.794</td>\n",
              "      <td>0.625982</td>\n",
              "      <td>0.542713</td>\n",
              "    </tr>\n",
              "    <tr>\n",
              "      <th>9</th>\n",
              "      <td>0.768000</td>\n",
              "      <td>0.796</td>\n",
              "      <td>0.575409</td>\n",
              "      <td>0.497000</td>\n",
              "    </tr>\n",
              "    <tr>\n",
              "      <th>10</th>\n",
              "      <td>0.768000</td>\n",
              "      <td>0.838</td>\n",
              "      <td>0.553068</td>\n",
              "      <td>0.461509</td>\n",
              "    </tr>\n",
              "    <tr>\n",
              "      <th>11</th>\n",
              "      <td>0.796000</td>\n",
              "      <td>0.848</td>\n",
              "      <td>0.508092</td>\n",
              "      <td>0.429126</td>\n",
              "    </tr>\n",
              "    <tr>\n",
              "      <th>12</th>\n",
              "      <td>0.808000</td>\n",
              "      <td>0.852</td>\n",
              "      <td>0.478675</td>\n",
              "      <td>0.404349</td>\n",
              "    </tr>\n",
              "    <tr>\n",
              "      <th>13</th>\n",
              "      <td>0.818667</td>\n",
              "      <td>0.856</td>\n",
              "      <td>0.455201</td>\n",
              "      <td>0.381288</td>\n",
              "    </tr>\n",
              "    <tr>\n",
              "      <th>14</th>\n",
              "      <td>0.830667</td>\n",
              "      <td>0.854</td>\n",
              "      <td>0.418282</td>\n",
              "      <td>0.362169</td>\n",
              "    </tr>\n",
              "    <tr>\n",
              "      <th>15</th>\n",
              "      <td>0.836000</td>\n",
              "      <td>0.882</td>\n",
              "      <td>0.405637</td>\n",
              "      <td>0.347820</td>\n",
              "    </tr>\n",
              "    <tr>\n",
              "      <th>16</th>\n",
              "      <td>0.832000</td>\n",
              "      <td>0.876</td>\n",
              "      <td>0.396408</td>\n",
              "      <td>0.326900</td>\n",
              "    </tr>\n",
              "    <tr>\n",
              "      <th>17</th>\n",
              "      <td>0.844000</td>\n",
              "      <td>0.880</td>\n",
              "      <td>0.383186</td>\n",
              "      <td>0.310853</td>\n",
              "    </tr>\n",
              "    <tr>\n",
              "      <th>18</th>\n",
              "      <td>0.857333</td>\n",
              "      <td>0.888</td>\n",
              "      <td>0.367016</td>\n",
              "      <td>0.299556</td>\n",
              "    </tr>\n",
              "    <tr>\n",
              "      <th>19</th>\n",
              "      <td>0.866000</td>\n",
              "      <td>0.894</td>\n",
              "      <td>0.341965</td>\n",
              "      <td>0.293402</td>\n",
              "    </tr>\n",
              "    <tr>\n",
              "      <th>20</th>\n",
              "      <td>0.874000</td>\n",
              "      <td>0.896</td>\n",
              "      <td>0.324982</td>\n",
              "      <td>0.284680</td>\n",
              "    </tr>\n",
              "    <tr>\n",
              "      <th>21</th>\n",
              "      <td>0.872000</td>\n",
              "      <td>0.894</td>\n",
              "      <td>0.324412</td>\n",
              "      <td>0.276365</td>\n",
              "    </tr>\n",
              "    <tr>\n",
              "      <th>22</th>\n",
              "      <td>0.890000</td>\n",
              "      <td>0.896</td>\n",
              "      <td>0.307649</td>\n",
              "      <td>0.269037</td>\n",
              "    </tr>\n",
              "    <tr>\n",
              "      <th>23</th>\n",
              "      <td>0.881333</td>\n",
              "      <td>0.910</td>\n",
              "      <td>0.298136</td>\n",
              "      <td>0.259921</td>\n",
              "    </tr>\n",
              "    <tr>\n",
              "      <th>24</th>\n",
              "      <td>0.888000</td>\n",
              "      <td>0.916</td>\n",
              "      <td>0.286003</td>\n",
              "      <td>0.256192</td>\n",
              "    </tr>\n",
              "    <tr>\n",
              "      <th>25</th>\n",
              "      <td>0.884000</td>\n",
              "      <td>0.912</td>\n",
              "      <td>0.293919</td>\n",
              "      <td>0.246480</td>\n",
              "    </tr>\n",
              "    <tr>\n",
              "      <th>26</th>\n",
              "      <td>0.896000</td>\n",
              "      <td>0.902</td>\n",
              "      <td>0.273903</td>\n",
              "      <td>0.253299</td>\n",
              "    </tr>\n",
              "    <tr>\n",
              "      <th>27</th>\n",
              "      <td>0.895333</td>\n",
              "      <td>0.916</td>\n",
              "      <td>0.278087</td>\n",
              "      <td>0.246059</td>\n",
              "    </tr>\n",
              "    <tr>\n",
              "      <th>28</th>\n",
              "      <td>0.892000</td>\n",
              "      <td>0.910</td>\n",
              "      <td>0.268689</td>\n",
              "      <td>0.231714</td>\n",
              "    </tr>\n",
              "    <tr>\n",
              "      <th>29</th>\n",
              "      <td>0.894000</td>\n",
              "      <td>0.910</td>\n",
              "      <td>0.272178</td>\n",
              "      <td>0.231150</td>\n",
              "    </tr>\n",
              "    <tr>\n",
              "      <th>30</th>\n",
              "      <td>0.899333</td>\n",
              "      <td>0.904</td>\n",
              "      <td>0.253422</td>\n",
              "      <td>0.231731</td>\n",
              "    </tr>\n",
              "    <tr>\n",
              "      <th>31</th>\n",
              "      <td>0.904667</td>\n",
              "      <td>0.902</td>\n",
              "      <td>0.247501</td>\n",
              "      <td>0.230128</td>\n",
              "    </tr>\n",
              "    <tr>\n",
              "      <th>32</th>\n",
              "      <td>0.904667</td>\n",
              "      <td>0.910</td>\n",
              "      <td>0.235730</td>\n",
              "      <td>0.234224</td>\n",
              "    </tr>\n",
              "    <tr>\n",
              "      <th>33</th>\n",
              "      <td>0.902667</td>\n",
              "      <td>0.914</td>\n",
              "      <td>0.239875</td>\n",
              "      <td>0.222202</td>\n",
              "    </tr>\n",
              "    <tr>\n",
              "      <th>34</th>\n",
              "      <td>0.910000</td>\n",
              "      <td>0.918</td>\n",
              "      <td>0.234286</td>\n",
              "      <td>0.217371</td>\n",
              "    </tr>\n",
              "    <tr>\n",
              "      <th>35</th>\n",
              "      <td>0.909333</td>\n",
              "      <td>0.908</td>\n",
              "      <td>0.224986</td>\n",
              "      <td>0.221680</td>\n",
              "    </tr>\n",
              "    <tr>\n",
              "      <th>36</th>\n",
              "      <td>0.913333</td>\n",
              "      <td>0.910</td>\n",
              "      <td>0.217041</td>\n",
              "      <td>0.205635</td>\n",
              "    </tr>\n",
              "    <tr>\n",
              "      <th>37</th>\n",
              "      <td>0.908000</td>\n",
              "      <td>0.908</td>\n",
              "      <td>0.228178</td>\n",
              "      <td>0.211898</td>\n",
              "    </tr>\n",
              "    <tr>\n",
              "      <th>38</th>\n",
              "      <td>0.908667</td>\n",
              "      <td>0.912</td>\n",
              "      <td>0.225098</td>\n",
              "      <td>0.210051</td>\n",
              "    </tr>\n",
              "    <tr>\n",
              "      <th>39</th>\n",
              "      <td>0.916667</td>\n",
              "      <td>0.914</td>\n",
              "      <td>0.211043</td>\n",
              "      <td>0.209846</td>\n",
              "    </tr>\n",
              "  </tbody>\n",
              "</table>\n",
              "</div>\n",
              "      <button class=\"colab-df-convert\" onclick=\"convertToInteractive('df-7af1e2d7-65f2-48c6-91e8-99db57e433f1')\"\n",
              "              title=\"Convert this dataframe to an interactive table.\"\n",
              "              style=\"display:none;\">\n",
              "        \n",
              "  <svg xmlns=\"http://www.w3.org/2000/svg\" height=\"24px\"viewBox=\"0 0 24 24\"\n",
              "       width=\"24px\">\n",
              "    <path d=\"M0 0h24v24H0V0z\" fill=\"none\"/>\n",
              "    <path d=\"M18.56 5.44l.94 2.06.94-2.06 2.06-.94-2.06-.94-.94-2.06-.94 2.06-2.06.94zm-11 1L8.5 8.5l.94-2.06 2.06-.94-2.06-.94L8.5 2.5l-.94 2.06-2.06.94zm10 10l.94 2.06.94-2.06 2.06-.94-2.06-.94-.94-2.06-.94 2.06-2.06.94z\"/><path d=\"M17.41 7.96l-1.37-1.37c-.4-.4-.92-.59-1.43-.59-.52 0-1.04.2-1.43.59L10.3 9.45l-7.72 7.72c-.78.78-.78 2.05 0 2.83L4 21.41c.39.39.9.59 1.41.59.51 0 1.02-.2 1.41-.59l7.78-7.78 2.81-2.81c.8-.78.8-2.07 0-2.86zM5.41 20L4 18.59l7.72-7.72 1.47 1.35L5.41 20z\"/>\n",
              "  </svg>\n",
              "      </button>\n",
              "      \n",
              "  <style>\n",
              "    .colab-df-container {\n",
              "      display:flex;\n",
              "      flex-wrap:wrap;\n",
              "      gap: 12px;\n",
              "    }\n",
              "\n",
              "    .colab-df-convert {\n",
              "      background-color: #E8F0FE;\n",
              "      border: none;\n",
              "      border-radius: 50%;\n",
              "      cursor: pointer;\n",
              "      display: none;\n",
              "      fill: #1967D2;\n",
              "      height: 32px;\n",
              "      padding: 0 0 0 0;\n",
              "      width: 32px;\n",
              "    }\n",
              "\n",
              "    .colab-df-convert:hover {\n",
              "      background-color: #E2EBFA;\n",
              "      box-shadow: 0px 1px 2px rgba(60, 64, 67, 0.3), 0px 1px 3px 1px rgba(60, 64, 67, 0.15);\n",
              "      fill: #174EA6;\n",
              "    }\n",
              "\n",
              "    [theme=dark] .colab-df-convert {\n",
              "      background-color: #3B4455;\n",
              "      fill: #D2E3FC;\n",
              "    }\n",
              "\n",
              "    [theme=dark] .colab-df-convert:hover {\n",
              "      background-color: #434B5C;\n",
              "      box-shadow: 0px 1px 3px 1px rgba(0, 0, 0, 0.15);\n",
              "      filter: drop-shadow(0px 1px 2px rgba(0, 0, 0, 0.3));\n",
              "      fill: #FFFFFF;\n",
              "    }\n",
              "  </style>\n",
              "\n",
              "      <script>\n",
              "        const buttonEl =\n",
              "          document.querySelector('#df-7af1e2d7-65f2-48c6-91e8-99db57e433f1 button.colab-df-convert');\n",
              "        buttonEl.style.display =\n",
              "          google.colab.kernel.accessAllowed ? 'block' : 'none';\n",
              "\n",
              "        async function convertToInteractive(key) {\n",
              "          const element = document.querySelector('#df-7af1e2d7-65f2-48c6-91e8-99db57e433f1');\n",
              "          const dataTable =\n",
              "            await google.colab.kernel.invokeFunction('convertToInteractive',\n",
              "                                                     [key], {});\n",
              "          if (!dataTable) return;\n",
              "\n",
              "          const docLinkHtml = 'Like what you see? Visit the ' +\n",
              "            '<a target=\"_blank\" href=https://colab.research.google.com/notebooks/data_table.ipynb>data table notebook</a>'\n",
              "            + ' to learn more about interactive tables.';\n",
              "          element.innerHTML = '';\n",
              "          dataTable['output_type'] = 'display_data';\n",
              "          await google.colab.output.renderOutput(dataTable, element);\n",
              "          const docLink = document.createElement('div');\n",
              "          docLink.innerHTML = docLinkHtml;\n",
              "          element.appendChild(docLink);\n",
              "        }\n",
              "      </script>\n",
              "    </div>\n",
              "  </div>\n",
              "  "
            ]
          },
          "metadata": {},
          "execution_count": 61
        }
      ]
    },
    {
      "cell_type": "code",
      "source": [
        "dat.max()"
      ],
      "metadata": {
        "colab": {
          "base_uri": "https://localhost:8080/"
        },
        "id": "jG0oczZAbfvS",
        "outputId": "7a89a43f-8ce0-4f16-df74-0b48c56ffbe4"
      },
      "execution_count": 62,
      "outputs": [
        {
          "output_type": "execute_result",
          "data": {
            "text/plain": [
              "Accuracy         0.916667\n",
              "Test accuracy    0.918000\n",
              "Train loss       1.438069\n",
              "Test loss        1.340987\n",
              "dtype: float64"
            ]
          },
          "metadata": {},
          "execution_count": 62
        }
      ]
    },
    {
      "cell_type": "code",
      "source": [
        "dat[dat[\"Accuracy\"]== dat[\"Accuracy\"].max()]"
      ],
      "metadata": {
        "colab": {
          "base_uri": "https://localhost:8080/",
          "height": 81
        },
        "id": "OU_dvJpSbg2q",
        "outputId": "38bbc57c-f89b-44f0-c351-66ac8058d266"
      },
      "execution_count": 63,
      "outputs": [
        {
          "output_type": "execute_result",
          "data": {
            "text/plain": [
              "    Accuracy  Test accuracy  Train loss  Test loss\n",
              "39  0.916667          0.914    0.211043   0.209846"
            ],
            "text/html": [
              "\n",
              "  <div id=\"df-7c1c0d36-c131-43f2-9ae3-062bccab745c\">\n",
              "    <div class=\"colab-df-container\">\n",
              "      <div>\n",
              "<style scoped>\n",
              "    .dataframe tbody tr th:only-of-type {\n",
              "        vertical-align: middle;\n",
              "    }\n",
              "\n",
              "    .dataframe tbody tr th {\n",
              "        vertical-align: top;\n",
              "    }\n",
              "\n",
              "    .dataframe thead th {\n",
              "        text-align: right;\n",
              "    }\n",
              "</style>\n",
              "<table border=\"1\" class=\"dataframe\">\n",
              "  <thead>\n",
              "    <tr style=\"text-align: right;\">\n",
              "      <th></th>\n",
              "      <th>Accuracy</th>\n",
              "      <th>Test accuracy</th>\n",
              "      <th>Train loss</th>\n",
              "      <th>Test loss</th>\n",
              "    </tr>\n",
              "  </thead>\n",
              "  <tbody>\n",
              "    <tr>\n",
              "      <th>39</th>\n",
              "      <td>0.916667</td>\n",
              "      <td>0.914</td>\n",
              "      <td>0.211043</td>\n",
              "      <td>0.209846</td>\n",
              "    </tr>\n",
              "  </tbody>\n",
              "</table>\n",
              "</div>\n",
              "      <button class=\"colab-df-convert\" onclick=\"convertToInteractive('df-7c1c0d36-c131-43f2-9ae3-062bccab745c')\"\n",
              "              title=\"Convert this dataframe to an interactive table.\"\n",
              "              style=\"display:none;\">\n",
              "        \n",
              "  <svg xmlns=\"http://www.w3.org/2000/svg\" height=\"24px\"viewBox=\"0 0 24 24\"\n",
              "       width=\"24px\">\n",
              "    <path d=\"M0 0h24v24H0V0z\" fill=\"none\"/>\n",
              "    <path d=\"M18.56 5.44l.94 2.06.94-2.06 2.06-.94-2.06-.94-.94-2.06-.94 2.06-2.06.94zm-11 1L8.5 8.5l.94-2.06 2.06-.94-2.06-.94L8.5 2.5l-.94 2.06-2.06.94zm10 10l.94 2.06.94-2.06 2.06-.94-2.06-.94-.94-2.06-.94 2.06-2.06.94z\"/><path d=\"M17.41 7.96l-1.37-1.37c-.4-.4-.92-.59-1.43-.59-.52 0-1.04.2-1.43.59L10.3 9.45l-7.72 7.72c-.78.78-.78 2.05 0 2.83L4 21.41c.39.39.9.59 1.41.59.51 0 1.02-.2 1.41-.59l7.78-7.78 2.81-2.81c.8-.78.8-2.07 0-2.86zM5.41 20L4 18.59l7.72-7.72 1.47 1.35L5.41 20z\"/>\n",
              "  </svg>\n",
              "      </button>\n",
              "      \n",
              "  <style>\n",
              "    .colab-df-container {\n",
              "      display:flex;\n",
              "      flex-wrap:wrap;\n",
              "      gap: 12px;\n",
              "    }\n",
              "\n",
              "    .colab-df-convert {\n",
              "      background-color: #E8F0FE;\n",
              "      border: none;\n",
              "      border-radius: 50%;\n",
              "      cursor: pointer;\n",
              "      display: none;\n",
              "      fill: #1967D2;\n",
              "      height: 32px;\n",
              "      padding: 0 0 0 0;\n",
              "      width: 32px;\n",
              "    }\n",
              "\n",
              "    .colab-df-convert:hover {\n",
              "      background-color: #E2EBFA;\n",
              "      box-shadow: 0px 1px 2px rgba(60, 64, 67, 0.3), 0px 1px 3px 1px rgba(60, 64, 67, 0.15);\n",
              "      fill: #174EA6;\n",
              "    }\n",
              "\n",
              "    [theme=dark] .colab-df-convert {\n",
              "      background-color: #3B4455;\n",
              "      fill: #D2E3FC;\n",
              "    }\n",
              "\n",
              "    [theme=dark] .colab-df-convert:hover {\n",
              "      background-color: #434B5C;\n",
              "      box-shadow: 0px 1px 3px 1px rgba(0, 0, 0, 0.15);\n",
              "      filter: drop-shadow(0px 1px 2px rgba(0, 0, 0, 0.3));\n",
              "      fill: #FFFFFF;\n",
              "    }\n",
              "  </style>\n",
              "\n",
              "      <script>\n",
              "        const buttonEl =\n",
              "          document.querySelector('#df-7c1c0d36-c131-43f2-9ae3-062bccab745c button.colab-df-convert');\n",
              "        buttonEl.style.display =\n",
              "          google.colab.kernel.accessAllowed ? 'block' : 'none';\n",
              "\n",
              "        async function convertToInteractive(key) {\n",
              "          const element = document.querySelector('#df-7c1c0d36-c131-43f2-9ae3-062bccab745c');\n",
              "          const dataTable =\n",
              "            await google.colab.kernel.invokeFunction('convertToInteractive',\n",
              "                                                     [key], {});\n",
              "          if (!dataTable) return;\n",
              "\n",
              "          const docLinkHtml = 'Like what you see? Visit the ' +\n",
              "            '<a target=\"_blank\" href=https://colab.research.google.com/notebooks/data_table.ipynb>data table notebook</a>'\n",
              "            + ' to learn more about interactive tables.';\n",
              "          element.innerHTML = '';\n",
              "          dataTable['output_type'] = 'display_data';\n",
              "          await google.colab.output.renderOutput(dataTable, element);\n",
              "          const docLink = document.createElement('div');\n",
              "          docLink.innerHTML = docLinkHtml;\n",
              "          element.appendChild(docLink);\n",
              "        }\n",
              "      </script>\n",
              "    </div>\n",
              "  </div>\n",
              "  "
            ]
          },
          "metadata": {},
          "execution_count": 63
        }
      ]
    },
    {
      "cell_type": "code",
      "source": [
        "dat[dat[\"Test accuracy\"]== dat[\"Test accuracy\"].max()]"
      ],
      "metadata": {
        "colab": {
          "base_uri": "https://localhost:8080/",
          "height": 81
        },
        "id": "_mNlqIavbsoj",
        "outputId": "03be0765-e8bf-407d-a884-28f4bbe632db"
      },
      "execution_count": 64,
      "outputs": [
        {
          "output_type": "execute_result",
          "data": {
            "text/plain": [
              "    Accuracy  Test accuracy  Train loss  Test loss\n",
              "34      0.91          0.918    0.234286   0.217371"
            ],
            "text/html": [
              "\n",
              "  <div id=\"df-c5b3ed28-795a-43ff-8bf6-fe2c48353d09\">\n",
              "    <div class=\"colab-df-container\">\n",
              "      <div>\n",
              "<style scoped>\n",
              "    .dataframe tbody tr th:only-of-type {\n",
              "        vertical-align: middle;\n",
              "    }\n",
              "\n",
              "    .dataframe tbody tr th {\n",
              "        vertical-align: top;\n",
              "    }\n",
              "\n",
              "    .dataframe thead th {\n",
              "        text-align: right;\n",
              "    }\n",
              "</style>\n",
              "<table border=\"1\" class=\"dataframe\">\n",
              "  <thead>\n",
              "    <tr style=\"text-align: right;\">\n",
              "      <th></th>\n",
              "      <th>Accuracy</th>\n",
              "      <th>Test accuracy</th>\n",
              "      <th>Train loss</th>\n",
              "      <th>Test loss</th>\n",
              "    </tr>\n",
              "  </thead>\n",
              "  <tbody>\n",
              "    <tr>\n",
              "      <th>34</th>\n",
              "      <td>0.91</td>\n",
              "      <td>0.918</td>\n",
              "      <td>0.234286</td>\n",
              "      <td>0.217371</td>\n",
              "    </tr>\n",
              "  </tbody>\n",
              "</table>\n",
              "</div>\n",
              "      <button class=\"colab-df-convert\" onclick=\"convertToInteractive('df-c5b3ed28-795a-43ff-8bf6-fe2c48353d09')\"\n",
              "              title=\"Convert this dataframe to an interactive table.\"\n",
              "              style=\"display:none;\">\n",
              "        \n",
              "  <svg xmlns=\"http://www.w3.org/2000/svg\" height=\"24px\"viewBox=\"0 0 24 24\"\n",
              "       width=\"24px\">\n",
              "    <path d=\"M0 0h24v24H0V0z\" fill=\"none\"/>\n",
              "    <path d=\"M18.56 5.44l.94 2.06.94-2.06 2.06-.94-2.06-.94-.94-2.06-.94 2.06-2.06.94zm-11 1L8.5 8.5l.94-2.06 2.06-.94-2.06-.94L8.5 2.5l-.94 2.06-2.06.94zm10 10l.94 2.06.94-2.06 2.06-.94-2.06-.94-.94-2.06-.94 2.06-2.06.94z\"/><path d=\"M17.41 7.96l-1.37-1.37c-.4-.4-.92-.59-1.43-.59-.52 0-1.04.2-1.43.59L10.3 9.45l-7.72 7.72c-.78.78-.78 2.05 0 2.83L4 21.41c.39.39.9.59 1.41.59.51 0 1.02-.2 1.41-.59l7.78-7.78 2.81-2.81c.8-.78.8-2.07 0-2.86zM5.41 20L4 18.59l7.72-7.72 1.47 1.35L5.41 20z\"/>\n",
              "  </svg>\n",
              "      </button>\n",
              "      \n",
              "  <style>\n",
              "    .colab-df-container {\n",
              "      display:flex;\n",
              "      flex-wrap:wrap;\n",
              "      gap: 12px;\n",
              "    }\n",
              "\n",
              "    .colab-df-convert {\n",
              "      background-color: #E8F0FE;\n",
              "      border: none;\n",
              "      border-radius: 50%;\n",
              "      cursor: pointer;\n",
              "      display: none;\n",
              "      fill: #1967D2;\n",
              "      height: 32px;\n",
              "      padding: 0 0 0 0;\n",
              "      width: 32px;\n",
              "    }\n",
              "\n",
              "    .colab-df-convert:hover {\n",
              "      background-color: #E2EBFA;\n",
              "      box-shadow: 0px 1px 2px rgba(60, 64, 67, 0.3), 0px 1px 3px 1px rgba(60, 64, 67, 0.15);\n",
              "      fill: #174EA6;\n",
              "    }\n",
              "\n",
              "    [theme=dark] .colab-df-convert {\n",
              "      background-color: #3B4455;\n",
              "      fill: #D2E3FC;\n",
              "    }\n",
              "\n",
              "    [theme=dark] .colab-df-convert:hover {\n",
              "      background-color: #434B5C;\n",
              "      box-shadow: 0px 1px 3px 1px rgba(0, 0, 0, 0.15);\n",
              "      filter: drop-shadow(0px 1px 2px rgba(0, 0, 0, 0.3));\n",
              "      fill: #FFFFFF;\n",
              "    }\n",
              "  </style>\n",
              "\n",
              "      <script>\n",
              "        const buttonEl =\n",
              "          document.querySelector('#df-c5b3ed28-795a-43ff-8bf6-fe2c48353d09 button.colab-df-convert');\n",
              "        buttonEl.style.display =\n",
              "          google.colab.kernel.accessAllowed ? 'block' : 'none';\n",
              "\n",
              "        async function convertToInteractive(key) {\n",
              "          const element = document.querySelector('#df-c5b3ed28-795a-43ff-8bf6-fe2c48353d09');\n",
              "          const dataTable =\n",
              "            await google.colab.kernel.invokeFunction('convertToInteractive',\n",
              "                                                     [key], {});\n",
              "          if (!dataTable) return;\n",
              "\n",
              "          const docLinkHtml = 'Like what you see? Visit the ' +\n",
              "            '<a target=\"_blank\" href=https://colab.research.google.com/notebooks/data_table.ipynb>data table notebook</a>'\n",
              "            + ' to learn more about interactive tables.';\n",
              "          element.innerHTML = '';\n",
              "          dataTable['output_type'] = 'display_data';\n",
              "          await google.colab.output.renderOutput(dataTable, element);\n",
              "          const docLink = document.createElement('div');\n",
              "          docLink.innerHTML = docLinkHtml;\n",
              "          element.appendChild(docLink);\n",
              "        }\n",
              "      </script>\n",
              "    </div>\n",
              "  </div>\n",
              "  "
            ]
          },
          "metadata": {},
          "execution_count": 64
        }
      ]
    },
    {
      "cell_type": "markdown",
      "source": [
        "Finalmente el máximo test accuracy se obtiene con 34 épocas. Este es el valor que se utilizará para este modelo."
      ],
      "metadata": {
        "id": "ejEJfDrbBrIe"
      }
    },
    {
      "cell_type": "code",
      "source": [
        "#Definición tipo de modelo\n",
        "modelo_final = Sequential()\n",
        "\n",
        "#Capas olcutas\n",
        "#Primera capa. Se usan 20 neuronas (igual a la cantidad de categorías de los datos), se usa una capa densa (totalmente conectada) y la función de activación relu\n",
        "modelo_final.add(Dense(20, \n",
        "                  input_dim = input_shape,\n",
        "                  activation = \"relu\"))\n",
        "modelo_final.add(Dropout(.2)) #Se agrega un dropout del 20% para la primera capa oculta\n",
        "\n",
        "\n",
        "#Segunda capa. Se usan 20 neuronas , se usa una capa densa (totalmente conectada) y la función de activación relu.\n",
        "modelo_final.add(Dense(20, \n",
        "                  activation = \"relu\"))\n",
        "\n",
        "\n",
        "#Capa de salida\n",
        "modelo_final.add(Dense(4,\n",
        "                  activation = \"sigmoid\"))\n",
        "\n",
        "modelo_final.compile(loss = 'categorical_crossentropy', optimizer = 'adam', metrics = ['acc'])\n",
        "\n",
        "early_stopping = EarlyStopping(patience = 3)\n",
        "history_final= modelo_final.fit(X_train_scaled, y_train_cat,\n",
        "                    validation_data = (X_test_scaled, y_test_cat), \n",
        "                    epochs=34,\n",
        "                    callbacks = [early_stopping])"
      ],
      "metadata": {
        "colab": {
          "base_uri": "https://localhost:8080/"
        },
        "id": "cHa45NkYcC_3",
        "outputId": "7c08eea0-edea-425d-c9ce-8a1c428449d8"
      },
      "execution_count": 65,
      "outputs": [
        {
          "output_type": "stream",
          "name": "stdout",
          "text": [
            "Epoch 1/34\n",
            " 4/47 [=>............................] - ETA: 0s - loss: 1.5147 - acc: 0.2734"
          ]
        },
        {
          "output_type": "stream",
          "name": "stderr",
          "text": [
            "/usr/local/lib/python3.8/dist-packages/tensorflow/python/data/ops/structured_function.py:264: UserWarning: Even though the `tf.config.experimental_run_functions_eagerly` option is set, this option does not apply to tf.data functions. To force eager execution of tf.data functions, please use `tf.data.experimental.enable_debug_mode()`.\n",
            "  warnings.warn(\n"
          ]
        },
        {
          "output_type": "stream",
          "name": "stdout",
          "text": [
            "47/47 [==============================] - 1s 23ms/step - loss: 1.4139 - acc: 0.3047 - val_loss: 1.3235 - val_acc: 0.3240\n",
            "Epoch 2/34\n",
            "47/47 [==============================] - 1s 19ms/step - loss: 1.2893 - acc: 0.3993 - val_loss: 1.2363 - val_acc: 0.4420\n",
            "Epoch 3/34\n",
            "47/47 [==============================] - 1s 19ms/step - loss: 1.2075 - acc: 0.4487 - val_loss: 1.1405 - val_acc: 0.5120\n",
            "Epoch 4/34\n",
            "47/47 [==============================] - 1s 19ms/step - loss: 1.0964 - acc: 0.5080 - val_loss: 1.0268 - val_acc: 0.5580\n",
            "Epoch 5/34\n",
            "47/47 [==============================] - 1s 20ms/step - loss: 0.9933 - acc: 0.5687 - val_loss: 0.9129 - val_acc: 0.6120\n",
            "Epoch 6/34\n",
            "47/47 [==============================] - 1s 19ms/step - loss: 0.9068 - acc: 0.6060 - val_loss: 0.8091 - val_acc: 0.6600\n",
            "Epoch 7/34\n",
            "47/47 [==============================] - 1s 26ms/step - loss: 0.8231 - acc: 0.6227 - val_loss: 0.7289 - val_acc: 0.6900\n",
            "Epoch 8/34\n",
            "47/47 [==============================] - 1s 23ms/step - loss: 0.7494 - acc: 0.6820 - val_loss: 0.6587 - val_acc: 0.7300\n",
            "Epoch 9/34\n",
            "47/47 [==============================] - 1s 19ms/step - loss: 0.6853 - acc: 0.7000 - val_loss: 0.5985 - val_acc: 0.7580\n",
            "Epoch 10/34\n",
            "47/47 [==============================] - 1s 19ms/step - loss: 0.6436 - acc: 0.7193 - val_loss: 0.5500 - val_acc: 0.7840\n",
            "Epoch 11/34\n",
            "47/47 [==============================] - 1s 19ms/step - loss: 0.5806 - acc: 0.7440 - val_loss: 0.5106 - val_acc: 0.8180\n",
            "Epoch 12/34\n",
            "47/47 [==============================] - 1s 18ms/step - loss: 0.5411 - acc: 0.7833 - val_loss: 0.4685 - val_acc: 0.8260\n",
            "Epoch 13/34\n",
            "47/47 [==============================] - 1s 22ms/step - loss: 0.5188 - acc: 0.7780 - val_loss: 0.4350 - val_acc: 0.8360\n",
            "Epoch 14/34\n",
            "47/47 [==============================] - 1s 19ms/step - loss: 0.4885 - acc: 0.8013 - val_loss: 0.4092 - val_acc: 0.8420\n",
            "Epoch 15/34\n",
            "47/47 [==============================] - 1s 19ms/step - loss: 0.4618 - acc: 0.8087 - val_loss: 0.3857 - val_acc: 0.8580\n",
            "Epoch 16/34\n",
            "47/47 [==============================] - 1s 19ms/step - loss: 0.4455 - acc: 0.8080 - val_loss: 0.3735 - val_acc: 0.8560\n",
            "Epoch 17/34\n",
            "47/47 [==============================] - 1s 19ms/step - loss: 0.4125 - acc: 0.8393 - val_loss: 0.3582 - val_acc: 0.8620\n",
            "Epoch 18/34\n",
            "47/47 [==============================] - 1s 19ms/step - loss: 0.3971 - acc: 0.8367 - val_loss: 0.3382 - val_acc: 0.8640\n",
            "Epoch 19/34\n",
            "47/47 [==============================] - 1s 25ms/step - loss: 0.3668 - acc: 0.8427 - val_loss: 0.3176 - val_acc: 0.8760\n",
            "Epoch 20/34\n",
            "47/47 [==============================] - 1s 25ms/step - loss: 0.3638 - acc: 0.8460 - val_loss: 0.3058 - val_acc: 0.8780\n",
            "Epoch 21/34\n",
            "47/47 [==============================] - 1s 23ms/step - loss: 0.3497 - acc: 0.8633 - val_loss: 0.2972 - val_acc: 0.8640\n",
            "Epoch 22/34\n",
            "47/47 [==============================] - 1s 19ms/step - loss: 0.3296 - acc: 0.8667 - val_loss: 0.2866 - val_acc: 0.8780\n",
            "Epoch 23/34\n",
            "47/47 [==============================] - 1s 19ms/step - loss: 0.3098 - acc: 0.8753 - val_loss: 0.2763 - val_acc: 0.8880\n",
            "Epoch 24/34\n",
            "47/47 [==============================] - 1s 26ms/step - loss: 0.3150 - acc: 0.8753 - val_loss: 0.2691 - val_acc: 0.8820\n",
            "Epoch 25/34\n",
            "47/47 [==============================] - 1s 26ms/step - loss: 0.2897 - acc: 0.8860 - val_loss: 0.2617 - val_acc: 0.8980\n",
            "Epoch 26/34\n",
            "47/47 [==============================] - 1s 22ms/step - loss: 0.2781 - acc: 0.8813 - val_loss: 0.2550 - val_acc: 0.8960\n",
            "Epoch 27/34\n",
            "47/47 [==============================] - 1s 19ms/step - loss: 0.2719 - acc: 0.8900 - val_loss: 0.2561 - val_acc: 0.8960\n",
            "Epoch 28/34\n",
            "47/47 [==============================] - 1s 19ms/step - loss: 0.2785 - acc: 0.8853 - val_loss: 0.2491 - val_acc: 0.9000\n",
            "Epoch 29/34\n",
            "47/47 [==============================] - 1s 19ms/step - loss: 0.2726 - acc: 0.8833 - val_loss: 0.2426 - val_acc: 0.9080\n",
            "Epoch 30/34\n",
            "47/47 [==============================] - 1s 22ms/step - loss: 0.2534 - acc: 0.9007 - val_loss: 0.2465 - val_acc: 0.8980\n",
            "Epoch 31/34\n",
            "47/47 [==============================] - 1s 18ms/step - loss: 0.2609 - acc: 0.8947 - val_loss: 0.2369 - val_acc: 0.9020\n",
            "Epoch 32/34\n",
            "47/47 [==============================] - 1s 19ms/step - loss: 0.2504 - acc: 0.9007 - val_loss: 0.2319 - val_acc: 0.8980\n",
            "Epoch 33/34\n",
            "47/47 [==============================] - 1s 19ms/step - loss: 0.2531 - acc: 0.8913 - val_loss: 0.2285 - val_acc: 0.9000\n",
            "Epoch 34/34\n",
            "47/47 [==============================] - 1s 19ms/step - loss: 0.2529 - acc: 0.8947 - val_loss: 0.2349 - val_acc: 0.8980\n"
          ]
        }
      ]
    },
    {
      "cell_type": "markdown",
      "source": [
        "###Elección de modelo"
      ],
      "metadata": {
        "id": "u0ze_64xb95f"
      }
    },
    {
      "cell_type": "markdown",
      "source": [
        "Considerando todo lo realizado hasta ahora, se decide utilizar el modelo de la red neuronal con 34 épocas para la resolución del problema. Esta decisión se toma ya que se obtienen valores de accuracy para los datos de testeo muy similares que en los otros modelos, pero los valores de accuracy de los datos de entrenamiento son más consistentes. El modelo está menos sobreajustado que los otros probados. "
      ],
      "metadata": {
        "id": "xRxy6YQ5CS5A"
      }
    }
  ]
}